{
 "cells": [
  {
   "cell_type": "code",
   "execution_count": 36,
   "metadata": {},
   "outputs": [],
   "source": [
    "import pandas as pd\n",
    "import numpy as np\n",
    "from rec_base import Metrics\n",
    "import gc"
   ]
  },
  {
   "cell_type": "markdown",
   "metadata": {},
   "source": [
    "## Data completeness"
   ]
  },
  {
   "cell_type": "code",
   "execution_count": 18,
   "metadata": {},
   "outputs": [],
   "source": [
    "df_clicks_t = pd.read_parquet(\"data/otto_exploded_dataset/clicks/test\")\n",
    "df_carts_t = pd.read_parquet(\"data/otto_exploded_dataset/carts/test\")\n",
    "df_orders_t = pd.read_parquet(\"data/otto_exploded_dataset/orders/test\")"
   ]
  },
  {
   "cell_type": "code",
   "execution_count": 19,
   "metadata": {},
   "outputs": [
    {
     "data": {
      "text/html": [
       "<div>\n",
       "<style scoped>\n",
       "    .dataframe tbody tr th:only-of-type {\n",
       "        vertical-align: middle;\n",
       "    }\n",
       "\n",
       "    .dataframe tbody tr th {\n",
       "        vertical-align: top;\n",
       "    }\n",
       "\n",
       "    .dataframe thead th {\n",
       "        text-align: right;\n",
       "    }\n",
       "</style>\n",
       "<table border=\"1\" class=\"dataframe\">\n",
       "  <thead>\n",
       "    <tr style=\"text-align: right;\">\n",
       "      <th></th>\n",
       "      <th>session</th>\n",
       "      <th>aid</th>\n",
       "      <th>ts</th>\n",
       "      <th>type</th>\n",
       "    </tr>\n",
       "  </thead>\n",
       "  <tbody>\n",
       "    <tr>\n",
       "      <th>79</th>\n",
       "      <td>0</td>\n",
       "      <td>1707783</td>\n",
       "      <td>1660397387901</td>\n",
       "      <td>clicks</td>\n",
       "    </tr>\n",
       "    <tr>\n",
       "      <th>80</th>\n",
       "      <td>0</td>\n",
       "      <td>1624436</td>\n",
       "      <td>1660427603773</td>\n",
       "      <td>clicks</td>\n",
       "    </tr>\n",
       "    <tr>\n",
       "      <th>81</th>\n",
       "      <td>0</td>\n",
       "      <td>1157411</td>\n",
       "      <td>1660427638022</td>\n",
       "      <td>clicks</td>\n",
       "    </tr>\n",
       "    <tr>\n",
       "      <th>82</th>\n",
       "      <td>0</td>\n",
       "      <td>358305</td>\n",
       "      <td>1660427747431</td>\n",
       "      <td>clicks</td>\n",
       "    </tr>\n",
       "    <tr>\n",
       "      <th>83</th>\n",
       "      <td>0</td>\n",
       "      <td>1202970</td>\n",
       "      <td>1660487679331</td>\n",
       "      <td>clicks</td>\n",
       "    </tr>\n",
       "  </tbody>\n",
       "</table>\n",
       "</div>"
      ],
      "text/plain": [
       "    session      aid             ts    type\n",
       "79        0  1707783  1660397387901  clicks\n",
       "80        0  1624436  1660427603773  clicks\n",
       "81        0  1157411  1660427638022  clicks\n",
       "82        0   358305  1660427747431  clicks\n",
       "83        0  1202970  1660487679331  clicks"
      ]
     },
     "execution_count": 19,
     "metadata": {},
     "output_type": "execute_result"
    }
   ],
   "source": [
    "df_clicks_t.head()"
   ]
  },
  {
   "cell_type": "code",
   "execution_count": 20,
   "metadata": {},
   "outputs": [],
   "source": [
    "def set_ranks(df: pd.DataFrame):\n",
    "    df_c = df.copy()\n",
    "    df_c[\"rank\"] = df_c.groupby(\"session\")[\"ts\"].rank(method=\"first\", ascending=True)\n",
    "    return df_c[[\"session\", \"aid\", \"rank\"]]"
   ]
  },
  {
   "cell_type": "code",
   "execution_count": 21,
   "metadata": {},
   "outputs": [],
   "source": [
    "df_clicks_r = set_ranks(df_clicks_t)\n",
    "df_carts_r = set_ranks(df_carts_t)\n",
    "df_orders_r = set_ranks(df_orders_t)"
   ]
  },
  {
   "cell_type": "code",
   "execution_count": 22,
   "metadata": {},
   "outputs": [],
   "source": [
    "def rank_stat(df_r: pd.DataFrame, ks: list):\n",
    "    df_mr = df_r.groupby(\"session\").agg(\"max\")[\"rank\"]\n",
    "    for k in ks:\n",
    "        cnt_me = len(df_mr[df_mr >= k])\n",
    "        print(f\"Users with more than {k} test items: {cnt_me} ({round(cnt_me / len(df_mr) * 100, 2)}%)\")"
   ]
  },
  {
   "cell_type": "code",
   "execution_count": 23,
   "metadata": {},
   "outputs": [
    {
     "name": "stdout",
     "output_type": "stream",
     "text": [
      "Users with more than 3 test items: 187014 (65.87%)\n",
      "Users with more than 5 test items: 144337 (50.84%)\n",
      "Users with more than 10 test items: 91221 (32.13%)\n",
      "Users with more than 20 test items: 46619 (16.42%)\n"
     ]
    }
   ],
   "source": [
    "rank_stat(df_clicks_r, [3, 5, 10, 20])"
   ]
  },
  {
   "cell_type": "code",
   "execution_count": 24,
   "metadata": {},
   "outputs": [
    {
     "name": "stdout",
     "output_type": "stream",
     "text": [
      "Users with more than 3 test items: 29741 (38.89%)\n",
      "Users with more than 5 test items: 14984 (19.59%)\n",
      "Users with more than 10 test items: 4225 (5.52%)\n",
      "Users with more than 20 test items: 622 (0.81%)\n"
     ]
    }
   ],
   "source": [
    "rank_stat(df_carts_r, [3, 5, 10, 20])"
   ]
  },
  {
   "cell_type": "code",
   "execution_count": 25,
   "metadata": {},
   "outputs": [
    {
     "name": "stdout",
     "output_type": "stream",
     "text": [
      "Users with more than 3 test items: 7770 (25.77%)\n",
      "Users with more than 5 test items: 3150 (10.45%)\n",
      "Users with more than 10 test items: 576 (1.91%)\n",
      "Users with more than 20 test items: 55 (0.18%)\n"
     ]
    }
   ],
   "source": [
    "rank_stat(df_orders_r, [3, 5, 10, 20])"
   ]
  },
  {
   "cell_type": "markdown",
   "metadata": {},
   "source": [
    "# Metrics"
   ]
  },
  {
   "cell_type": "code",
   "execution_count": 27,
   "metadata": {},
   "outputs": [],
   "source": [
    "K_RECS = 200\n",
    "K_TEST = 5"
   ]
  },
  {
   "cell_type": "code",
   "execution_count": 26,
   "metadata": {},
   "outputs": [],
   "source": [
    "def prepare_data(df_test: pd.DataFrame, df_recs: pd.DataFrame, k_test, k_recs):\n",
    "    valid_session = np.intersect1d(\n",
    "        df_test[\"session\"].unique(),\n",
    "        df_recs[\"session\"].unique()\n",
    "    )\n",
    "\n",
    "    df_test_l = set_ranks(df_test)\n",
    "    df_test_l = df_test_l[df_test_l[\"session\"].isin(valid_session)]\n",
    "    df_test_l = df_test_l[df_test_l[\"rank\"] <= k_test]\n",
    "    df_test_l = df_test_l.groupby(\"session\")[\"aid\"].apply(list).reset_index().sort_values(\"session\")\n",
    "\n",
    "    df_test_l[\"aid\"] = (\n",
    "        df_test_l[\"aid\"]\n",
    "        .apply(lambda x: np.pad(\n",
    "            x[:k_test],\n",
    "            (0, max(k_test - len(x), 0)),\n",
    "            mode=\"constant\",\n",
    "            constant_values=-1\n",
    "        ))\n",
    "    )\n",
    "    test = np.stack(df_test_l[\"aid\"].values, axis=0)\n",
    "\n",
    "    df_recs_l = df_recs[df_recs[\"session\"].isin(valid_session)]\n",
    "    df_recs_l[\"aid\"] = df_recs_l[\"aid\"].apply(lambda x: np.array(x[:k_recs]))\n",
    "    df_recs_l = df_recs_l.sort_values(\"session\")\n",
    "    recs = np.stack(df_recs_l[\"aid\"].values, axis=0)\n",
    "\n",
    "    return test, recs"
   ]
  },
  {
   "cell_type": "markdown",
   "metadata": {},
   "source": [
    "## ALS 1"
   ]
  },
  {
   "cell_type": "code",
   "execution_count": 28,
   "metadata": {},
   "outputs": [],
   "source": [
    "df_clicks_r1 = pd.read_parquet(\"recs_clicks_als_1/\")\n",
    "df_carts_r1 = pd.read_parquet(\"recs_carts_als_1/\")\n",
    "df_orders_r1 = pd.read_parquet(\"recs_orders_als_1/\")"
   ]
  },
  {
   "cell_type": "code",
   "execution_count": 30,
   "metadata": {},
   "outputs": [
    {
     "name": "stderr",
     "output_type": "stream",
     "text": [
      "C:\\Users\\misha\\AppData\\Local\\Temp\\ipykernel_11944\\2836734769.py:24: SettingWithCopyWarning: \n",
      "A value is trying to be set on a copy of a slice from a DataFrame.\n",
      "Try using .loc[row_indexer,col_indexer] = value instead\n",
      "\n",
      "See the caveats in the documentation: https://pandas.pydata.org/pandas-docs/stable/user_guide/indexing.html#returning-a-view-versus-a-copy\n",
      "  df_recs_l[\"aid\"] = df_recs_l[\"aid\"].apply(lambda x: np.array(x[:k_recs]))\n"
     ]
    },
    {
     "name": "stdout",
     "output_type": "stream",
     "text": [
      "HR@200 = 0.2355\n",
      "MRR@200 = 0.0202\n",
      "Recall@200 = 0.0018\n"
     ]
    }
   ],
   "source": [
    "test_clicks1, recs_clicks1 = prepare_data(df_clicks_t, df_clicks_r1, K_TEST, K_RECS)\n",
    "metrics_clicks1 = Metrics(K_RECS, recs_clicks1, test_clicks1)\n",
    "metrics_clicks1.report()"
   ]
  },
  {
   "cell_type": "code",
   "execution_count": 31,
   "metadata": {},
   "outputs": [
    {
     "name": "stderr",
     "output_type": "stream",
     "text": [
      "C:\\Users\\misha\\AppData\\Local\\Temp\\ipykernel_11944\\2836734769.py:24: SettingWithCopyWarning: \n",
      "A value is trying to be set on a copy of a slice from a DataFrame.\n",
      "Try using .loc[row_indexer,col_indexer] = value instead\n",
      "\n",
      "See the caveats in the documentation: https://pandas.pydata.org/pandas-docs/stable/user_guide/indexing.html#returning-a-view-versus-a-copy\n",
      "  df_recs_l[\"aid\"] = df_recs_l[\"aid\"].apply(lambda x: np.array(x[:k_recs]))\n"
     ]
    },
    {
     "name": "stdout",
     "output_type": "stream",
     "text": [
      "HR@200 = 0.1049\n",
      "MRR@200 = 0.0141\n",
      "Recall@200 = 0.0309\n"
     ]
    }
   ],
   "source": [
    "test_carts1, recs_carts1 = prepare_data(df_carts_t, df_carts_r1, K_TEST, K_RECS)\n",
    "metrics_carts1 = Metrics(K_RECS, test_carts1, recs_carts1)\n",
    "metrics_carts1.report()"
   ]
  },
  {
   "cell_type": "code",
   "execution_count": 32,
   "metadata": {},
   "outputs": [
    {
     "name": "stderr",
     "output_type": "stream",
     "text": [
      "C:\\Users\\misha\\AppData\\Local\\Temp\\ipykernel_11944\\2836734769.py:24: SettingWithCopyWarning: \n",
      "A value is trying to be set on a copy of a slice from a DataFrame.\n",
      "Try using .loc[row_indexer,col_indexer] = value instead\n",
      "\n",
      "See the caveats in the documentation: https://pandas.pydata.org/pandas-docs/stable/user_guide/indexing.html#returning-a-view-versus-a-copy\n",
      "  df_recs_l[\"aid\"] = df_recs_l[\"aid\"].apply(lambda x: np.array(x[:k_recs]))\n"
     ]
    },
    {
     "name": "stdout",
     "output_type": "stream",
     "text": [
      "HR@5 = 0.0616\n",
      "MRR@5 = 0.0098\n",
      "Recall@5 = 0.0155\n"
     ]
    }
   ],
   "source": [
    "test_orders1, recs_orders1 = prepare_data(df_orders_t, df_orders_r1, K_TEST, K_RECS)\n",
    "metrics_orders1 = Metrics(K_TEST, test_orders1, recs_orders1)\n",
    "metrics_orders1.report()"
   ]
  },
  {
   "cell_type": "code",
   "execution_count": 37,
   "metadata": {},
   "outputs": [
    {
     "data": {
      "text/plain": [
       "2088"
      ]
     },
     "execution_count": 37,
     "metadata": {},
     "output_type": "execute_result"
    }
   ],
   "source": [
    "del df_clicks_r1, df_carts_r1, df_orders_r1, test_orders1, recs_orders1, metrics_orders1\n",
    "gc.collect()"
   ]
  },
  {
   "cell_type": "markdown",
   "metadata": {},
   "source": [
    "## ALS 2"
   ]
  },
  {
   "cell_type": "code",
   "execution_count": 38,
   "metadata": {},
   "outputs": [],
   "source": [
    "df_clicks_r2 = pd.read_parquet(\"recs_clicks_als_2/\")\n",
    "df_carts_r2 = pd.read_parquet(\"recs_carts_als_2/\")\n",
    "df_orders_r2 = pd.read_parquet(\"recs_orders_als_2/\")"
   ]
  },
  {
   "cell_type": "code",
   "execution_count": 39,
   "metadata": {},
   "outputs": [
    {
     "name": "stderr",
     "output_type": "stream",
     "text": [
      "C:\\Users\\misha\\AppData\\Local\\Temp\\ipykernel_11944\\2836734769.py:24: SettingWithCopyWarning: \n",
      "A value is trying to be set on a copy of a slice from a DataFrame.\n",
      "Try using .loc[row_indexer,col_indexer] = value instead\n",
      "\n",
      "See the caveats in the documentation: https://pandas.pydata.org/pandas-docs/stable/user_guide/indexing.html#returning-a-view-versus-a-copy\n",
      "  df_recs_l[\"aid\"] = df_recs_l[\"aid\"].apply(lambda x: np.array(x[:k_recs]))\n"
     ]
    },
    {
     "name": "stdout",
     "output_type": "stream",
     "text": [
      "HR@200 = 0.302\n",
      "MRR@200 = 0.0251\n",
      "Recall@200 = 0.0024\n"
     ]
    }
   ],
   "source": [
    "test_clicks2, recs_clicks2 = prepare_data(df_clicks_t, df_clicks_r2, K_TEST, K_RECS)\n",
    "metrics_clicks2 = Metrics(K_RECS, recs_clicks2, test_clicks2)\n",
    "metrics_clicks2.report()"
   ]
  },
  {
   "cell_type": "code",
   "execution_count": 40,
   "metadata": {},
   "outputs": [
    {
     "name": "stderr",
     "output_type": "stream",
     "text": [
      "C:\\Users\\misha\\AppData\\Local\\Temp\\ipykernel_11944\\2836734769.py:24: SettingWithCopyWarning: \n",
      "A value is trying to be set on a copy of a slice from a DataFrame.\n",
      "Try using .loc[row_indexer,col_indexer] = value instead\n",
      "\n",
      "See the caveats in the documentation: https://pandas.pydata.org/pandas-docs/stable/user_guide/indexing.html#returning-a-view-versus-a-copy\n",
      "  df_recs_l[\"aid\"] = df_recs_l[\"aid\"].apply(lambda x: np.array(x[:k_recs]))\n"
     ]
    },
    {
     "name": "stdout",
     "output_type": "stream",
     "text": [
      "HR@200 = 0.1537\n",
      "MRR@200 = 0.0203\n",
      "Recall@200 = 0.0469\n"
     ]
    }
   ],
   "source": [
    "test_carts2, recs_carts2 = prepare_data(df_carts_t, df_carts_r2, K_TEST, K_RECS)\n",
    "metrics_carts2 = Metrics(K_RECS, test_carts2, recs_carts2)\n",
    "metrics_carts2.report()"
   ]
  },
  {
   "cell_type": "code",
   "execution_count": 41,
   "metadata": {},
   "outputs": [
    {
     "name": "stderr",
     "output_type": "stream",
     "text": [
      "C:\\Users\\misha\\AppData\\Local\\Temp\\ipykernel_11944\\2836734769.py:24: SettingWithCopyWarning: \n",
      "A value is trying to be set on a copy of a slice from a DataFrame.\n",
      "Try using .loc[row_indexer,col_indexer] = value instead\n",
      "\n",
      "See the caveats in the documentation: https://pandas.pydata.org/pandas-docs/stable/user_guide/indexing.html#returning-a-view-versus-a-copy\n",
      "  df_recs_l[\"aid\"] = df_recs_l[\"aid\"].apply(lambda x: np.array(x[:k_recs]))\n"
     ]
    },
    {
     "name": "stdout",
     "output_type": "stream",
     "text": [
      "HR@5 = 0.1017\n",
      "MRR@5 = 0.014\n",
      "Recall@5 = 0.026\n"
     ]
    }
   ],
   "source": [
    "test_orders2, recs_orders2 = prepare_data(df_orders_t, df_orders_r2, K_TEST, K_RECS)\n",
    "metrics_orders2 = Metrics(K_TEST, test_orders2, recs_orders2)\n",
    "metrics_orders2.report()"
   ]
  },
  {
   "cell_type": "code",
   "execution_count": 42,
   "metadata": {},
   "outputs": [
    {
     "data": {
      "text/plain": [
       "0"
      ]
     },
     "execution_count": 42,
     "metadata": {},
     "output_type": "execute_result"
    }
   ],
   "source": [
    "del df_clicks_r2, df_carts_r2, df_orders_r2, test_orders2, recs_orders2, metrics_orders2\n",
    "gc.collect()"
   ]
  },
  {
   "cell_type": "markdown",
   "metadata": {},
   "source": [
    "## ALS 3"
   ]
  },
  {
   "cell_type": "code",
   "execution_count": 43,
   "metadata": {},
   "outputs": [],
   "source": [
    "df_clicks_r3 = pd.read_parquet(\"recs_clicks_als_3/\")\n",
    "df_carts_r3 = pd.read_parquet(\"recs_carts_als_3/\")\n",
    "df_orders_r3 = pd.read_parquet(\"recs_orders_als_3/\")"
   ]
  },
  {
   "cell_type": "code",
   "execution_count": 44,
   "metadata": {},
   "outputs": [
    {
     "name": "stderr",
     "output_type": "stream",
     "text": [
      "C:\\Users\\misha\\AppData\\Local\\Temp\\ipykernel_11944\\2836734769.py:24: SettingWithCopyWarning: \n",
      "A value is trying to be set on a copy of a slice from a DataFrame.\n",
      "Try using .loc[row_indexer,col_indexer] = value instead\n",
      "\n",
      "See the caveats in the documentation: https://pandas.pydata.org/pandas-docs/stable/user_guide/indexing.html#returning-a-view-versus-a-copy\n",
      "  df_recs_l[\"aid\"] = df_recs_l[\"aid\"].apply(lambda x: np.array(x[:k_recs]))\n"
     ]
    },
    {
     "name": "stdout",
     "output_type": "stream",
     "text": [
      "HR@200 = 0.2875\n",
      "MRR@200 = 0.0236\n",
      "Recall@200 = 0.0023\n"
     ]
    }
   ],
   "source": [
    "test_clicks3, recs_clicks3 = prepare_data(df_clicks_t, df_clicks_r3, K_TEST, K_RECS)\n",
    "metrics_clicks3 = Metrics(K_RECS, recs_clicks3, test_clicks3)\n",
    "metrics_clicks3.report()"
   ]
  },
  {
   "cell_type": "code",
   "execution_count": 45,
   "metadata": {},
   "outputs": [
    {
     "name": "stderr",
     "output_type": "stream",
     "text": [
      "C:\\Users\\misha\\AppData\\Local\\Temp\\ipykernel_11944\\2836734769.py:24: SettingWithCopyWarning: \n",
      "A value is trying to be set on a copy of a slice from a DataFrame.\n",
      "Try using .loc[row_indexer,col_indexer] = value instead\n",
      "\n",
      "See the caveats in the documentation: https://pandas.pydata.org/pandas-docs/stable/user_guide/indexing.html#returning-a-view-versus-a-copy\n",
      "  df_recs_l[\"aid\"] = df_recs_l[\"aid\"].apply(lambda x: np.array(x[:k_recs]))\n"
     ]
    },
    {
     "name": "stdout",
     "output_type": "stream",
     "text": [
      "HR@200 = 0.1501\n",
      "MRR@200 = 0.0198\n",
      "Recall@200 = 0.0455\n"
     ]
    }
   ],
   "source": [
    "test_carts3, recs_carts3 = prepare_data(df_carts_t, df_carts_r3, K_TEST, K_RECS)\n",
    "metrics_carts3 = Metrics(K_RECS, test_carts3, recs_carts3)\n",
    "metrics_carts3.report()"
   ]
  },
  {
   "cell_type": "code",
   "execution_count": 46,
   "metadata": {},
   "outputs": [
    {
     "name": "stderr",
     "output_type": "stream",
     "text": [
      "C:\\Users\\misha\\AppData\\Local\\Temp\\ipykernel_11944\\2836734769.py:24: SettingWithCopyWarning: \n",
      "A value is trying to be set on a copy of a slice from a DataFrame.\n",
      "Try using .loc[row_indexer,col_indexer] = value instead\n",
      "\n",
      "See the caveats in the documentation: https://pandas.pydata.org/pandas-docs/stable/user_guide/indexing.html#returning-a-view-versus-a-copy\n",
      "  df_recs_l[\"aid\"] = df_recs_l[\"aid\"].apply(lambda x: np.array(x[:k_recs]))\n"
     ]
    },
    {
     "name": "stdout",
     "output_type": "stream",
     "text": [
      "HR@5 = 0.1017\n",
      "MRR@5 = 0.014\n",
      "Recall@5 = 0.0261\n"
     ]
    }
   ],
   "source": [
    "test_orders3, recs_orders3 = prepare_data(df_orders_t, df_orders_r3, K_TEST, K_RECS)\n",
    "metrics_orders3 = Metrics(K_TEST, test_orders3, recs_orders3)\n",
    "metrics_orders3.report()"
   ]
  },
  {
   "cell_type": "code",
   "execution_count": null,
   "metadata": {},
   "outputs": [],
   "source": [
    "del df_clicks_r3, df_carts_r3, df_orders_r3, test_orders3, recs_orders3, metrics_orders3\n",
    "gc.collect()"
   ]
  }
 ],
 "metadata": {
  "kernelspec": {
   "display_name": "study_env",
   "language": "python",
   "name": "python3"
  },
  "language_info": {
   "codemirror_mode": {
    "name": "ipython",
    "version": 3
   },
   "file_extension": ".py",
   "mimetype": "text/x-python",
   "name": "python",
   "nbconvert_exporter": "python",
   "pygments_lexer": "ipython3",
   "version": "3.10.8"
  }
 },
 "nbformat": 4,
 "nbformat_minor": 2
}
