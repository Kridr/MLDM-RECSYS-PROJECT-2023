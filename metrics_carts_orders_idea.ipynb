{
 "cells": [
  {
   "cell_type": "code",
   "execution_count": 35,
   "metadata": {},
   "outputs": [],
   "source": [
    "import pandas as pd\n",
    "import numpy as np\n",
    "from sklearn.preprocessing import LabelEncoder"
   ]
  },
  {
   "cell_type": "markdown",
   "metadata": {},
   "source": [
    "## Data completeness"
   ]
  },
  {
   "cell_type": "code",
   "execution_count": 36,
   "metadata": {},
   "outputs": [],
   "source": [
    "#df_clicks_train = pd.read_parquet(\"clicks/train\")\n",
    "df_carts_train = pd.read_parquet('c:/Users/tanni/Desktop/rec_sys/Project/prepared_dataset_Nikita/reindexed_data/influence_data/df_carts_train_unique_idea.parquet')\n",
    "#df_orders_train = pd.read_parquet('c:/Users/tanni/Desktop/rec_sys/Project/prepared_dataset_Nikita/reindexed_data/idea_data/df_orders_train_unique.parquet')"
   ]
  },
  {
   "cell_type": "code",
   "execution_count": 3,
   "metadata": {},
   "outputs": [],
   "source": [
    "#df_clicks_train.to_parquet('reindexed_data/df_clicks_train_vs_encoded')\n",
    "#df_carts_train.to_parquet('reindexed_data/df_carts_train')\n",
    "#df_orders_train.to_parquet('reindexed_data/df_orders_train')"
   ]
  },
  {
   "cell_type": "code",
   "execution_count": 4,
   "metadata": {},
   "outputs": [],
   "source": [
    "import sys\n",
    "extra_path = 'c:/Users/tanni/Desktop/rec_sys/Project/prepared_dataset_Nikita'\n",
    "sys.path.append(extra_path)"
   ]
  },
  {
   "cell_type": "code",
   "execution_count": 5,
   "metadata": {},
   "outputs": [],
   "source": [
    "#df_clicks_t = pd.read_parquet(\"clicks/test\")\n",
    "df_carts_t = pd.read_parquet(\"c:/Users/tanni/Desktop/rec_sys/Project/prepared_dataset_Nikita/carts/test\")\n",
    "df_orders_t = pd.read_parquet(\"c:/Users/tanni/Desktop/rec_sys/Project/prepared_dataset_Nikita/orders/test\")"
   ]
  },
  {
   "cell_type": "code",
   "execution_count": 63,
   "metadata": {},
   "outputs": [
    {
     "data": {
      "text/html": [
       "<div>\n",
       "<style scoped>\n",
       "    .dataframe tbody tr th:only-of-type {\n",
       "        vertical-align: middle;\n",
       "    }\n",
       "\n",
       "    .dataframe tbody tr th {\n",
       "        vertical-align: top;\n",
       "    }\n",
       "\n",
       "    .dataframe thead th {\n",
       "        text-align: right;\n",
       "    }\n",
       "</style>\n",
       "<table border=\"1\" class=\"dataframe\">\n",
       "  <thead>\n",
       "    <tr style=\"text-align: right;\">\n",
       "      <th></th>\n",
       "      <th>session</th>\n",
       "      <th>aid</th>\n",
       "      <th>ts</th>\n",
       "      <th>session_encoded</th>\n",
       "      <th>aid_encoded</th>\n",
       "      <th>res_encoded</th>\n",
       "      <th>res_encoded_tfidf</th>\n",
       "      <th>pred</th>\n",
       "      <th>pred_tfidf</th>\n",
       "    </tr>\n",
       "  </thead>\n",
       "  <tbody>\n",
       "    <tr>\n",
       "      <th>0</th>\n",
       "      <td>1</td>\n",
       "      <td>105393</td>\n",
       "      <td>1659991168139</td>\n",
       "      <td>0</td>\n",
       "      <td>11165</td>\n",
       "      <td>[11165, 22654, 113492, 90229, 68176, 83514, 11...</td>\n",
       "      <td>[11165, 22654, 113492, 90229, 110168, 83514, 6...</td>\n",
       "      <td>[105393.0, 215311.0, 1073464.0, 854637.0, 6472...</td>\n",
       "      <td>[105393.0, 215311.0, 1073464.0, 854637.0, 1042...</td>\n",
       "    </tr>\n",
       "    <tr>\n",
       "      <th>1</th>\n",
       "      <td>3</td>\n",
       "      <td>812246</td>\n",
       "      <td>1659997178730</td>\n",
       "      <td>1</td>\n",
       "      <td>85682</td>\n",
       "      <td>[104042, 3076, 75342, 78965, 176303, 13517, 59...</td>\n",
       "      <td>[104042, 75342, 3076, 13517, 133579, 5823, 789...</td>\n",
       "      <td>[984459.0, 29160.0, 714724.0, 748586.0, 166220...</td>\n",
       "      <td>[984459.0, 714724.0, 29160.0, 128326.0, 126082...</td>\n",
       "    </tr>\n",
       "    <tr>\n",
       "      <th>2</th>\n",
       "      <td>11</td>\n",
       "      <td>1528062</td>\n",
       "      <td>1660209891347</td>\n",
       "      <td>2</td>\n",
       "      <td>162083</td>\n",
       "      <td>[121198, 11935, 36190, 145931, 127393, 90991, ...</td>\n",
       "      <td>[121198, 127393, 11935, 145931, 90991, 21238, ...</td>\n",
       "      <td>[1145803.0, 113002.0, 345724.0, 1375870.0, 120...</td>\n",
       "      <td>[1145803.0, 1203086.0, 113002.0, 1375870.0, 86...</td>\n",
       "    </tr>\n",
       "    <tr>\n",
       "      <th>3</th>\n",
       "      <td>13</td>\n",
       "      <td>139863</td>\n",
       "      <td>1659735763747</td>\n",
       "      <td>3</td>\n",
       "      <td>14763</td>\n",
       "      <td>[]</td>\n",
       "      <td>[]</td>\n",
       "      <td>[]</td>\n",
       "      <td>[]</td>\n",
       "    </tr>\n",
       "    <tr>\n",
       "      <th>4</th>\n",
       "      <td>14</td>\n",
       "      <td>200631</td>\n",
       "      <td>1660049357293</td>\n",
       "      <td>4</td>\n",
       "      <td>21059</td>\n",
       "      <td>[21059, 98067, 143545, 56457, 142407, 21345, 1...</td>\n",
       "      <td>[21059, 56457, 38408, 143545, 170858, 98067, 1...</td>\n",
       "      <td>[200631.0, 928901.0, 1353740.0, 536378.0, 1343...</td>\n",
       "      <td>[200631.0, 536378.0, 366603.0, 1353740.0, 1611...</td>\n",
       "    </tr>\n",
       "  </tbody>\n",
       "</table>\n",
       "</div>"
      ],
      "text/plain": [
       "   session      aid             ts  session_encoded  aid_encoded  \\\n",
       "0        1   105393  1659991168139                0        11165   \n",
       "1        3   812246  1659997178730                1        85682   \n",
       "2       11  1528062  1660209891347                2       162083   \n",
       "3       13   139863  1659735763747                3        14763   \n",
       "4       14   200631  1660049357293                4        21059   \n",
       "\n",
       "                                         res_encoded  \\\n",
       "0  [11165, 22654, 113492, 90229, 68176, 83514, 11...   \n",
       "1  [104042, 3076, 75342, 78965, 176303, 13517, 59...   \n",
       "2  [121198, 11935, 36190, 145931, 127393, 90991, ...   \n",
       "3                                                 []   \n",
       "4  [21059, 98067, 143545, 56457, 142407, 21345, 1...   \n",
       "\n",
       "                                   res_encoded_tfidf  \\\n",
       "0  [11165, 22654, 113492, 90229, 110168, 83514, 6...   \n",
       "1  [104042, 75342, 3076, 13517, 133579, 5823, 789...   \n",
       "2  [121198, 127393, 11935, 145931, 90991, 21238, ...   \n",
       "3                                                 []   \n",
       "4  [21059, 56457, 38408, 143545, 170858, 98067, 1...   \n",
       "\n",
       "                                                pred  \\\n",
       "0  [105393.0, 215311.0, 1073464.0, 854637.0, 6472...   \n",
       "1  [984459.0, 29160.0, 714724.0, 748586.0, 166220...   \n",
       "2  [1145803.0, 113002.0, 345724.0, 1375870.0, 120...   \n",
       "3                                                 []   \n",
       "4  [200631.0, 928901.0, 1353740.0, 536378.0, 1343...   \n",
       "\n",
       "                                          pred_tfidf  \n",
       "0  [105393.0, 215311.0, 1073464.0, 854637.0, 1042...  \n",
       "1  [984459.0, 714724.0, 29160.0, 128326.0, 126082...  \n",
       "2  [1145803.0, 1203086.0, 113002.0, 1375870.0, 86...  \n",
       "3                                                 []  \n",
       "4  [200631.0, 536378.0, 366603.0, 1353740.0, 1611...  "
      ]
     },
     "execution_count": 63,
     "metadata": {},
     "output_type": "execute_result"
    }
   ],
   "source": [
    "df_carts_train.head()"
   ]
  },
  {
   "cell_type": "markdown",
   "metadata": {},
   "source": [
    "## Return predictions"
   ]
  },
  {
   "cell_type": "code",
   "execution_count": 37,
   "metadata": {},
   "outputs": [],
   "source": [
    "def set_ranks(df: pd.DataFrame):\n",
    "    df_c = df.copy()\n",
    "    df_c[\"rank\"] = df_c.groupby(\"session\")[\"ts\"].rank(method=\"first\", ascending=True)\n",
    "    return df_c[[\"session\", \"aid\", 'rank']]"
   ]
  },
  {
   "cell_type": "code",
   "execution_count": 38,
   "metadata": {},
   "outputs": [],
   "source": [
    "#df_clicks_r = set_ranks(df_clicks_train)\n",
    "df_carts_r = set_ranks(df_carts_train)\n",
    "#df_orders_r = set_ranks(df_orders_train)"
   ]
  },
  {
   "cell_type": "code",
   "execution_count": 39,
   "metadata": {},
   "outputs": [],
   "source": [
    "def rank_stat(df_r: pd.DataFrame, ks: list):\n",
    "    df_mr = df_r.groupby(\"session\").agg(\"max\")[\"rank\"]\n",
    "    for k in ks:\n",
    "        cnt_me = len(df_mr[df_mr >= k])\n",
    "        print(f\"Users with more than {k} test items: {cnt_me} ({round(cnt_me / len(df_mr) * 100, 2)}%)\")"
   ]
  },
  {
   "cell_type": "code",
   "execution_count": 40,
   "metadata": {},
   "outputs": [
    {
     "name": "stdout",
     "output_type": "stream",
     "text": [
      "Users with more than 3 test items: 0 (0.0%)\n",
      "Users with more than 5 test items: 0 (0.0%)\n",
      "Users with more than 10 test items: 0 (0.0%)\n",
      "Users with more than 20 test items: 0 (0.0%)\n"
     ]
    }
   ],
   "source": [
    "rank_stat(df_carts_r, [3, 5, 10, 20])"
   ]
  },
  {
   "cell_type": "code",
   "execution_count": 41,
   "metadata": {},
   "outputs": [
    {
     "name": "stdout",
     "output_type": "stream",
     "text": [
      "Users with more than 3 test items: 0 (0.0%)\n",
      "Users with more than 5 test items: 0 (0.0%)\n",
      "Users with more than 10 test items: 0 (0.0%)\n",
      "Users with more than 20 test items: 0 (0.0%)\n"
     ]
    }
   ],
   "source": [
    "rank_stat(df_carts_r, [3, 5, 10, 20])"
   ]
  },
  {
   "cell_type": "code",
   "execution_count": 42,
   "metadata": {},
   "outputs": [],
   "source": [
    "#rank_stat(df_orders_r, [3, 5, 10, 20])"
   ]
  },
  {
   "cell_type": "markdown",
   "metadata": {},
   "source": [
    "# Metrics"
   ]
  },
  {
   "cell_type": "code",
   "execution_count": 43,
   "metadata": {},
   "outputs": [],
   "source": [
    "K_RECS = 200\n",
    "K_TEST = 5"
   ]
  },
  {
   "cell_type": "code",
   "execution_count": 44,
   "metadata": {},
   "outputs": [],
   "source": [
    "df_carts_r = pd.read_parquet('c:/Users/tanni/Desktop/rec_sys/Project/prepared_dataset_Nikita/carts/test')"
   ]
  },
  {
   "cell_type": "code",
   "execution_count": 45,
   "metadata": {},
   "outputs": [
    {
     "data": {
      "text/html": [
       "<div>\n",
       "<style scoped>\n",
       "    .dataframe tbody tr th:only-of-type {\n",
       "        vertical-align: middle;\n",
       "    }\n",
       "\n",
       "    .dataframe tbody tr th {\n",
       "        vertical-align: top;\n",
       "    }\n",
       "\n",
       "    .dataframe thead th {\n",
       "        text-align: right;\n",
       "    }\n",
       "</style>\n",
       "<table border=\"1\" class=\"dataframe\">\n",
       "  <thead>\n",
       "    <tr style=\"text-align: right;\">\n",
       "      <th></th>\n",
       "      <th>session</th>\n",
       "      <th>aid</th>\n",
       "      <th>ts</th>\n",
       "      <th>type</th>\n",
       "    </tr>\n",
       "  </thead>\n",
       "  <tbody>\n",
       "    <tr>\n",
       "      <th>597</th>\n",
       "      <td>5</td>\n",
       "      <td>1813405</td>\n",
       "      <td>1660347708319</td>\n",
       "      <td>carts</td>\n",
       "    </tr>\n",
       "    <tr>\n",
       "      <th>1003</th>\n",
       "      <td>13</td>\n",
       "      <td>284722</td>\n",
       "      <td>1660566004531</td>\n",
       "      <td>carts</td>\n",
       "    </tr>\n",
       "    <tr>\n",
       "      <th>1005</th>\n",
       "      <td>13</td>\n",
       "      <td>1662866</td>\n",
       "      <td>1660566043771</td>\n",
       "      <td>carts</td>\n",
       "    </tr>\n",
       "    <tr>\n",
       "      <th>1007</th>\n",
       "      <td>13</td>\n",
       "      <td>1177411</td>\n",
       "      <td>1660566074020</td>\n",
       "      <td>carts</td>\n",
       "    </tr>\n",
       "    <tr>\n",
       "      <th>1012</th>\n",
       "      <td>13</td>\n",
       "      <td>1670763</td>\n",
       "      <td>1660566927761</td>\n",
       "      <td>carts</td>\n",
       "    </tr>\n",
       "    <tr>\n",
       "      <th>...</th>\n",
       "      <td>...</td>\n",
       "      <td>...</td>\n",
       "      <td>...</td>\n",
       "      <td>...</td>\n",
       "    </tr>\n",
       "    <tr>\n",
       "      <th>1351936</th>\n",
       "      <td>327670</td>\n",
       "      <td>669555</td>\n",
       "      <td>1660514505932</td>\n",
       "      <td>carts</td>\n",
       "    </tr>\n",
       "    <tr>\n",
       "      <th>1352254</th>\n",
       "      <td>327677</td>\n",
       "      <td>1157882</td>\n",
       "      <td>1660341835034</td>\n",
       "      <td>carts</td>\n",
       "    </tr>\n",
       "    <tr>\n",
       "      <th>1352256</th>\n",
       "      <td>327677</td>\n",
       "      <td>855613</td>\n",
       "      <td>1660342258813</td>\n",
       "      <td>carts</td>\n",
       "    </tr>\n",
       "    <tr>\n",
       "      <th>1352257</th>\n",
       "      <td>327677</td>\n",
       "      <td>904999</td>\n",
       "      <td>1660343028183</td>\n",
       "      <td>carts</td>\n",
       "    </tr>\n",
       "    <tr>\n",
       "      <th>1352270</th>\n",
       "      <td>327677</td>\n",
       "      <td>1553264</td>\n",
       "      <td>1660429400631</td>\n",
       "      <td>carts</td>\n",
       "    </tr>\n",
       "  </tbody>\n",
       "</table>\n",
       "<p>244033 rows × 4 columns</p>\n",
       "</div>"
      ],
      "text/plain": [
       "         session      aid             ts   type\n",
       "597            5  1813405  1660347708319  carts\n",
       "1003          13   284722  1660566004531  carts\n",
       "1005          13  1662866  1660566043771  carts\n",
       "1007          13  1177411  1660566074020  carts\n",
       "1012          13  1670763  1660566927761  carts\n",
       "...          ...      ...            ...    ...\n",
       "1351936   327670   669555  1660514505932  carts\n",
       "1352254   327677  1157882  1660341835034  carts\n",
       "1352256   327677   855613  1660342258813  carts\n",
       "1352257   327677   904999  1660343028183  carts\n",
       "1352270   327677  1553264  1660429400631  carts\n",
       "\n",
       "[244033 rows x 4 columns]"
      ]
     },
     "execution_count": 45,
     "metadata": {},
     "output_type": "execute_result"
    }
   ],
   "source": [
    "df_carts_r"
   ]
  },
  {
   "cell_type": "code",
   "execution_count": 46,
   "metadata": {},
   "outputs": [],
   "source": [
    "#df_carts_pred_final = df_carts_r[['session', 'aid', 'pred']]"
   ]
  },
  {
   "cell_type": "code",
   "execution_count": 47,
   "metadata": {},
   "outputs": [],
   "source": [
    "def extract_n_elements(row, n):\n",
    "    return np.pad(row[:n], (0, max(n - len(row), 0)), mode='constant', constant_values=-1)\n",
    "\n"
   ]
  },
  {
   "cell_type": "code",
   "execution_count": 48,
   "metadata": {},
   "outputs": [],
   "source": [
    "def prepare_data(df_test, df_recs, k_test, k_recs):\n",
    "    valid_session = np.intersect1d(\n",
    "        df_test[\"session\"].unique(),\n",
    "        df_recs[\"session\"].unique()\n",
    "    )\n",
    "\n",
    "    df_test_l = set_ranks(df_test)\n",
    "    df_test_l = df_test_l[df_test_l[\"session\"].isin(valid_session)]\n",
    "    df_test_l = df_test_l[df_test_l[\"rank\"] <= k_test]\n",
    "    df_test_l = df_test_l.groupby(\"session\")[\"aid\"].apply(list).reset_index().sort_values(\"session\")\n",
    "\n",
    "    df_test_l[\"aid\"] = (\n",
    "        df_test_l[\"aid\"]\n",
    "        .apply(lambda x: np.pad(\n",
    "            x[:k_test],\n",
    "            (0, max(k_test - len(x), 0)),\n",
    "            mode=\"constant\",\n",
    "            constant_values=-1\n",
    "        ))\n",
    "    )\n",
    "    test = np.stack(df_test_l[\"aid\"].values, axis=0)\n",
    "\n",
    "    df_recs_l = df_recs[df_recs[\"session\"].isin(valid_session)]\n",
    "    df_recs_l[\"modified_pred\"] = (\n",
    "        df_recs_l[\"pred\"]\n",
    "        .apply(lambda x: extract_n_elements(x, k_recs))\n",
    "    )\n",
    "    \n",
    "    recs = df_recs_l[\"modified_pred\"].tolist()\n",
    "\n",
    "    return test, recs\n"
   ]
  },
  {
   "cell_type": "code",
   "execution_count": 49,
   "metadata": {},
   "outputs": [
    {
     "name": "stderr",
     "output_type": "stream",
     "text": [
      "C:\\Users\\tanni\\AppData\\Local\\Temp\\ipykernel_9620\\3645500487.py:24: SettingWithCopyWarning: \n",
      "A value is trying to be set on a copy of a slice from a DataFrame.\n",
      "Try using .loc[row_indexer,col_indexer] = value instead\n",
      "\n",
      "See the caveats in the documentation: https://pandas.pydata.org/pandas-docs/stable/user_guide/indexing.html#returning-a-view-versus-a-copy\n",
      "  df_recs_l[\"modified_pred\"] = (\n"
     ]
    }
   ],
   "source": [
    "test_carts, recs_carts = prepare_data(df_carts_r, df_carts_train, K_TEST, K_RECS)"
   ]
  },
  {
   "cell_type": "code",
   "execution_count": 50,
   "metadata": {},
   "outputs": [],
   "source": [
    "import numpy as np\n",
    "\n",
    "class Metrics:\n",
    "    def __init__(self, k, recommendations, holdout):\n",
    "        self.k = k\n",
    "        self.recommendations = recommendations[:, :self.k]\n",
    "        self.holdout = holdout\n",
    "\n",
    "    def hit_rate(self):\n",
    "        return np.array(\n",
    "            [\n",
    "                np.intersect1d(self.holdout[i], self.recommendations[i]).any()\n",
    "                for i in range(self.holdout.shape[0])\n",
    "            ]\n",
    "        ).mean()\n",
    "\n",
    "    def mean_reciprocal_rank(self):\n",
    "        n_test_users = self.holdout.shape[0]\n",
    "        hits_rank = [\n",
    "            np.where(np.in1d(self.holdout[i], self.recommendations[i]))[0]\n",
    "            for i in range(self.holdout.shape[0])\n",
    "        ]\n",
    "        hits_rank = np.array([el[0] for el in hits_rank if el.shape[0]])\n",
    "        return (1. / (hits_rank + 1)).sum() / n_test_users\n",
    "\n",
    "    def recall(self):\n",
    "        numerator = np.sum(\n",
    "            [\n",
    "                np.intersect1d(self.holdout[i], self.recommendations[i]).shape[0]\n",
    "                for i in range(self.holdout.shape[0])\n",
    "            ]\n",
    "        )\n",
    "        denominator = np.sum([min(self.k, self.holdout[i].shape[0]) for i in range(self.holdout.shape[0])])\n",
    "        return numerator / denominator\n"
   ]
  },
  {
   "cell_type": "code",
   "execution_count": 51,
   "metadata": {},
   "outputs": [],
   "source": [
    "import numpy as np\n",
    "\n",
    "\n",
    "class Metrics:\n",
    "    def __init__(\n",
    "            self,\n",
    "            k: int,\n",
    "            recommendations: np.ndarray,\n",
    "            holdout: np.ndarray\n",
    "            ):\n",
    "        self.k = k\n",
    "        self.recommendations = recommendations[:, :k]\n",
    "        self.holdout = holdout\n",
    "\n",
    "    def report(self):\n",
    "        print(f\"HR@{self.k} = {round(self.hit_rate(), 4)}\")\n",
    "        print(f\"MRR@{self.k} = {round(self.mean_reciprocal_rank(), 4)}\")\n",
    "        print(f\"Recall@{self.k} = {round(self.recall(), 4)}\")\n",
    "\n",
    "    def hit_rate(self):\n",
    "        return (\n",
    "            self._get_hit_mask()\n",
    "            .any(axis=1)\n",
    "            .mean()\n",
    "        )\n",
    "\n",
    "    def mean_reciprocal_rank(self):\n",
    "        hits_mask = self._get_hit_mask()\n",
    "\n",
    "        idx = np.argwhere(hits_mask.argmax(axis=1)).squeeze(axis=1)\n",
    "\n",
    "        return np.sum(\n",
    "            1 / (hits_mask[idx].argmax(axis=1) + 1)\n",
    "        ) / hits_mask.shape[0]\n",
    "\n",
    "    def recall(self):\n",
    "        hits_mask = self._get_hit_mask()\n",
    "        return (\n",
    "            hits_mask.sum(axis=1) / self.recommendations.shape[1]\n",
    "        ).sum() / self.recommendations.shape[0]\n",
    "\n",
    "    def _get_hit_mask(self) -> np.ndarray:\n",
    "        return (\n",
    "            self.holdout[..., None] ==\n",
    "            np.expand_dims(self.recommendations, axis=1)\n",
    "        ).any(axis=1)"
   ]
  },
  {
   "cell_type": "code",
   "execution_count": 52,
   "metadata": {},
   "outputs": [
    {
     "name": "stdout",
     "output_type": "stream",
     "text": [
      "HR@200 = 0.7666\n",
      "MRR@200 = 0.031\n",
      "Recall@200 = 0.5536\n"
     ]
    }
   ],
   "source": [
    "metrics_carts = Metrics(K_RECS, np.array(recs_carts), test_carts)\n",
    "metrics_carts.report()"
   ]
  },
  {
   "cell_type": "code",
   "execution_count": 53,
   "metadata": {},
   "outputs": [
    {
     "name": "stdout",
     "output_type": "stream",
     "text": [
      "0.7665926720375128 0.03096997949641001 0.5536291871398997\n"
     ]
    }
   ],
   "source": [
    "#from rec_base import Metrics\n",
    "metrics_carts = Metrics(K_RECS, np.array(recs_carts), test_carts)\n",
    "print(metrics_carts.hit_rate(), metrics_carts.mean_reciprocal_rank(), metrics_carts.recall())"
   ]
  },
  {
   "cell_type": "code",
   "execution_count": 91,
   "metadata": {},
   "outputs": [
    {
     "name": "stdout",
     "output_type": "stream",
     "text": [
      "0.7048932552427735 0.06652156833569381 0.5607576043831476\n"
     ]
    },
    {
     "name": "stderr",
     "output_type": "stream",
     "text": [
      "C:\\Users\\tanni\\AppData\\Local\\Temp\\ipykernel_5248\\3645500487.py:24: SettingWithCopyWarning: \n",
      "A value is trying to be set on a copy of a slice from a DataFrame.\n",
      "Try using .loc[row_indexer,col_indexer] = value instead\n",
      "\n",
      "See the caveats in the documentation: https://pandas.pydata.org/pandas-docs/stable/user_guide/indexing.html#returning-a-view-versus-a-copy\n",
      "  df_recs_l[\"modified_pred\"] = (\n"
     ]
    }
   ],
   "source": [
    "test_orders, recs_orders= prepare_data(df_orders_t, df_orders_train, K_TEST, K_RECS)\n",
    "metrics_orders = Metrics(K_RECS, np.array(recs_orders), test_orders)\n",
    "print(metrics_orders.hit_rate(), metrics_orders.mean_reciprocal_rank(), metrics_orders.recall())"
   ]
  },
  {
   "cell_type": "code",
   "execution_count": 92,
   "metadata": {},
   "outputs": [
    {
     "name": "stdout",
     "output_type": "stream",
     "text": [
      "HR@50 = 0.7049\n",
      "MRR@50 = 0.0665\n",
      "Recall@50 = 0.5608\n"
     ]
    }
   ],
   "source": [
    "metrics_carts = Metrics(K_RECS, np.array(recs_orders), test_orders)\n",
    "metrics_carts.report()"
   ]
  },
  {
   "cell_type": "markdown",
   "metadata": {},
   "source": [
    "## TF-IDF Normalization"
   ]
  },
  {
   "cell_type": "code",
   "execution_count": 54,
   "metadata": {},
   "outputs": [],
   "source": [
    "def prepare_data(df_test, df_recs, k_test, k_recs):\n",
    "    valid_session = np.intersect1d(\n",
    "        df_test[\"session\"].unique(),\n",
    "        df_recs[\"session\"].unique()\n",
    "    )\n",
    "\n",
    "    df_test_l = set_ranks(df_test)\n",
    "    df_test_l = df_test_l[df_test_l[\"session\"].isin(valid_session)]\n",
    "    df_test_l = df_test_l[df_test_l[\"rank\"] <= k_test]\n",
    "    df_test_l = df_test_l.groupby(\"session\")[\"aid\"].apply(list).reset_index().sort_values(\"session\")\n",
    "\n",
    "    df_test_l[\"aid\"] = (\n",
    "        df_test_l[\"aid\"]\n",
    "        .apply(lambda x: np.pad(\n",
    "            x[:k_test],\n",
    "            (0, max(k_test - len(x), 0)),\n",
    "            mode=\"constant\",\n",
    "            constant_values=-1\n",
    "        ))\n",
    "    )\n",
    "    test = np.stack(df_test_l[\"aid\"].values, axis=0)\n",
    "    print(test.shape)\n",
    "\n",
    "    df_recs_l = df_recs[df_recs[\"session\"].isin(valid_session)]\n",
    "    df_recs_l[\"modified_pred\"] = (\n",
    "        df_recs_l[\"pred_tfidf\"]\n",
    "        .apply(lambda x: extract_n_elements(x, k_recs))\n",
    "    )\n",
    "    \n",
    "    recs = df_recs_l[\"modified_pred\"].tolist()\n",
    "\n",
    "    return test, recs\n"
   ]
  },
  {
   "cell_type": "code",
   "execution_count": 55,
   "metadata": {},
   "outputs": [],
   "source": [
    "K_TEST = 5\n",
    "K_RECS = 200"
   ]
  },
  {
   "cell_type": "code",
   "execution_count": 56,
   "metadata": {},
   "outputs": [
    {
     "name": "stdout",
     "output_type": "stream",
     "text": [
      "(40093, 5)\n"
     ]
    },
    {
     "name": "stderr",
     "output_type": "stream",
     "text": [
      "C:\\Users\\tanni\\AppData\\Local\\Temp\\ipykernel_9620\\2324496305.py:25: SettingWithCopyWarning: \n",
      "A value is trying to be set on a copy of a slice from a DataFrame.\n",
      "Try using .loc[row_indexer,col_indexer] = value instead\n",
      "\n",
      "See the caveats in the documentation: https://pandas.pydata.org/pandas-docs/stable/user_guide/indexing.html#returning-a-view-versus-a-copy\n",
      "  df_recs_l[\"modified_pred\"] = (\n"
     ]
    }
   ],
   "source": [
    "test_carts, recs_carts = prepare_data(df_carts_r, df_carts_train, K_TEST, K_RECS)"
   ]
  },
  {
   "cell_type": "code",
   "execution_count": 57,
   "metadata": {},
   "outputs": [
    {
     "name": "stdout",
     "output_type": "stream",
     "text": [
      "HR@200 = 0.7662\n",
      "MRR@200 = 0.0307\n",
      "Recall@200 = 0.5553\n"
     ]
    }
   ],
   "source": [
    "metrics_carts = Metrics(K_RECS, np.array(recs_carts), test_carts)\n",
    "metrics_carts.report()"
   ]
  },
  {
   "cell_type": "code",
   "execution_count": 103,
   "metadata": {},
   "outputs": [
    {
     "name": "stdout",
     "output_type": "stream",
     "text": [
      "(10586, 5)\n",
      "HR@200 = 0.8957\n",
      "MRR@200 = 0.0687\n",
      "Recall@200 = 0.7747\n"
     ]
    },
    {
     "name": "stderr",
     "output_type": "stream",
     "text": [
      "C:\\Users\\tanni\\AppData\\Local\\Temp\\ipykernel_5248\\2324496305.py:25: SettingWithCopyWarning: \n",
      "A value is trying to be set on a copy of a slice from a DataFrame.\n",
      "Try using .loc[row_indexer,col_indexer] = value instead\n",
      "\n",
      "See the caveats in the documentation: https://pandas.pydata.org/pandas-docs/stable/user_guide/indexing.html#returning-a-view-versus-a-copy\n",
      "  df_recs_l[\"modified_pred\"] = (\n"
     ]
    }
   ],
   "source": [
    "test_carts, recs_carts = prepare_data(df_orders_t, df_orders_train, K_TEST, K_RECS)\n",
    "metrics_carts = Metrics(K_RECS, np.array(recs_carts), test_carts)\n",
    "metrics_carts.report()"
   ]
  },
  {
   "cell_type": "code",
   "execution_count": null,
   "metadata": {},
   "outputs": [],
   "source": [
    "\n"
   ]
  }
 ],
 "metadata": {
  "kernelspec": {
   "display_name": "study_env",
   "language": "python",
   "name": "python3"
  },
  "language_info": {
   "codemirror_mode": {
    "name": "ipython",
    "version": 3
   },
   "file_extension": ".py",
   "mimetype": "text/x-python",
   "name": "python",
   "nbconvert_exporter": "python",
   "pygments_lexer": "ipython3",
   "version": "3.11.7"
  }
 },
 "nbformat": 4,
 "nbformat_minor": 2
}
