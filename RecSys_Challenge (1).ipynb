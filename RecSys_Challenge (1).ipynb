{
  "cells": [
    {
      "cell_type": "markdown",
      "metadata": {
        "id": "-164ZplZzu6h"
      },
      "source": [
        "## Необходимые пакеты"
      ]
    },
    {
      "cell_type": "code",
      "execution_count": 1,
      "metadata": {
        "colab": {
          "base_uri": "https://localhost:8080/"
        },
        "id": "KR0CScORzt4b",
        "outputId": "1005f2bc-f7ac-4c1c-a5f7-4b721cc633fa"
      },
      "outputs": [
        {
          "output_type": "stream",
          "name": "stdout",
          "text": [
            "Collecting polara\n",
            "  Cloning https://github.com/evfro/polara.git (to revision develop) to /tmp/pip-install-kfb916jx/polara_6fb1b9a85eab4ec086d174b027dce75d\n",
            "  Running command git clone --filter=blob:none --quiet https://github.com/evfro/polara.git /tmp/pip-install-kfb916jx/polara_6fb1b9a85eab4ec086d174b027dce75d\n",
            "  Running command git checkout -b develop --track origin/develop\n",
            "  Switched to a new branch 'develop'\n",
            "  Branch 'develop' set up to track remote branch 'develop' from 'origin'.\n",
            "  Resolved https://github.com/evfro/polara.git to commit 8e48cfd88e616ca53f8bbda1702a3e2c8abaf38e\n",
            "  Preparing metadata (setup.py) ... \u001b[?25l\u001b[?25hdone\n"
          ]
        }
      ],
      "source": [
        "! pip install --upgrade git+https://github.com/evfro/polara.git@develop#egg=polara"
      ]
    },
    {
      "cell_type": "code",
      "execution_count": 2,
      "metadata": {
        "colab": {
          "base_uri": "https://localhost:8080/"
        },
        "id": "03iNJ5nkzWpR",
        "outputId": "b77ccd9c-1ffb-4204-f05e-8638f4b758c6"
      },
      "outputs": [
        {
          "output_type": "stream",
          "name": "stdout",
          "text": [
            "--2023-12-24 21:10:38--  https://raw.githubusercontent.com/Personalization-Technologies-Lab/RecSys-Course-HSE-Fall23/main/Seminar4/dataprep.py\n",
            "Resolving raw.githubusercontent.com (raw.githubusercontent.com)... 185.199.108.133, 185.199.110.133, 185.199.109.133, ...\n",
            "Connecting to raw.githubusercontent.com (raw.githubusercontent.com)|185.199.108.133|:443... connected.\n",
            "HTTP request sent, awaiting response... 200 OK\n",
            "Length: 6589 (6.4K) [text/plain]\n",
            "Saving to: ‘dataprep.py’\n",
            "\n",
            "\rdataprep.py           0%[                    ]       0  --.-KB/s               \rdataprep.py         100%[===================>]   6.43K  --.-KB/s    in 0s      \n",
            "\n",
            "2023-12-24 21:10:38 (50.9 MB/s) - ‘dataprep.py’ saved [6589/6589]\n",
            "\n",
            "--2023-12-24 21:10:38--  https://raw.githubusercontent.com/Personalization-Technologies-Lab/RecSys-Course-HSE-Fall23/main/Seminar4/evaluation.py\n",
            "Resolving raw.githubusercontent.com (raw.githubusercontent.com)... 185.199.111.133, 185.199.109.133, 185.199.108.133, ...\n",
            "Connecting to raw.githubusercontent.com (raw.githubusercontent.com)|185.199.111.133|:443... connected.\n",
            "HTTP request sent, awaiting response... 200 OK\n",
            "Length: 1958 (1.9K) [text/plain]\n",
            "Saving to: ‘evaluation.py’\n",
            "\n",
            "evaluation.py       100%[===================>]   1.91K  --.-KB/s    in 0s      \n",
            "\n",
            "2023-12-24 21:10:39 (24.8 MB/s) - ‘evaluation.py’ saved [1958/1958]\n",
            "\n"
          ]
        }
      ],
      "source": [
        "! wget https://raw.githubusercontent.com/Personalization-Technologies-Lab/RecSys-Course-HSE-Fall23/main/Seminar4/dataprep.py -O dataprep.py\n",
        "! wget https://raw.githubusercontent.com/Personalization-Technologies-Lab/RecSys-Course-HSE-Fall23/main/Seminar4/evaluation.py -O evaluation.py"
      ]
    },
    {
      "cell_type": "code",
      "execution_count": 3,
      "metadata": {
        "colab": {
          "base_uri": "https://localhost:8080/"
        },
        "id": "UqrutH6MFtlH",
        "outputId": "3401edbe-2891-4852-b2a7-f72367fd4a48"
      },
      "outputs": [
        {
          "output_type": "stream",
          "name": "stdout",
          "text": [
            "Requirement already satisfied: similaripy in /usr/local/lib/python3.10/dist-packages (0.1.3)\n",
            "Requirement already satisfied: scipy>=1.0.0 in /usr/local/lib/python3.10/dist-packages (from similaripy) (1.11.4)\n",
            "Requirement already satisfied: numpy>=1.14.0 in /usr/local/lib/python3.10/dist-packages (from similaripy) (1.23.5)\n",
            "Requirement already satisfied: tqdm>=4.19.6 in /usr/local/lib/python3.10/dist-packages (from similaripy) (4.66.1)\n",
            "Requirement already satisfied: Cython>=0.28.1 in /usr/local/lib/python3.10/dist-packages (from similaripy) (3.0.6)\n"
          ]
        }
      ],
      "source": [
        "pip install similaripy"
      ]
    },
    {
      "cell_type": "code",
      "execution_count": 4,
      "metadata": {
        "id": "v7Yl4YgizrF8"
      },
      "outputs": [],
      "source": [
        "import pandas as pd\n",
        "import numpy as np\n",
        "import pandas as pd\n",
        "import seaborn as sns\n",
        "sns.set_theme(style='white', context='paper')\n",
        "%config InlineBackend.figure_format = \"svg\"\n",
        "import similaripy as sim\n",
        "\n",
        "from polara import get_movielens_data\n",
        "from polara.evaluation.pipelines import find_optimal_config, random_grid\n",
        "\n",
        "from dataprep import transform_indices, leave_last_out, verify_time_split, reindex_data\n",
        "from evaluation import topn_recommendations, model_evaluate, downvote_seen_items\n",
        "from scipy.sparse import csr_matrix, diags\n",
        "from scipy.sparse import coo_matrix\n",
        "from sklearn.preprocessing import LabelEncoder"
      ]
    },
    {
      "cell_type": "code",
      "execution_count": 5,
      "metadata": {
        "id": "M-rR-cjfHpTK"
      },
      "outputs": [],
      "source": [
        "def generate_interactions_matrix(data, data_description, rebase_users=False):\n",
        "    '''\n",
        "    Convert pandas dataframe with interactions into a sparse matrix.\n",
        "    Allows reindexing user ids, which help ensure data consistency\n",
        "    at the scoring stage (assumes user ids are sorted in scoring array).\n",
        "    '''\n",
        "    n_users = data_description['n_users']\n",
        "    n_items = data_description['n_items']\n",
        "    # get indices of observed data\n",
        "    user_idx = data[data_description['users']].values # type your code here\n",
        "    if rebase_users:\n",
        "        user_idx, user_index = pd.factorize(user_idx, sort=True)\n",
        "        n_users = len(user_index)\n",
        "    item_idx = data[data_description['items']].values # type your code here\n",
        "    feedback = data[data_description['feedback']].values # type your code here\n",
        "    #print(len(user_idx), len(item_idx))\n",
        "    # construct rating matrix\n",
        "    return csr_matrix((feedback, (user_idx, item_idx)), shape=(n_users, n_items))"
      ]
    },
    {
      "cell_type": "markdown",
      "metadata": {
        "id": "q7BPb8ymx86c"
      },
      "source": [
        "## Подгрузка данных"
      ]
    },
    {
      "cell_type": "code",
      "execution_count": 6,
      "metadata": {
        "colab": {
          "base_uri": "https://localhost:8080/"
        },
        "id": "phGCl769x_X7",
        "outputId": "28369d11-4cf6-4df7-9f28-a77ec37f18da"
      },
      "outputs": [
        {
          "output_type": "stream",
          "name": "stdout",
          "text": [
            "Drive already mounted at /content/drive; to attempt to forcibly remount, call drive.mount(\"/content/drive\", force_remount=True).\n"
          ]
        }
      ],
      "source": [
        "from google.colab import drive\n",
        "drive.mount('/content/drive')"
      ]
    },
    {
      "cell_type": "code",
      "execution_count": 7,
      "metadata": {
        "colab": {
          "base_uri": "https://localhost:8080/"
        },
        "id": "JQVpjxMvynMJ",
        "outputId": "51a7ee69-ded2-42d9-c6bf-7799170982ea"
      },
      "outputs": [
        {
          "output_type": "stream",
          "name": "stdout",
          "text": [
            "/content/drive/MyDrive/Recsys_Challenge\n"
          ]
        }
      ],
      "source": [
        "path_to_data = '/content/drive/MyDrive/Recsys_Challenge/'\n",
        "\n",
        "%cd $path_to_data"
      ]
    },
    {
      "cell_type": "code",
      "execution_count": 8,
      "metadata": {
        "id": "WiH5PDT2y3k8"
      },
      "outputs": [],
      "source": [
        "df_clicks_train = pd.read_parquet('df_clicks_train')\n",
        "df_carts_train = pd.read_parquet('df_carts_train')\n",
        "df_orders_train = pd.read_parquet('df_orders_train')"
      ]
    },
    {
      "cell_type": "code",
      "source": [
        "## Working with train data\n",
        "clicks_session_encoder = LabelEncoder()\n",
        "clicks_aid_encoder = LabelEncoder()\n",
        "\n",
        "df_clicks_train['session_encoded'] = clicks_session_encoder.fit_transform(df_clicks_train['session'])\n",
        "df_clicks_train['aid_encoded'] = clicks_aid_encoder.fit_transform(df_clicks_train['aid'])\n",
        "\n",
        "carts_session_encoder = LabelEncoder()\n",
        "carts_aid_encoder = LabelEncoder()\n",
        "\n",
        "df_carts_train['session_encoded'] = carts_session_encoder.fit_transform(df_carts_train['session'])\n",
        "df_carts_train['aid_encoded'] = carts_aid_encoder.fit_transform(df_carts_train['aid'])\n",
        "\n",
        "orders_session_encoder = LabelEncoder()\n",
        "orders_aid_encoder = LabelEncoder()\n",
        "\n",
        "df_orders_train['session_encoded'] = orders_session_encoder.fit_transform(df_orders_train['session'])\n",
        "df_orders_train['aid_encoded'] = orders_aid_encoder.fit_transform(df_orders_train['aid'])"
      ],
      "metadata": {
        "id": "KJzUF-jfpfr9"
      },
      "execution_count": 9,
      "outputs": []
    },
    {
      "cell_type": "markdown",
      "metadata": {
        "id": "924PGVW70G4x"
      },
      "source": [
        "## Предобработка данных"
      ]
    },
    {
      "cell_type": "code",
      "execution_count": 11,
      "metadata": {
        "id": "aq_8YHjWG954"
      },
      "outputs": [],
      "source": [
        "from scipy.sparse import coo_matrix"
      ]
    },
    {
      "cell_type": "code",
      "execution_count": 12,
      "metadata": {
        "colab": {
          "base_uri": "https://localhost:8080/"
        },
        "id": "4xAX-6jgQsd7",
        "outputId": "ccb18c80-5493-4658-f70f-bae5725b2fb6"
      },
      "outputs": [
        {
          "output_type": "execute_result",
          "data": {
            "text/plain": [
              "{'users': 'session_encoded',\n",
              " 'items': 'aid_encoded',\n",
              " 'feedback': 'rating',\n",
              " 'n_users': 385470,\n",
              " 'n_items': 774068}"
            ]
          },
          "metadata": {},
          "execution_count": 12
        }
      ],
      "source": [
        "data_description = dict(\n",
        "    users = 'session_encoded',\n",
        "    items = 'aid_encoded',\n",
        "    feedback = 'rating',\n",
        "    n_users = df_clicks_train['session_encoded'].nunique(),\n",
        "    n_items = df_clicks_train['aid_encoded'].nunique()\n",
        ")\n",
        "data_description"
      ]
    },
    {
      "cell_type": "code",
      "execution_count": 13,
      "metadata": {
        "id": "kITMWKSkJxaV"
      },
      "outputs": [],
      "source": [
        "urm = generate_interactions_matrix(df_clicks_train, data_description, rebase_users=False)"
      ]
    },
    {
      "cell_type": "code",
      "execution_count": 14,
      "metadata": {
        "id": "994SJYvj0CYh"
      },
      "outputs": [],
      "source": [
        "def user_based_cf(urm, test_urm, topK=30, cutoff=20):\n",
        "    model = sim.cosine(urm)\n",
        "    model.setdiag(0)\n",
        "    print(model.nnz)\n",
        "    #model = model.transpose().tocsr()\n",
        "    print(model.shape)\n",
        "    print(test_urm.shape)\n",
        "    test_sessions = np.unique(test_urm.nonzero()[0])\n",
        "    scores = sim.dot_product(model, test_urm, target_rows=test_sessions) # filter_cols=test_urm)\n",
        "    return scores.tocsr()"
      ]
    },
    {
      "cell_type": "code",
      "execution_count": 15,
      "metadata": {
        "colab": {
          "base_uri": "https://localhost:8080/"
        },
        "id": "nOmX-ybnFqCr",
        "outputId": "0439cd86-d752-4275-b0c1-a954c119df24"
      },
      "outputs": [
        {
          "output_type": "stream",
          "name": "stderr",
          "text": [
            "Done: 100%|██████████| 385470/385470 [00:18<00:00, 20521.11it/s]\n"
          ]
        },
        {
          "output_type": "stream",
          "name": "stdout",
          "text": [
            "29895516\n",
            "(385470, 385470)\n",
            "(385470, 774068)\n"
          ]
        },
        {
          "output_type": "stream",
          "name": "stderr",
          "text": [
            "Done: 100%|██████████| 385470/385470 [00:16<00:00, 23687.83it/s]\n"
          ]
        }
      ],
      "source": [
        "user_cf_scores = user_based_cf(urm, urm, topK=2000, cutoff=5)"
      ]
    },
    {
      "cell_type": "code",
      "execution_count": 16,
      "metadata": {
        "colab": {
          "base_uri": "https://localhost:8080/"
        },
        "id": "EXKPMD9CTPEJ",
        "outputId": "489e1dac-e4a6-44f2-b237-b82215e50575"
      },
      "outputs": [
        {
          "output_type": "execute_result",
          "data": {
            "text/plain": [
              "(385470, 774068)"
            ]
          },
          "metadata": {},
          "execution_count": 16
        }
      ],
      "source": [
        "user_cf_scores.shape"
      ]
    },
    {
      "cell_type": "code",
      "execution_count": 17,
      "metadata": {
        "id": "Wg7F_zbTWrCd"
      },
      "outputs": [],
      "source": [
        "df_clicks_train_unique = df_clicks_train[['session',\t'aid', 'ts', 'session_encoded',\t'aid_encoded']].drop_duplicates(subset='session_encoded', keep='last')\n",
        "\n",
        "df_clicks_train_unique = df_clicks_train_unique.reset_index()\n",
        "df_clicks_train_unique = df_clicks_train_unique.drop(columns=['index'])\n",
        "df_clicks_train_unique['res_encoded'] = ''"
      ]
    },
    {
      "cell_type": "code",
      "execution_count": 18,
      "metadata": {
        "id": "54QQBUdHVAWM"
      },
      "outputs": [],
      "source": [
        "from tqdm import tqdm"
      ]
    },
    {
      "cell_type": "code",
      "execution_count": 19,
      "metadata": {
        "colab": {
          "base_uri": "https://localhost:8080/"
        },
        "id": "V8jqtVALUH7e",
        "outputId": "ed6608b8-9c01-4233-9c58-2049c6071e88"
      },
      "outputs": [
        {
          "output_type": "stream",
          "name": "stderr",
          "text": [
            "0it [00:00, ?it/s]<ipython-input-19-35489baf61be>:11: SettingWithCopyWarning: \n",
            "A value is trying to be set on a copy of a slice from a DataFrame\n",
            "\n",
            "See the caveats in the documentation: https://pandas.pydata.org/pandas-docs/stable/user_guide/indexing.html#returning-a-view-versus-a-copy\n",
            "  df_clicks_train_unique['res_encoded'][i] = sorted_recs.tolist()\n",
            "385470it [01:42, 3751.71it/s]\n"
          ]
        }
      ],
      "source": [
        "test_sessions = np.unique(urm.nonzero()[0])\n",
        "result_click = []\n",
        "i = 0\n",
        "test_scores = user_cf_scores[test_sessions]\n",
        "for left, right in tqdm(zip(test_scores.indptr[:-1], test_scores.indptr[1:])):\n",
        "    session_recs = test_scores.indices[left:right]\n",
        "    session_recs_scores = test_scores.data[left:right]\n",
        "    # Sort aids by score\n",
        "    sorted_recs = session_recs[np.argsort(session_recs_scores)[::-1]]\n",
        "    # Join aids\n",
        "    df_clicks_train_unique['res_encoded'][i] = sorted_recs.tolist()\n",
        "    result_click.append(sorted_recs)\n",
        "    i += 1"
      ]
    },
    {
      "cell_type": "code",
      "source": [
        "df_clicks_train_unique.to_parquet('df_clicks_train_unique.parquet')"
      ],
      "metadata": {
        "id": "hdiYmy3PEB3p"
      },
      "execution_count": 20,
      "outputs": []
    },
    {
      "cell_type": "markdown",
      "source": [
        "## Carts"
      ],
      "metadata": {
        "id": "3ZS6_JONF2Tx"
      }
    },
    {
      "cell_type": "code",
      "execution_count": 21,
      "metadata": {
        "id": "LmXA3VdXh6Ly"
      },
      "outputs": [],
      "source": [
        "def simple_knn(data, data_description):\n",
        "    urm = generate_interactions_matrix(data, data_description, rebase_users=False)\n",
        "    user_cf_scores = user_based_cf(urm, urm, topK=2000, cutoff=5)\n",
        "\n",
        "    df_unique = data[['session',\t'aid', 'ts', 'session_encoded',\t'aid_encoded']].drop_duplicates(subset='session_encoded', keep='last')\n",
        "    df_unique = df_unique.reset_index()\n",
        "    df_unique = df_unique.drop(columns=['index'])\n",
        "    df_unique['res_encoded'] = ''\n",
        "\n",
        "    test_sessions = np.unique(urm.nonzero()[0])\n",
        "    result_click = []\n",
        "    i = 0\n",
        "    test_scores = user_cf_scores[test_sessions]\n",
        "    for left, right in tqdm(zip(test_scores.indptr[:-1], test_scores.indptr[1:])):\n",
        "        session_recs = test_scores.indices[left:right]\n",
        "        session_recs_scores = test_scores.data[left:right]\n",
        "        # Sort aids by score\n",
        "        sorted_recs = session_recs[np.argsort(session_recs_scores)[::-1]]\n",
        "        # Join aids\n",
        "        df_unique['res_encoded'][i] = sorted_recs.tolist()\n",
        "        result_click.append(sorted_recs)\n",
        "        i += 1\n",
        "    return df_unique"
      ]
    },
    {
      "cell_type": "code",
      "source": [
        "data_description = dict(\n",
        "    users = 'session_encoded',\n",
        "    items = 'aid_encoded',\n",
        "    feedback = 'rating',\n",
        "    n_users = df_carts_train['session_encoded'].nunique(),\n",
        "    n_items = df_carts_train['aid_encoded'].nunique()\n",
        ")\n",
        "data_description"
      ],
      "metadata": {
        "colab": {
          "base_uri": "https://localhost:8080/"
        },
        "id": "UwJlf_YfJofe",
        "outputId": "15cbfb1e-49c5-4860-d527-eadefe958abe"
      },
      "execution_count": 22,
      "outputs": [
        {
          "output_type": "execute_result",
          "data": {
            "text/plain": [
              "{'users': 'session_encoded',\n",
              " 'items': 'aid_encoded',\n",
              " 'feedback': 'rating',\n",
              " 'n_users': 123891,\n",
              " 'n_items': 196951}"
            ]
          },
          "metadata": {},
          "execution_count": 22
        }
      ]
    },
    {
      "cell_type": "code",
      "source": [
        "df_carts_train['rating'] = 1\n",
        "df_carts_train_unique = simple_knn(df_carts_train, data_description)"
      ],
      "metadata": {
        "colab": {
          "base_uri": "https://localhost:8080/"
        },
        "id": "TjLRaDCtJtoa",
        "outputId": "424f929d-ded1-4641-871e-c285d42b6266"
      },
      "execution_count": 23,
      "outputs": [
        {
          "output_type": "stream",
          "name": "stderr",
          "text": [
            "Done: 100%|██████████| 123891/123891 [00:00<00:00, 346588.86it/s]\n"
          ]
        },
        {
          "output_type": "stream",
          "name": "stdout",
          "text": [
            "3463612\n",
            "(123891, 123891)\n",
            "(123891, 196951)\n"
          ]
        },
        {
          "output_type": "stream",
          "name": "stderr",
          "text": [
            "Done: 100%|██████████| 123891/123891 [00:00<00:00, 180057.29it/s]\n",
            "0it [00:00, ?it/s]<ipython-input-21-3fb5911632f7>:20: SettingWithCopyWarning: \n",
            "A value is trying to be set on a copy of a slice from a DataFrame\n",
            "\n",
            "See the caveats in the documentation: https://pandas.pydata.org/pandas-docs/stable/user_guide/indexing.html#returning-a-view-versus-a-copy\n",
            "  df_unique['res_encoded'][i] = sorted_recs.tolist()\n",
            "123891it [00:31, 3873.18it/s]\n"
          ]
        }
      ]
    },
    {
      "cell_type": "code",
      "source": [
        "df_carts_train_unique.to_parquet('df_carts_train_unique.parquet')"
      ],
      "metadata": {
        "id": "O0ip2KI-J2lM"
      },
      "execution_count": 24,
      "outputs": []
    },
    {
      "cell_type": "markdown",
      "source": [
        "## Orders"
      ],
      "metadata": {
        "id": "1G2NSCiHKjLN"
      }
    },
    {
      "cell_type": "code",
      "source": [
        "data_description = dict(\n",
        "    users = 'session_encoded',\n",
        "    items = 'aid_encoded',\n",
        "    feedback = 'rating',\n",
        "    n_users = df_orders_train['session_encoded'].nunique(),\n",
        "    n_items = df_orders_train['aid_encoded'].nunique()\n",
        ")\n",
        "data_description"
      ],
      "metadata": {
        "colab": {
          "base_uri": "https://localhost:8080/"
        },
        "id": "YCCj0yqFKZgR",
        "outputId": "102b54fc-5280-4247-a51e-12df26068569"
      },
      "execution_count": 25,
      "outputs": [
        {
          "output_type": "execute_result",
          "data": {
            "text/plain": [
              "{'users': 'session_encoded',\n",
              " 'items': 'aid_encoded',\n",
              " 'feedback': 'rating',\n",
              " 'n_users': 55845,\n",
              " 'n_items': 79824}"
            ]
          },
          "metadata": {},
          "execution_count": 25
        }
      ]
    },
    {
      "cell_type": "code",
      "source": [
        "df_orders_train['rating'] = 1\n",
        "df_orders_train_unique = simple_knn(df_orders_train, data_description)"
      ],
      "metadata": {
        "colab": {
          "base_uri": "https://localhost:8080/"
        },
        "id": "Gbf_MyA7Kq5E",
        "outputId": "90167745-cb50-4044-c20d-ad3ac295fbd1"
      },
      "execution_count": 26,
      "outputs": [
        {
          "output_type": "stream",
          "name": "stderr",
          "text": [
            "Done: 100%|██████████| 55845/55845 [00:00<00:00, 832081.37it/s]\n"
          ]
        },
        {
          "output_type": "stream",
          "name": "stdout",
          "text": [
            "756440\n",
            "(55845, 55845)\n",
            "(55845, 79824)\n"
          ]
        },
        {
          "output_type": "stream",
          "name": "stderr",
          "text": [
            "Done: 100%|██████████| 55845/55845 [00:00<00:00, 463915.44it/s]\n",
            "0it [00:00, ?it/s]<ipython-input-21-3fb5911632f7>:20: SettingWithCopyWarning: \n",
            "A value is trying to be set on a copy of a slice from a DataFrame\n",
            "\n",
            "See the caveats in the documentation: https://pandas.pydata.org/pandas-docs/stable/user_guide/indexing.html#returning-a-view-versus-a-copy\n",
            "  df_unique['res_encoded'][i] = sorted_recs.tolist()\n",
            "55845it [00:14, 3869.84it/s]\n"
          ]
        }
      ]
    },
    {
      "cell_type": "code",
      "source": [
        "df_orders_train_unique.to_parquet('df_orders_train_unique.parquet')"
      ],
      "metadata": {
        "id": "72kd8QCeKvt8"
      },
      "execution_count": 27,
      "outputs": []
    },
    {
      "cell_type": "markdown",
      "source": [
        "## KNN + Normalization"
      ],
      "metadata": {
        "id": "Fw0sAN52PiEQ"
      }
    },
    {
      "cell_type": "markdown",
      "source": [
        "## CLICKS"
      ],
      "metadata": {
        "id": "ULlrtn-pQuGV"
      }
    },
    {
      "cell_type": "code",
      "source": [
        "def scoring_func(user_cf_scores, df, column, test_sessions):\n",
        "    i = 0\n",
        "    test_scores = user_cf_scores[test_sessions]\n",
        "    for left, right in tqdm(zip(test_scores.indptr[:-1], test_scores.indptr[1:])):\n",
        "        session_recs = test_scores.indices[left:right]\n",
        "        session_recs_scores = test_scores.data[left:right]\n",
        "        # Sort aids by score\n",
        "        sorted_recs = session_recs[np.argsort(session_recs_scores)[::-1]]\n",
        "        # Join aids\n",
        "        df[column][i] = sorted_recs.tolist()\n",
        "        result_click.append(sorted_recs)\n",
        "        i += 1\n",
        "    return df"
      ],
      "metadata": {
        "id": "VQK_9hzSUIsE"
      },
      "execution_count": 28,
      "outputs": []
    },
    {
      "cell_type": "code",
      "source": [
        "def norm_knn(data, data_description):\n",
        "    urm = generate_interactions_matrix(data, data_description, rebase_users=False)\n",
        "    urm_tfidf = sim.normalization.tfidf(urm)\n",
        "\n",
        "    user_cf_scores = user_based_cf(urm, urm, topK=2000, cutoff=5)\n",
        "    user_cf_scores_tfidf = user_based_cf(urm_tfidf, urm_tfidf, topK=2000, cutoff=5)\n",
        "\n",
        "    df_unique = data[['session',\t'aid', 'ts', 'session_encoded',\t'aid_encoded']].drop_duplicates(subset='session_encoded', keep='last')\n",
        "    df_unique = df_unique.reset_index()\n",
        "    df_unique = df_unique.drop(columns=['index'])\n",
        "    df_unique['res_encoded'] = ''\n",
        "    df_unique['res_encoded_tfidf'] = ''\n",
        "\n",
        "    test_sessions = np.unique(urm.nonzero()[0])\n",
        "    result_click = []\n",
        "    i = 0\n",
        "    test_scores = user_cf_scores[test_sessions]\n",
        "    df_unique = scoring_func(user_cf_scores, df_unique, 'res_encoded', test_sessions)\n",
        "    df_unique = scoring_func(user_cf_scores_tfidf, df_unique, 'res_encoded_tfidf', test_sessions)\n",
        "    return df_unique"
      ],
      "metadata": {
        "id": "6tw35b_GK0LC"
      },
      "execution_count": 29,
      "outputs": []
    },
    {
      "cell_type": "code",
      "source": [
        "data_description = dict(\n",
        "    users = 'session_encoded',\n",
        "    items = 'aid_encoded',\n",
        "    feedback = 'rating',\n",
        "    n_users = df_clicks_train['session_encoded'].nunique(),\n",
        "    n_items = df_clicks_train['aid_encoded'].nunique()\n",
        ")\n",
        "data_description"
      ],
      "metadata": {
        "colab": {
          "base_uri": "https://localhost:8080/"
        },
        "id": "3yKS6_S0VI-e",
        "outputId": "acefef62-ae74-4860-c408-b1f3a47ea32b"
      },
      "execution_count": 30,
      "outputs": [
        {
          "output_type": "execute_result",
          "data": {
            "text/plain": [
              "{'users': 'session_encoded',\n",
              " 'items': 'aid_encoded',\n",
              " 'feedback': 'rating',\n",
              " 'n_users': 385470,\n",
              " 'n_items': 774068}"
            ]
          },
          "metadata": {},
          "execution_count": 30
        }
      ]
    },
    {
      "cell_type": "code",
      "source": [
        "df_clicks_train['rating'] = 1\n",
        "df_clicks_train_unique = norm_knn(df_clicks_train, data_description)"
      ],
      "metadata": {
        "colab": {
          "base_uri": "https://localhost:8080/"
        },
        "id": "lpWcjXajVMqi",
        "outputId": "8ad97e68-8cee-4515-ea27-e22d563a19ee"
      },
      "execution_count": 31,
      "outputs": [
        {
          "output_type": "stream",
          "name": "stderr",
          "text": [
            "Done: 100%|██████████| 385470/385470 [00:12<00:00, 31948.50it/s]\n"
          ]
        },
        {
          "output_type": "stream",
          "name": "stdout",
          "text": [
            "29895516\n",
            "(385470, 385470)\n",
            "(385470, 774068)\n"
          ]
        },
        {
          "output_type": "stream",
          "name": "stderr",
          "text": [
            "Done: 100%|██████████| 385470/385470 [00:15<00:00, 25193.67it/s]\n",
            "Done: 100%|██████████| 385470/385470 [00:10<00:00, 37038.77it/s]\n"
          ]
        },
        {
          "output_type": "stream",
          "name": "stdout",
          "text": [
            "29895516\n",
            "(385470, 385470)\n",
            "(385470, 774068)\n"
          ]
        },
        {
          "output_type": "stream",
          "name": "stderr",
          "text": [
            "Done: 100%|██████████| 385470/385470 [00:12<00:00, 29855.33it/s]\n",
            "0it [00:00, ?it/s]<ipython-input-28-0a6b921e72e9>:10: SettingWithCopyWarning: \n",
            "A value is trying to be set on a copy of a slice from a DataFrame\n",
            "\n",
            "See the caveats in the documentation: https://pandas.pydata.org/pandas-docs/stable/user_guide/indexing.html#returning-a-view-versus-a-copy\n",
            "  df[column][i] = sorted_recs.tolist()\n",
            "385470it [01:46, 3624.40it/s]\n",
            "385470it [01:49, 3506.55it/s]\n"
          ]
        }
      ]
    },
    {
      "cell_type": "code",
      "source": [
        "df_clicks_train_unique.head()"
      ],
      "metadata": {
        "colab": {
          "base_uri": "https://localhost:8080/",
          "height": 293
        },
        "id": "ZDmEDBtfVca-",
        "outputId": "81279c3f-fe86-4416-e102-c13d568104fc"
      },
      "execution_count": 32,
      "outputs": [
        {
          "output_type": "execute_result",
          "data": {
            "text/plain": [
              "   session      aid             ts  session_encoded  aid_encoded  \\\n",
              "0        0  1582117  1660244973157                0       660071   \n",
              "1        1   959544  1659991199405                1       400102   \n",
              "2        3    54857  1660075780356                2        22877   \n",
              "3        6  1329892  1659996712947                3       554595   \n",
              "4        7   129869  1660222041409                4        54267   \n",
              "\n",
              "                                         res_encoded  \\\n",
              "0  [756623, 447279, 767847, 309654, 278368, 51127...   \n",
              "1  [723568, 44170, 299744, 89661, 365911, 742127,...   \n",
              "2  [257579, 410617, 22877, 560279, 592905, 3539, ...   \n",
              "3  [102928, 554595, 599982, 404320, 362899, 77393...   \n",
              "4  [54267, 39989, 231436, 544107, 353385, 624719,...   \n",
              "\n",
              "                                   res_encoded_tfidf  \n",
              "0  [756623, 767847, 278368, 511274, 295778, 30965...  \n",
              "1  [723568, 89661, 44170, 299744, 356498, 20843, ...  \n",
              "2  [410617, 22877, 257579, 408573, 754463, 240916...  \n",
              "3  [102928, 554595, 404320, 599982, 44850, 773930...  \n",
              "4  [54267, 231436, 39989, 544107, 250768, 292773,...  "
            ],
            "text/html": [
              "\n",
              "  <div id=\"df-12d9adee-301b-470e-b0d4-6a9cc8b03828\" class=\"colab-df-container\">\n",
              "    <div>\n",
              "<style scoped>\n",
              "    .dataframe tbody tr th:only-of-type {\n",
              "        vertical-align: middle;\n",
              "    }\n",
              "\n",
              "    .dataframe tbody tr th {\n",
              "        vertical-align: top;\n",
              "    }\n",
              "\n",
              "    .dataframe thead th {\n",
              "        text-align: right;\n",
              "    }\n",
              "</style>\n",
              "<table border=\"1\" class=\"dataframe\">\n",
              "  <thead>\n",
              "    <tr style=\"text-align: right;\">\n",
              "      <th></th>\n",
              "      <th>session</th>\n",
              "      <th>aid</th>\n",
              "      <th>ts</th>\n",
              "      <th>session_encoded</th>\n",
              "      <th>aid_encoded</th>\n",
              "      <th>res_encoded</th>\n",
              "      <th>res_encoded_tfidf</th>\n",
              "    </tr>\n",
              "  </thead>\n",
              "  <tbody>\n",
              "    <tr>\n",
              "      <th>0</th>\n",
              "      <td>0</td>\n",
              "      <td>1582117</td>\n",
              "      <td>1660244973157</td>\n",
              "      <td>0</td>\n",
              "      <td>660071</td>\n",
              "      <td>[756623, 447279, 767847, 309654, 278368, 51127...</td>\n",
              "      <td>[756623, 767847, 278368, 511274, 295778, 30965...</td>\n",
              "    </tr>\n",
              "    <tr>\n",
              "      <th>1</th>\n",
              "      <td>1</td>\n",
              "      <td>959544</td>\n",
              "      <td>1659991199405</td>\n",
              "      <td>1</td>\n",
              "      <td>400102</td>\n",
              "      <td>[723568, 44170, 299744, 89661, 365911, 742127,...</td>\n",
              "      <td>[723568, 89661, 44170, 299744, 356498, 20843, ...</td>\n",
              "    </tr>\n",
              "    <tr>\n",
              "      <th>2</th>\n",
              "      <td>3</td>\n",
              "      <td>54857</td>\n",
              "      <td>1660075780356</td>\n",
              "      <td>2</td>\n",
              "      <td>22877</td>\n",
              "      <td>[257579, 410617, 22877, 560279, 592905, 3539, ...</td>\n",
              "      <td>[410617, 22877, 257579, 408573, 754463, 240916...</td>\n",
              "    </tr>\n",
              "    <tr>\n",
              "      <th>3</th>\n",
              "      <td>6</td>\n",
              "      <td>1329892</td>\n",
              "      <td>1659996712947</td>\n",
              "      <td>3</td>\n",
              "      <td>554595</td>\n",
              "      <td>[102928, 554595, 599982, 404320, 362899, 77393...</td>\n",
              "      <td>[102928, 554595, 404320, 599982, 44850, 773930...</td>\n",
              "    </tr>\n",
              "    <tr>\n",
              "      <th>4</th>\n",
              "      <td>7</td>\n",
              "      <td>129869</td>\n",
              "      <td>1660222041409</td>\n",
              "      <td>4</td>\n",
              "      <td>54267</td>\n",
              "      <td>[54267, 39989, 231436, 544107, 353385, 624719,...</td>\n",
              "      <td>[54267, 231436, 39989, 544107, 250768, 292773,...</td>\n",
              "    </tr>\n",
              "  </tbody>\n",
              "</table>\n",
              "</div>\n",
              "    <div class=\"colab-df-buttons\">\n",
              "\n",
              "  <div class=\"colab-df-container\">\n",
              "    <button class=\"colab-df-convert\" onclick=\"convertToInteractive('df-12d9adee-301b-470e-b0d4-6a9cc8b03828')\"\n",
              "            title=\"Convert this dataframe to an interactive table.\"\n",
              "            style=\"display:none;\">\n",
              "\n",
              "  <svg xmlns=\"http://www.w3.org/2000/svg\" height=\"24px\" viewBox=\"0 -960 960 960\">\n",
              "    <path d=\"M120-120v-720h720v720H120Zm60-500h600v-160H180v160Zm220 220h160v-160H400v160Zm0 220h160v-160H400v160ZM180-400h160v-160H180v160Zm440 0h160v-160H620v160ZM180-180h160v-160H180v160Zm440 0h160v-160H620v160Z\"/>\n",
              "  </svg>\n",
              "    </button>\n",
              "\n",
              "  <style>\n",
              "    .colab-df-container {\n",
              "      display:flex;\n",
              "      gap: 12px;\n",
              "    }\n",
              "\n",
              "    .colab-df-convert {\n",
              "      background-color: #E8F0FE;\n",
              "      border: none;\n",
              "      border-radius: 50%;\n",
              "      cursor: pointer;\n",
              "      display: none;\n",
              "      fill: #1967D2;\n",
              "      height: 32px;\n",
              "      padding: 0 0 0 0;\n",
              "      width: 32px;\n",
              "    }\n",
              "\n",
              "    .colab-df-convert:hover {\n",
              "      background-color: #E2EBFA;\n",
              "      box-shadow: 0px 1px 2px rgba(60, 64, 67, 0.3), 0px 1px 3px 1px rgba(60, 64, 67, 0.15);\n",
              "      fill: #174EA6;\n",
              "    }\n",
              "\n",
              "    .colab-df-buttons div {\n",
              "      margin-bottom: 4px;\n",
              "    }\n",
              "\n",
              "    [theme=dark] .colab-df-convert {\n",
              "      background-color: #3B4455;\n",
              "      fill: #D2E3FC;\n",
              "    }\n",
              "\n",
              "    [theme=dark] .colab-df-convert:hover {\n",
              "      background-color: #434B5C;\n",
              "      box-shadow: 0px 1px 3px 1px rgba(0, 0, 0, 0.15);\n",
              "      filter: drop-shadow(0px 1px 2px rgba(0, 0, 0, 0.3));\n",
              "      fill: #FFFFFF;\n",
              "    }\n",
              "  </style>\n",
              "\n",
              "    <script>\n",
              "      const buttonEl =\n",
              "        document.querySelector('#df-12d9adee-301b-470e-b0d4-6a9cc8b03828 button.colab-df-convert');\n",
              "      buttonEl.style.display =\n",
              "        google.colab.kernel.accessAllowed ? 'block' : 'none';\n",
              "\n",
              "      async function convertToInteractive(key) {\n",
              "        const element = document.querySelector('#df-12d9adee-301b-470e-b0d4-6a9cc8b03828');\n",
              "        const dataTable =\n",
              "          await google.colab.kernel.invokeFunction('convertToInteractive',\n",
              "                                                    [key], {});\n",
              "        if (!dataTable) return;\n",
              "\n",
              "        const docLinkHtml = 'Like what you see? Visit the ' +\n",
              "          '<a target=\"_blank\" href=https://colab.research.google.com/notebooks/data_table.ipynb>data table notebook</a>'\n",
              "          + ' to learn more about interactive tables.';\n",
              "        element.innerHTML = '';\n",
              "        dataTable['output_type'] = 'display_data';\n",
              "        await google.colab.output.renderOutput(dataTable, element);\n",
              "        const docLink = document.createElement('div');\n",
              "        docLink.innerHTML = docLinkHtml;\n",
              "        element.appendChild(docLink);\n",
              "      }\n",
              "    </script>\n",
              "  </div>\n",
              "\n",
              "\n",
              "<div id=\"df-49a425a9-7043-4fe2-ab85-fa68bab29ae5\">\n",
              "  <button class=\"colab-df-quickchart\" onclick=\"quickchart('df-49a425a9-7043-4fe2-ab85-fa68bab29ae5')\"\n",
              "            title=\"Suggest charts\"\n",
              "            style=\"display:none;\">\n",
              "\n",
              "<svg xmlns=\"http://www.w3.org/2000/svg\" height=\"24px\"viewBox=\"0 0 24 24\"\n",
              "     width=\"24px\">\n",
              "    <g>\n",
              "        <path d=\"M19 3H5c-1.1 0-2 .9-2 2v14c0 1.1.9 2 2 2h14c1.1 0 2-.9 2-2V5c0-1.1-.9-2-2-2zM9 17H7v-7h2v7zm4 0h-2V7h2v10zm4 0h-2v-4h2v4z\"/>\n",
              "    </g>\n",
              "</svg>\n",
              "  </button>\n",
              "\n",
              "<style>\n",
              "  .colab-df-quickchart {\n",
              "      --bg-color: #E8F0FE;\n",
              "      --fill-color: #1967D2;\n",
              "      --hover-bg-color: #E2EBFA;\n",
              "      --hover-fill-color: #174EA6;\n",
              "      --disabled-fill-color: #AAA;\n",
              "      --disabled-bg-color: #DDD;\n",
              "  }\n",
              "\n",
              "  [theme=dark] .colab-df-quickchart {\n",
              "      --bg-color: #3B4455;\n",
              "      --fill-color: #D2E3FC;\n",
              "      --hover-bg-color: #434B5C;\n",
              "      --hover-fill-color: #FFFFFF;\n",
              "      --disabled-bg-color: #3B4455;\n",
              "      --disabled-fill-color: #666;\n",
              "  }\n",
              "\n",
              "  .colab-df-quickchart {\n",
              "    background-color: var(--bg-color);\n",
              "    border: none;\n",
              "    border-radius: 50%;\n",
              "    cursor: pointer;\n",
              "    display: none;\n",
              "    fill: var(--fill-color);\n",
              "    height: 32px;\n",
              "    padding: 0;\n",
              "    width: 32px;\n",
              "  }\n",
              "\n",
              "  .colab-df-quickchart:hover {\n",
              "    background-color: var(--hover-bg-color);\n",
              "    box-shadow: 0 1px 2px rgba(60, 64, 67, 0.3), 0 1px 3px 1px rgba(60, 64, 67, 0.15);\n",
              "    fill: var(--button-hover-fill-color);\n",
              "  }\n",
              "\n",
              "  .colab-df-quickchart-complete:disabled,\n",
              "  .colab-df-quickchart-complete:disabled:hover {\n",
              "    background-color: var(--disabled-bg-color);\n",
              "    fill: var(--disabled-fill-color);\n",
              "    box-shadow: none;\n",
              "  }\n",
              "\n",
              "  .colab-df-spinner {\n",
              "    border: 2px solid var(--fill-color);\n",
              "    border-color: transparent;\n",
              "    border-bottom-color: var(--fill-color);\n",
              "    animation:\n",
              "      spin 1s steps(1) infinite;\n",
              "  }\n",
              "\n",
              "  @keyframes spin {\n",
              "    0% {\n",
              "      border-color: transparent;\n",
              "      border-bottom-color: var(--fill-color);\n",
              "      border-left-color: var(--fill-color);\n",
              "    }\n",
              "    20% {\n",
              "      border-color: transparent;\n",
              "      border-left-color: var(--fill-color);\n",
              "      border-top-color: var(--fill-color);\n",
              "    }\n",
              "    30% {\n",
              "      border-color: transparent;\n",
              "      border-left-color: var(--fill-color);\n",
              "      border-top-color: var(--fill-color);\n",
              "      border-right-color: var(--fill-color);\n",
              "    }\n",
              "    40% {\n",
              "      border-color: transparent;\n",
              "      border-right-color: var(--fill-color);\n",
              "      border-top-color: var(--fill-color);\n",
              "    }\n",
              "    60% {\n",
              "      border-color: transparent;\n",
              "      border-right-color: var(--fill-color);\n",
              "    }\n",
              "    80% {\n",
              "      border-color: transparent;\n",
              "      border-right-color: var(--fill-color);\n",
              "      border-bottom-color: var(--fill-color);\n",
              "    }\n",
              "    90% {\n",
              "      border-color: transparent;\n",
              "      border-bottom-color: var(--fill-color);\n",
              "    }\n",
              "  }\n",
              "</style>\n",
              "\n",
              "  <script>\n",
              "    async function quickchart(key) {\n",
              "      const quickchartButtonEl =\n",
              "        document.querySelector('#' + key + ' button');\n",
              "      quickchartButtonEl.disabled = true;  // To prevent multiple clicks.\n",
              "      quickchartButtonEl.classList.add('colab-df-spinner');\n",
              "      try {\n",
              "        const charts = await google.colab.kernel.invokeFunction(\n",
              "            'suggestCharts', [key], {});\n",
              "      } catch (error) {\n",
              "        console.error('Error during call to suggestCharts:', error);\n",
              "      }\n",
              "      quickchartButtonEl.classList.remove('colab-df-spinner');\n",
              "      quickchartButtonEl.classList.add('colab-df-quickchart-complete');\n",
              "    }\n",
              "    (() => {\n",
              "      let quickchartButtonEl =\n",
              "        document.querySelector('#df-49a425a9-7043-4fe2-ab85-fa68bab29ae5 button');\n",
              "      quickchartButtonEl.style.display =\n",
              "        google.colab.kernel.accessAllowed ? 'block' : 'none';\n",
              "    })();\n",
              "  </script>\n",
              "</div>\n",
              "    </div>\n",
              "  </div>\n"
            ]
          },
          "metadata": {},
          "execution_count": 32
        }
      ]
    },
    {
      "cell_type": "code",
      "source": [
        "df_clicks_train_unique.to_parquet('df_clicks_train_unique.parquet')"
      ],
      "metadata": {
        "id": "_dNQVQNxVRgA"
      },
      "execution_count": 33,
      "outputs": []
    },
    {
      "cell_type": "markdown",
      "source": [
        "## Carts"
      ],
      "metadata": {
        "id": "2VXiDF1-bWie"
      }
    },
    {
      "cell_type": "code",
      "source": [
        "data_description = dict(\n",
        "    users = 'session_encoded',\n",
        "    items = 'aid_encoded',\n",
        "    feedback = 'rating',\n",
        "    n_users = df_carts_train['session_encoded'].nunique(),\n",
        "    n_items = df_carts_train['aid_encoded'].nunique()\n",
        ")\n",
        "data_description"
      ],
      "metadata": {
        "colab": {
          "base_uri": "https://localhost:8080/"
        },
        "id": "iosCvjn2bS1g",
        "outputId": "60ab774c-0504-4c5e-d0e5-3e2de2fba451"
      },
      "execution_count": 34,
      "outputs": [
        {
          "output_type": "execute_result",
          "data": {
            "text/plain": [
              "{'users': 'session_encoded',\n",
              " 'items': 'aid_encoded',\n",
              " 'feedback': 'rating',\n",
              " 'n_users': 123891,\n",
              " 'n_items': 196951}"
            ]
          },
          "metadata": {},
          "execution_count": 34
        }
      ]
    },
    {
      "cell_type": "code",
      "source": [
        "df_carts_train['rating'] = 1\n",
        "df_carts_train_unique = norm_knn(df_carts_train, data_description)"
      ],
      "metadata": {
        "colab": {
          "base_uri": "https://localhost:8080/"
        },
        "id": "AJ6LC7Flbb16",
        "outputId": "1ffdb37d-8a62-4ef6-af84-4511c647cfb9"
      },
      "execution_count": 35,
      "outputs": [
        {
          "output_type": "stream",
          "name": "stderr",
          "text": [
            "Done: 100%|██████████| 123891/123891 [00:00<00:00, 440086.48it/s]\n"
          ]
        },
        {
          "output_type": "stream",
          "name": "stdout",
          "text": [
            "3463612\n",
            "(123891, 123891)\n",
            "(123891, 196951)\n"
          ]
        },
        {
          "output_type": "stream",
          "name": "stderr",
          "text": [
            "Done: 100%|██████████| 123891/123891 [00:01<00:00, 119266.69it/s]\n",
            "Done: 100%|██████████| 123891/123891 [00:00<00:00, 287481.77it/s]\n"
          ]
        },
        {
          "output_type": "stream",
          "name": "stdout",
          "text": [
            "3463612\n",
            "(123891, 123891)\n",
            "(123891, 196951)\n"
          ]
        },
        {
          "output_type": "stream",
          "name": "stderr",
          "text": [
            "Done: 100%|██████████| 123891/123891 [00:00<00:00, 164205.03it/s]\n",
            "0it [00:00, ?it/s]<ipython-input-28-0a6b921e72e9>:10: SettingWithCopyWarning: \n",
            "A value is trying to be set on a copy of a slice from a DataFrame\n",
            "\n",
            "See the caveats in the documentation: https://pandas.pydata.org/pandas-docs/stable/user_guide/indexing.html#returning-a-view-versus-a-copy\n",
            "  df[column][i] = sorted_recs.tolist()\n",
            "123891it [00:31, 3880.82it/s]\n",
            "123891it [00:32, 3833.09it/s]\n"
          ]
        }
      ]
    },
    {
      "cell_type": "code",
      "source": [
        "df_carts_train_unique.to_parquet('df_carts_train_unique.parquet')"
      ],
      "metadata": {
        "id": "5C4A8ip0bf4c"
      },
      "execution_count": 36,
      "outputs": []
    },
    {
      "cell_type": "code",
      "source": [
        "df_carts_train_unique"
      ],
      "metadata": {
        "colab": {
          "base_uri": "https://localhost:8080/",
          "height": 562
        },
        "id": "Hg4PTTbOcVcR",
        "outputId": "661765fc-b2dd-4d15-f027-e789face0a13"
      },
      "execution_count": 37,
      "outputs": [
        {
          "output_type": "execute_result",
          "data": {
            "text/plain": [
              "        session      aid             ts  session_encoded  aid_encoded  \\\n",
              "0             1   105393  1659991168139                0        11165   \n",
              "1             3   812246  1659997178730                1        85682   \n",
              "2            11  1528062  1660209891347                2       162083   \n",
              "3            13   139863  1659735763747                3        14763   \n",
              "4            14   200631  1660049357293                4        21059   \n",
              "...         ...      ...            ...              ...          ...   \n",
              "123886   327655  1485859  1660053679181            60632       157612   \n",
              "123887   327658   193755  1660069318178            60633        20378   \n",
              "123888   327664   111057  1659878447598            60634        11732   \n",
              "123889   327675   933444  1660067122781            60635        98531   \n",
              "123890   327677   647856  1660047841682            60636        68245   \n",
              "\n",
              "                                              res_encoded  \\\n",
              "0       [11165, 22654, 113492, 90229, 68176, 83514, 11...   \n",
              "1       [104042, 3076, 75342, 78965, 176303, 13517, 59...   \n",
              "2       [121198, 11935, 36190, 145931, 127393, 90991, ...   \n",
              "3                                                      []   \n",
              "4       [21059, 98067, 143545, 56457, 142407, 21345, 1...   \n",
              "...                                                   ...   \n",
              "123886  [93002, 104213, 58377, 61542, 65396, 128869, 1...   \n",
              "123887                                   [116290, 149467]   \n",
              "123888  [168759, 122276, 84033, 79595, 72438, 70721, 1...   \n",
              "123889  [6490, 15768, 168058, 74564, 191476, 149684, 7...   \n",
              "123890  [144529, 173916, 46284, 83819, 138141, 118668,...   \n",
              "\n",
              "                                        res_encoded_tfidf  \n",
              "0       [11165, 22654, 113492, 90229, 110168, 83514, 6...  \n",
              "1       [104042, 75342, 3076, 13517, 133579, 5823, 789...  \n",
              "2       [121198, 127393, 11935, 145931, 90991, 21238, ...  \n",
              "3                                                      []  \n",
              "4       [21059, 56457, 38408, 143545, 170858, 98067, 1...  \n",
              "...                                                   ...  \n",
              "123886  [93002, 104213, 61542, 128869, 28828, 98547, 1...  \n",
              "123887                                   [116290, 149467]  \n",
              "123888  [168759, 161348, 122276, 13910, 142707, 98354,...  \n",
              "123889  [15768, 6490, 168058, 191476, 74564, 43597, 63...  \n",
              "123890  [144529, 83819, 46284, 138141, 195854, 173916,...  \n",
              "\n",
              "[123891 rows x 7 columns]"
            ],
            "text/html": [
              "\n",
              "  <div id=\"df-84358e2b-6bb5-4afd-842b-8d99f2e96c4c\" class=\"colab-df-container\">\n",
              "    <div>\n",
              "<style scoped>\n",
              "    .dataframe tbody tr th:only-of-type {\n",
              "        vertical-align: middle;\n",
              "    }\n",
              "\n",
              "    .dataframe tbody tr th {\n",
              "        vertical-align: top;\n",
              "    }\n",
              "\n",
              "    .dataframe thead th {\n",
              "        text-align: right;\n",
              "    }\n",
              "</style>\n",
              "<table border=\"1\" class=\"dataframe\">\n",
              "  <thead>\n",
              "    <tr style=\"text-align: right;\">\n",
              "      <th></th>\n",
              "      <th>session</th>\n",
              "      <th>aid</th>\n",
              "      <th>ts</th>\n",
              "      <th>session_encoded</th>\n",
              "      <th>aid_encoded</th>\n",
              "      <th>res_encoded</th>\n",
              "      <th>res_encoded_tfidf</th>\n",
              "    </tr>\n",
              "  </thead>\n",
              "  <tbody>\n",
              "    <tr>\n",
              "      <th>0</th>\n",
              "      <td>1</td>\n",
              "      <td>105393</td>\n",
              "      <td>1659991168139</td>\n",
              "      <td>0</td>\n",
              "      <td>11165</td>\n",
              "      <td>[11165, 22654, 113492, 90229, 68176, 83514, 11...</td>\n",
              "      <td>[11165, 22654, 113492, 90229, 110168, 83514, 6...</td>\n",
              "    </tr>\n",
              "    <tr>\n",
              "      <th>1</th>\n",
              "      <td>3</td>\n",
              "      <td>812246</td>\n",
              "      <td>1659997178730</td>\n",
              "      <td>1</td>\n",
              "      <td>85682</td>\n",
              "      <td>[104042, 3076, 75342, 78965, 176303, 13517, 59...</td>\n",
              "      <td>[104042, 75342, 3076, 13517, 133579, 5823, 789...</td>\n",
              "    </tr>\n",
              "    <tr>\n",
              "      <th>2</th>\n",
              "      <td>11</td>\n",
              "      <td>1528062</td>\n",
              "      <td>1660209891347</td>\n",
              "      <td>2</td>\n",
              "      <td>162083</td>\n",
              "      <td>[121198, 11935, 36190, 145931, 127393, 90991, ...</td>\n",
              "      <td>[121198, 127393, 11935, 145931, 90991, 21238, ...</td>\n",
              "    </tr>\n",
              "    <tr>\n",
              "      <th>3</th>\n",
              "      <td>13</td>\n",
              "      <td>139863</td>\n",
              "      <td>1659735763747</td>\n",
              "      <td>3</td>\n",
              "      <td>14763</td>\n",
              "      <td>[]</td>\n",
              "      <td>[]</td>\n",
              "    </tr>\n",
              "    <tr>\n",
              "      <th>4</th>\n",
              "      <td>14</td>\n",
              "      <td>200631</td>\n",
              "      <td>1660049357293</td>\n",
              "      <td>4</td>\n",
              "      <td>21059</td>\n",
              "      <td>[21059, 98067, 143545, 56457, 142407, 21345, 1...</td>\n",
              "      <td>[21059, 56457, 38408, 143545, 170858, 98067, 1...</td>\n",
              "    </tr>\n",
              "    <tr>\n",
              "      <th>...</th>\n",
              "      <td>...</td>\n",
              "      <td>...</td>\n",
              "      <td>...</td>\n",
              "      <td>...</td>\n",
              "      <td>...</td>\n",
              "      <td>...</td>\n",
              "      <td>...</td>\n",
              "    </tr>\n",
              "    <tr>\n",
              "      <th>123886</th>\n",
              "      <td>327655</td>\n",
              "      <td>1485859</td>\n",
              "      <td>1660053679181</td>\n",
              "      <td>60632</td>\n",
              "      <td>157612</td>\n",
              "      <td>[93002, 104213, 58377, 61542, 65396, 128869, 1...</td>\n",
              "      <td>[93002, 104213, 61542, 128869, 28828, 98547, 1...</td>\n",
              "    </tr>\n",
              "    <tr>\n",
              "      <th>123887</th>\n",
              "      <td>327658</td>\n",
              "      <td>193755</td>\n",
              "      <td>1660069318178</td>\n",
              "      <td>60633</td>\n",
              "      <td>20378</td>\n",
              "      <td>[116290, 149467]</td>\n",
              "      <td>[116290, 149467]</td>\n",
              "    </tr>\n",
              "    <tr>\n",
              "      <th>123888</th>\n",
              "      <td>327664</td>\n",
              "      <td>111057</td>\n",
              "      <td>1659878447598</td>\n",
              "      <td>60634</td>\n",
              "      <td>11732</td>\n",
              "      <td>[168759, 122276, 84033, 79595, 72438, 70721, 1...</td>\n",
              "      <td>[168759, 161348, 122276, 13910, 142707, 98354,...</td>\n",
              "    </tr>\n",
              "    <tr>\n",
              "      <th>123889</th>\n",
              "      <td>327675</td>\n",
              "      <td>933444</td>\n",
              "      <td>1660067122781</td>\n",
              "      <td>60635</td>\n",
              "      <td>98531</td>\n",
              "      <td>[6490, 15768, 168058, 74564, 191476, 149684, 7...</td>\n",
              "      <td>[15768, 6490, 168058, 191476, 74564, 43597, 63...</td>\n",
              "    </tr>\n",
              "    <tr>\n",
              "      <th>123890</th>\n",
              "      <td>327677</td>\n",
              "      <td>647856</td>\n",
              "      <td>1660047841682</td>\n",
              "      <td>60636</td>\n",
              "      <td>68245</td>\n",
              "      <td>[144529, 173916, 46284, 83819, 138141, 118668,...</td>\n",
              "      <td>[144529, 83819, 46284, 138141, 195854, 173916,...</td>\n",
              "    </tr>\n",
              "  </tbody>\n",
              "</table>\n",
              "<p>123891 rows × 7 columns</p>\n",
              "</div>\n",
              "    <div class=\"colab-df-buttons\">\n",
              "\n",
              "  <div class=\"colab-df-container\">\n",
              "    <button class=\"colab-df-convert\" onclick=\"convertToInteractive('df-84358e2b-6bb5-4afd-842b-8d99f2e96c4c')\"\n",
              "            title=\"Convert this dataframe to an interactive table.\"\n",
              "            style=\"display:none;\">\n",
              "\n",
              "  <svg xmlns=\"http://www.w3.org/2000/svg\" height=\"24px\" viewBox=\"0 -960 960 960\">\n",
              "    <path d=\"M120-120v-720h720v720H120Zm60-500h600v-160H180v160Zm220 220h160v-160H400v160Zm0 220h160v-160H400v160ZM180-400h160v-160H180v160Zm440 0h160v-160H620v160ZM180-180h160v-160H180v160Zm440 0h160v-160H620v160Z\"/>\n",
              "  </svg>\n",
              "    </button>\n",
              "\n",
              "  <style>\n",
              "    .colab-df-container {\n",
              "      display:flex;\n",
              "      gap: 12px;\n",
              "    }\n",
              "\n",
              "    .colab-df-convert {\n",
              "      background-color: #E8F0FE;\n",
              "      border: none;\n",
              "      border-radius: 50%;\n",
              "      cursor: pointer;\n",
              "      display: none;\n",
              "      fill: #1967D2;\n",
              "      height: 32px;\n",
              "      padding: 0 0 0 0;\n",
              "      width: 32px;\n",
              "    }\n",
              "\n",
              "    .colab-df-convert:hover {\n",
              "      background-color: #E2EBFA;\n",
              "      box-shadow: 0px 1px 2px rgba(60, 64, 67, 0.3), 0px 1px 3px 1px rgba(60, 64, 67, 0.15);\n",
              "      fill: #174EA6;\n",
              "    }\n",
              "\n",
              "    .colab-df-buttons div {\n",
              "      margin-bottom: 4px;\n",
              "    }\n",
              "\n",
              "    [theme=dark] .colab-df-convert {\n",
              "      background-color: #3B4455;\n",
              "      fill: #D2E3FC;\n",
              "    }\n",
              "\n",
              "    [theme=dark] .colab-df-convert:hover {\n",
              "      background-color: #434B5C;\n",
              "      box-shadow: 0px 1px 3px 1px rgba(0, 0, 0, 0.15);\n",
              "      filter: drop-shadow(0px 1px 2px rgba(0, 0, 0, 0.3));\n",
              "      fill: #FFFFFF;\n",
              "    }\n",
              "  </style>\n",
              "\n",
              "    <script>\n",
              "      const buttonEl =\n",
              "        document.querySelector('#df-84358e2b-6bb5-4afd-842b-8d99f2e96c4c button.colab-df-convert');\n",
              "      buttonEl.style.display =\n",
              "        google.colab.kernel.accessAllowed ? 'block' : 'none';\n",
              "\n",
              "      async function convertToInteractive(key) {\n",
              "        const element = document.querySelector('#df-84358e2b-6bb5-4afd-842b-8d99f2e96c4c');\n",
              "        const dataTable =\n",
              "          await google.colab.kernel.invokeFunction('convertToInteractive',\n",
              "                                                    [key], {});\n",
              "        if (!dataTable) return;\n",
              "\n",
              "        const docLinkHtml = 'Like what you see? Visit the ' +\n",
              "          '<a target=\"_blank\" href=https://colab.research.google.com/notebooks/data_table.ipynb>data table notebook</a>'\n",
              "          + ' to learn more about interactive tables.';\n",
              "        element.innerHTML = '';\n",
              "        dataTable['output_type'] = 'display_data';\n",
              "        await google.colab.output.renderOutput(dataTable, element);\n",
              "        const docLink = document.createElement('div');\n",
              "        docLink.innerHTML = docLinkHtml;\n",
              "        element.appendChild(docLink);\n",
              "      }\n",
              "    </script>\n",
              "  </div>\n",
              "\n",
              "\n",
              "<div id=\"df-53ff487b-20a3-4dc4-bb26-5b72fe793272\">\n",
              "  <button class=\"colab-df-quickchart\" onclick=\"quickchart('df-53ff487b-20a3-4dc4-bb26-5b72fe793272')\"\n",
              "            title=\"Suggest charts\"\n",
              "            style=\"display:none;\">\n",
              "\n",
              "<svg xmlns=\"http://www.w3.org/2000/svg\" height=\"24px\"viewBox=\"0 0 24 24\"\n",
              "     width=\"24px\">\n",
              "    <g>\n",
              "        <path d=\"M19 3H5c-1.1 0-2 .9-2 2v14c0 1.1.9 2 2 2h14c1.1 0 2-.9 2-2V5c0-1.1-.9-2-2-2zM9 17H7v-7h2v7zm4 0h-2V7h2v10zm4 0h-2v-4h2v4z\"/>\n",
              "    </g>\n",
              "</svg>\n",
              "  </button>\n",
              "\n",
              "<style>\n",
              "  .colab-df-quickchart {\n",
              "      --bg-color: #E8F0FE;\n",
              "      --fill-color: #1967D2;\n",
              "      --hover-bg-color: #E2EBFA;\n",
              "      --hover-fill-color: #174EA6;\n",
              "      --disabled-fill-color: #AAA;\n",
              "      --disabled-bg-color: #DDD;\n",
              "  }\n",
              "\n",
              "  [theme=dark] .colab-df-quickchart {\n",
              "      --bg-color: #3B4455;\n",
              "      --fill-color: #D2E3FC;\n",
              "      --hover-bg-color: #434B5C;\n",
              "      --hover-fill-color: #FFFFFF;\n",
              "      --disabled-bg-color: #3B4455;\n",
              "      --disabled-fill-color: #666;\n",
              "  }\n",
              "\n",
              "  .colab-df-quickchart {\n",
              "    background-color: var(--bg-color);\n",
              "    border: none;\n",
              "    border-radius: 50%;\n",
              "    cursor: pointer;\n",
              "    display: none;\n",
              "    fill: var(--fill-color);\n",
              "    height: 32px;\n",
              "    padding: 0;\n",
              "    width: 32px;\n",
              "  }\n",
              "\n",
              "  .colab-df-quickchart:hover {\n",
              "    background-color: var(--hover-bg-color);\n",
              "    box-shadow: 0 1px 2px rgba(60, 64, 67, 0.3), 0 1px 3px 1px rgba(60, 64, 67, 0.15);\n",
              "    fill: var(--button-hover-fill-color);\n",
              "  }\n",
              "\n",
              "  .colab-df-quickchart-complete:disabled,\n",
              "  .colab-df-quickchart-complete:disabled:hover {\n",
              "    background-color: var(--disabled-bg-color);\n",
              "    fill: var(--disabled-fill-color);\n",
              "    box-shadow: none;\n",
              "  }\n",
              "\n",
              "  .colab-df-spinner {\n",
              "    border: 2px solid var(--fill-color);\n",
              "    border-color: transparent;\n",
              "    border-bottom-color: var(--fill-color);\n",
              "    animation:\n",
              "      spin 1s steps(1) infinite;\n",
              "  }\n",
              "\n",
              "  @keyframes spin {\n",
              "    0% {\n",
              "      border-color: transparent;\n",
              "      border-bottom-color: var(--fill-color);\n",
              "      border-left-color: var(--fill-color);\n",
              "    }\n",
              "    20% {\n",
              "      border-color: transparent;\n",
              "      border-left-color: var(--fill-color);\n",
              "      border-top-color: var(--fill-color);\n",
              "    }\n",
              "    30% {\n",
              "      border-color: transparent;\n",
              "      border-left-color: var(--fill-color);\n",
              "      border-top-color: var(--fill-color);\n",
              "      border-right-color: var(--fill-color);\n",
              "    }\n",
              "    40% {\n",
              "      border-color: transparent;\n",
              "      border-right-color: var(--fill-color);\n",
              "      border-top-color: var(--fill-color);\n",
              "    }\n",
              "    60% {\n",
              "      border-color: transparent;\n",
              "      border-right-color: var(--fill-color);\n",
              "    }\n",
              "    80% {\n",
              "      border-color: transparent;\n",
              "      border-right-color: var(--fill-color);\n",
              "      border-bottom-color: var(--fill-color);\n",
              "    }\n",
              "    90% {\n",
              "      border-color: transparent;\n",
              "      border-bottom-color: var(--fill-color);\n",
              "    }\n",
              "  }\n",
              "</style>\n",
              "\n",
              "  <script>\n",
              "    async function quickchart(key) {\n",
              "      const quickchartButtonEl =\n",
              "        document.querySelector('#' + key + ' button');\n",
              "      quickchartButtonEl.disabled = true;  // To prevent multiple clicks.\n",
              "      quickchartButtonEl.classList.add('colab-df-spinner');\n",
              "      try {\n",
              "        const charts = await google.colab.kernel.invokeFunction(\n",
              "            'suggestCharts', [key], {});\n",
              "      } catch (error) {\n",
              "        console.error('Error during call to suggestCharts:', error);\n",
              "      }\n",
              "      quickchartButtonEl.classList.remove('colab-df-spinner');\n",
              "      quickchartButtonEl.classList.add('colab-df-quickchart-complete');\n",
              "    }\n",
              "    (() => {\n",
              "      let quickchartButtonEl =\n",
              "        document.querySelector('#df-53ff487b-20a3-4dc4-bb26-5b72fe793272 button');\n",
              "      quickchartButtonEl.style.display =\n",
              "        google.colab.kernel.accessAllowed ? 'block' : 'none';\n",
              "    })();\n",
              "  </script>\n",
              "</div>\n",
              "    </div>\n",
              "  </div>\n"
            ]
          },
          "metadata": {},
          "execution_count": 37
        }
      ]
    },
    {
      "cell_type": "markdown",
      "source": [
        "## Orders"
      ],
      "metadata": {
        "id": "P9J7wDbxbr2E"
      }
    },
    {
      "cell_type": "code",
      "source": [
        "data_description = dict(\n",
        "    users = 'session_encoded',\n",
        "    items = 'aid_encoded',\n",
        "    feedback = 'rating',\n",
        "    n_users = df_orders_train['session_encoded'].nunique(),\n",
        "    n_items = df_orders_train['aid_encoded'].nunique()\n",
        ")\n",
        "data_description"
      ],
      "metadata": {
        "colab": {
          "base_uri": "https://localhost:8080/"
        },
        "id": "qqxruFUQbrBl",
        "outputId": "429a65a0-ec9d-4ecd-b50f-7ae29b2b1d27"
      },
      "execution_count": 46,
      "outputs": [
        {
          "output_type": "execute_result",
          "data": {
            "text/plain": [
              "{'users': 'session_encoded',\n",
              " 'items': 'aid_encoded',\n",
              " 'feedback': 'rating',\n",
              " 'n_users': 55845,\n",
              " 'n_items': 79824}"
            ]
          },
          "metadata": {},
          "execution_count": 46
        }
      ]
    },
    {
      "cell_type": "code",
      "source": [
        "df_orders_train['rating'] = 1\n",
        "df_orders_train_unique = norm_knn(df_orders_train, data_description)"
      ],
      "metadata": {
        "colab": {
          "base_uri": "https://localhost:8080/"
        },
        "id": "kM0ff8_rbu3p",
        "outputId": "73b314c5-5db1-4afd-a675-495929cda8a6"
      },
      "execution_count": 47,
      "outputs": [
        {
          "output_type": "stream",
          "name": "stderr",
          "text": [
            "Done: 100%|██████████| 55845/55845 [00:00<00:00, 812478.00it/s]\n"
          ]
        },
        {
          "output_type": "stream",
          "name": "stdout",
          "text": [
            "756440\n",
            "(55845, 55845)\n",
            "(55845, 79824)\n"
          ]
        },
        {
          "output_type": "stream",
          "name": "stderr",
          "text": [
            "Done: 100%|██████████| 55845/55845 [00:00<00:00, 453509.60it/s]\n",
            "Done: 100%|██████████| 55845/55845 [00:00<00:00, 859796.45it/s]\n"
          ]
        },
        {
          "output_type": "stream",
          "name": "stdout",
          "text": [
            "756440\n",
            "(55845, 55845)\n",
            "(55845, 79824)\n"
          ]
        },
        {
          "output_type": "stream",
          "name": "stderr",
          "text": [
            "Done: 100%|██████████| 55845/55845 [00:00<00:00, 428240.60it/s]\n",
            "0it [00:00, ?it/s]<ipython-input-28-0a6b921e72e9>:10: SettingWithCopyWarning: \n",
            "A value is trying to be set on a copy of a slice from a DataFrame\n",
            "\n",
            "See the caveats in the documentation: https://pandas.pydata.org/pandas-docs/stable/user_guide/indexing.html#returning-a-view-versus-a-copy\n",
            "  df[column][i] = sorted_recs.tolist()\n",
            "55845it [00:14, 3958.54it/s]\n",
            "55845it [00:16, 3342.64it/s]\n"
          ]
        }
      ]
    },
    {
      "cell_type": "code",
      "source": [
        "df_orders_train_unique.to_parquet('df_orders_train_unique.parquet')"
      ],
      "metadata": {
        "id": "JFbfhZ7KbxWK"
      },
      "execution_count": 40,
      "outputs": []
    },
    {
      "cell_type": "code",
      "source": [
        "df_orders_train_unique"
      ],
      "metadata": {
        "colab": {
          "base_uri": "https://localhost:8080/",
          "height": 874
        },
        "id": "MSXjfZJkb5Cq",
        "outputId": "8f578c58-46b5-4ef7-f45f-12d81f61a9ef"
      },
      "execution_count": 51,
      "outputs": [
        {
          "output_type": "execute_result",
          "data": {
            "text/plain": [
              "       session      aid             ts  session_encoded  aid_encoded  \\\n",
              "0            3    54857  1659999789346                0         2335   \n",
              "1           11  1145803  1659902394985                1        49003   \n",
              "2           35  1162085  1659788011065                2        49709   \n",
              "3           40   987525  1660302982234                3        42241   \n",
              "4           78   225700  1659984507541                4         9576   \n",
              "...        ...      ...            ...              ...          ...   \n",
              "55840   327655  1485859  1660053731982            27453        63834   \n",
              "55841   327658   193755  1660069373200            27454         8244   \n",
              "55842   327664   215189  1659791135713            27455         9152   \n",
              "55843   327675   933444  1660067202654            27456        39857   \n",
              "55844   327677  1516857  1660125332400            27457        65216   \n",
              "\n",
              "                                             res_encoded  \\\n",
              "0                                                    [0]   \n",
              "1                                                     []   \n",
              "2      [49709, 17508, 16114, 76864, 49594, 42178, 29192]   \n",
              "3                                                     []   \n",
              "4      [68964, 64392, 3230, 16220, 51750, 12615, 6555...   \n",
              "...                                                  ...   \n",
              "55840  [2927, 45086, 33277, 50346, 79176, 898, 30746,...   \n",
              "55841  [37577, 39866, 50171, 1550, 66955, 13809, 7979...   \n",
              "55842                                            [47034]   \n",
              "55843  [68411, 49435, 33941, 32097, 29232, 28562, 567...   \n",
              "55844  [58485, 55905, 33855, 18712, 79371, 65776, 589...   \n",
              "\n",
              "                                       res_encoded_tfidf  \\\n",
              "0                                                    [0]   \n",
              "1                                                     []   \n",
              "2      [49709, 16114, 17508, 49594, 76864, 29192, 42178]   \n",
              "3                                                     []   \n",
              "4      [68964, 64392, 47733, 78040, 9576, 23546, 4664...   \n",
              "...                                                  ...   \n",
              "55840  [2927, 69950, 898, 25219, 69980, 45086, 30746,...   \n",
              "55841  [37577, 39866, 50171, 1550, 66955, 58294, 1299...   \n",
              "55842                                            [47034]   \n",
              "55843  [68411, 65414, 39789, 49435, 5677, 57740, 1554...   \n",
              "55844  [58485, 18712, 33855, 55905, 58946, 17972, 793...   \n",
              "\n",
              "                                                    pred  \\\n",
              "0                                                  [133]   \n",
              "1                                                     []   \n",
              "2      [1162085, 411718, 381203, 1785754, 1159379, 98...   \n",
              "3                                                     []   \n",
              "4      [1604220, 1497729, 75565, 383437, 1208112, 296...   \n",
              "...                                                  ...   \n",
              "55840  [68752, 1053941, 781961, 1176051, 1840622, 210...   \n",
              "55841  [881286, 933576, 1171883, 37199, 1556672, 3255...   \n",
              "55842                                          [1099405]   \n",
              "55843  [1590969, 1156177, 797207, 754314, 687576, 671...   \n",
              "55844  [1362721, 1303715, 795141, 439860, 1845463, 15...   \n",
              "\n",
              "                                              pred_tfidf  \n",
              "0                                                  [133]  \n",
              "1                                                     []  \n",
              "2      [1162085, 381203, 411718, 1159379, 1785754, 68...  \n",
              "3                                                     []  \n",
              "4      [1604220, 1497729, 1116346, 1813366, 225700, 5...  \n",
              "...                                                  ...  \n",
              "55840  [68752, 1626675, 21029, 592506, 1627528, 10539...  \n",
              "55841  [881286, 933576, 1171883, 37199, 1556672, 1358...  \n",
              "55842                                          [1099405]  \n",
              "55843  [1590969, 1520892, 931637, 1156177, 131715, 13...  \n",
              "55844  [1362721, 439860, 795141, 1303715, 1373057, 42...  \n",
              "\n",
              "[55845 rows x 9 columns]"
            ],
            "text/html": [
              "\n",
              "  <div id=\"df-dc781d44-4a3c-4849-b2bb-6c06716bae71\" class=\"colab-df-container\">\n",
              "    <div>\n",
              "<style scoped>\n",
              "    .dataframe tbody tr th:only-of-type {\n",
              "        vertical-align: middle;\n",
              "    }\n",
              "\n",
              "    .dataframe tbody tr th {\n",
              "        vertical-align: top;\n",
              "    }\n",
              "\n",
              "    .dataframe thead th {\n",
              "        text-align: right;\n",
              "    }\n",
              "</style>\n",
              "<table border=\"1\" class=\"dataframe\">\n",
              "  <thead>\n",
              "    <tr style=\"text-align: right;\">\n",
              "      <th></th>\n",
              "      <th>session</th>\n",
              "      <th>aid</th>\n",
              "      <th>ts</th>\n",
              "      <th>session_encoded</th>\n",
              "      <th>aid_encoded</th>\n",
              "      <th>res_encoded</th>\n",
              "      <th>res_encoded_tfidf</th>\n",
              "      <th>pred</th>\n",
              "      <th>pred_tfidf</th>\n",
              "    </tr>\n",
              "  </thead>\n",
              "  <tbody>\n",
              "    <tr>\n",
              "      <th>0</th>\n",
              "      <td>3</td>\n",
              "      <td>54857</td>\n",
              "      <td>1659999789346</td>\n",
              "      <td>0</td>\n",
              "      <td>2335</td>\n",
              "      <td>[0]</td>\n",
              "      <td>[0]</td>\n",
              "      <td>[133]</td>\n",
              "      <td>[133]</td>\n",
              "    </tr>\n",
              "    <tr>\n",
              "      <th>1</th>\n",
              "      <td>11</td>\n",
              "      <td>1145803</td>\n",
              "      <td>1659902394985</td>\n",
              "      <td>1</td>\n",
              "      <td>49003</td>\n",
              "      <td>[]</td>\n",
              "      <td>[]</td>\n",
              "      <td>[]</td>\n",
              "      <td>[]</td>\n",
              "    </tr>\n",
              "    <tr>\n",
              "      <th>2</th>\n",
              "      <td>35</td>\n",
              "      <td>1162085</td>\n",
              "      <td>1659788011065</td>\n",
              "      <td>2</td>\n",
              "      <td>49709</td>\n",
              "      <td>[49709, 17508, 16114, 76864, 49594, 42178, 29192]</td>\n",
              "      <td>[49709, 16114, 17508, 49594, 76864, 29192, 42178]</td>\n",
              "      <td>[1162085, 411718, 381203, 1785754, 1159379, 98...</td>\n",
              "      <td>[1162085, 381203, 411718, 1159379, 1785754, 68...</td>\n",
              "    </tr>\n",
              "    <tr>\n",
              "      <th>3</th>\n",
              "      <td>40</td>\n",
              "      <td>987525</td>\n",
              "      <td>1660302982234</td>\n",
              "      <td>3</td>\n",
              "      <td>42241</td>\n",
              "      <td>[]</td>\n",
              "      <td>[]</td>\n",
              "      <td>[]</td>\n",
              "      <td>[]</td>\n",
              "    </tr>\n",
              "    <tr>\n",
              "      <th>4</th>\n",
              "      <td>78</td>\n",
              "      <td>225700</td>\n",
              "      <td>1659984507541</td>\n",
              "      <td>4</td>\n",
              "      <td>9576</td>\n",
              "      <td>[68964, 64392, 3230, 16220, 51750, 12615, 6555...</td>\n",
              "      <td>[68964, 64392, 47733, 78040, 9576, 23546, 4664...</td>\n",
              "      <td>[1604220, 1497729, 75565, 383437, 1208112, 296...</td>\n",
              "      <td>[1604220, 1497729, 1116346, 1813366, 225700, 5...</td>\n",
              "    </tr>\n",
              "    <tr>\n",
              "      <th>...</th>\n",
              "      <td>...</td>\n",
              "      <td>...</td>\n",
              "      <td>...</td>\n",
              "      <td>...</td>\n",
              "      <td>...</td>\n",
              "      <td>...</td>\n",
              "      <td>...</td>\n",
              "      <td>...</td>\n",
              "      <td>...</td>\n",
              "    </tr>\n",
              "    <tr>\n",
              "      <th>55840</th>\n",
              "      <td>327655</td>\n",
              "      <td>1485859</td>\n",
              "      <td>1660053731982</td>\n",
              "      <td>27453</td>\n",
              "      <td>63834</td>\n",
              "      <td>[2927, 45086, 33277, 50346, 79176, 898, 30746,...</td>\n",
              "      <td>[2927, 69950, 898, 25219, 69980, 45086, 30746,...</td>\n",
              "      <td>[68752, 1053941, 781961, 1176051, 1840622, 210...</td>\n",
              "      <td>[68752, 1626675, 21029, 592506, 1627528, 10539...</td>\n",
              "    </tr>\n",
              "    <tr>\n",
              "      <th>55841</th>\n",
              "      <td>327658</td>\n",
              "      <td>193755</td>\n",
              "      <td>1660069373200</td>\n",
              "      <td>27454</td>\n",
              "      <td>8244</td>\n",
              "      <td>[37577, 39866, 50171, 1550, 66955, 13809, 7979...</td>\n",
              "      <td>[37577, 39866, 50171, 1550, 66955, 58294, 1299...</td>\n",
              "      <td>[881286, 933576, 1171883, 37199, 1556672, 3255...</td>\n",
              "      <td>[881286, 933576, 1171883, 37199, 1556672, 1358...</td>\n",
              "    </tr>\n",
              "    <tr>\n",
              "      <th>55842</th>\n",
              "      <td>327664</td>\n",
              "      <td>215189</td>\n",
              "      <td>1659791135713</td>\n",
              "      <td>27455</td>\n",
              "      <td>9152</td>\n",
              "      <td>[47034]</td>\n",
              "      <td>[47034]</td>\n",
              "      <td>[1099405]</td>\n",
              "      <td>[1099405]</td>\n",
              "    </tr>\n",
              "    <tr>\n",
              "      <th>55843</th>\n",
              "      <td>327675</td>\n",
              "      <td>933444</td>\n",
              "      <td>1660067202654</td>\n",
              "      <td>27456</td>\n",
              "      <td>39857</td>\n",
              "      <td>[68411, 49435, 33941, 32097, 29232, 28562, 567...</td>\n",
              "      <td>[68411, 65414, 39789, 49435, 5677, 57740, 1554...</td>\n",
              "      <td>[1590969, 1156177, 797207, 754314, 687576, 671...</td>\n",
              "      <td>[1590969, 1520892, 931637, 1156177, 131715, 13...</td>\n",
              "    </tr>\n",
              "    <tr>\n",
              "      <th>55844</th>\n",
              "      <td>327677</td>\n",
              "      <td>1516857</td>\n",
              "      <td>1660125332400</td>\n",
              "      <td>27457</td>\n",
              "      <td>65216</td>\n",
              "      <td>[58485, 55905, 33855, 18712, 79371, 65776, 589...</td>\n",
              "      <td>[58485, 18712, 33855, 55905, 58946, 17972, 793...</td>\n",
              "      <td>[1362721, 1303715, 795141, 439860, 1845463, 15...</td>\n",
              "      <td>[1362721, 439860, 795141, 1303715, 1373057, 42...</td>\n",
              "    </tr>\n",
              "  </tbody>\n",
              "</table>\n",
              "<p>55845 rows × 9 columns</p>\n",
              "</div>\n",
              "    <div class=\"colab-df-buttons\">\n",
              "\n",
              "  <div class=\"colab-df-container\">\n",
              "    <button class=\"colab-df-convert\" onclick=\"convertToInteractive('df-dc781d44-4a3c-4849-b2bb-6c06716bae71')\"\n",
              "            title=\"Convert this dataframe to an interactive table.\"\n",
              "            style=\"display:none;\">\n",
              "\n",
              "  <svg xmlns=\"http://www.w3.org/2000/svg\" height=\"24px\" viewBox=\"0 -960 960 960\">\n",
              "    <path d=\"M120-120v-720h720v720H120Zm60-500h600v-160H180v160Zm220 220h160v-160H400v160Zm0 220h160v-160H400v160ZM180-400h160v-160H180v160Zm440 0h160v-160H620v160ZM180-180h160v-160H180v160Zm440 0h160v-160H620v160Z\"/>\n",
              "  </svg>\n",
              "    </button>\n",
              "\n",
              "  <style>\n",
              "    .colab-df-container {\n",
              "      display:flex;\n",
              "      gap: 12px;\n",
              "    }\n",
              "\n",
              "    .colab-df-convert {\n",
              "      background-color: #E8F0FE;\n",
              "      border: none;\n",
              "      border-radius: 50%;\n",
              "      cursor: pointer;\n",
              "      display: none;\n",
              "      fill: #1967D2;\n",
              "      height: 32px;\n",
              "      padding: 0 0 0 0;\n",
              "      width: 32px;\n",
              "    }\n",
              "\n",
              "    .colab-df-convert:hover {\n",
              "      background-color: #E2EBFA;\n",
              "      box-shadow: 0px 1px 2px rgba(60, 64, 67, 0.3), 0px 1px 3px 1px rgba(60, 64, 67, 0.15);\n",
              "      fill: #174EA6;\n",
              "    }\n",
              "\n",
              "    .colab-df-buttons div {\n",
              "      margin-bottom: 4px;\n",
              "    }\n",
              "\n",
              "    [theme=dark] .colab-df-convert {\n",
              "      background-color: #3B4455;\n",
              "      fill: #D2E3FC;\n",
              "    }\n",
              "\n",
              "    [theme=dark] .colab-df-convert:hover {\n",
              "      background-color: #434B5C;\n",
              "      box-shadow: 0px 1px 3px 1px rgba(0, 0, 0, 0.15);\n",
              "      filter: drop-shadow(0px 1px 2px rgba(0, 0, 0, 0.3));\n",
              "      fill: #FFFFFF;\n",
              "    }\n",
              "  </style>\n",
              "\n",
              "    <script>\n",
              "      const buttonEl =\n",
              "        document.querySelector('#df-dc781d44-4a3c-4849-b2bb-6c06716bae71 button.colab-df-convert');\n",
              "      buttonEl.style.display =\n",
              "        google.colab.kernel.accessAllowed ? 'block' : 'none';\n",
              "\n",
              "      async function convertToInteractive(key) {\n",
              "        const element = document.querySelector('#df-dc781d44-4a3c-4849-b2bb-6c06716bae71');\n",
              "        const dataTable =\n",
              "          await google.colab.kernel.invokeFunction('convertToInteractive',\n",
              "                                                    [key], {});\n",
              "        if (!dataTable) return;\n",
              "\n",
              "        const docLinkHtml = 'Like what you see? Visit the ' +\n",
              "          '<a target=\"_blank\" href=https://colab.research.google.com/notebooks/data_table.ipynb>data table notebook</a>'\n",
              "          + ' to learn more about interactive tables.';\n",
              "        element.innerHTML = '';\n",
              "        dataTable['output_type'] = 'display_data';\n",
              "        await google.colab.output.renderOutput(dataTable, element);\n",
              "        const docLink = document.createElement('div');\n",
              "        docLink.innerHTML = docLinkHtml;\n",
              "        element.appendChild(docLink);\n",
              "      }\n",
              "    </script>\n",
              "  </div>\n",
              "\n",
              "\n",
              "<div id=\"df-17462f4d-7b4f-46fc-a76f-7cd0a1e55196\">\n",
              "  <button class=\"colab-df-quickchart\" onclick=\"quickchart('df-17462f4d-7b4f-46fc-a76f-7cd0a1e55196')\"\n",
              "            title=\"Suggest charts\"\n",
              "            style=\"display:none;\">\n",
              "\n",
              "<svg xmlns=\"http://www.w3.org/2000/svg\" height=\"24px\"viewBox=\"0 0 24 24\"\n",
              "     width=\"24px\">\n",
              "    <g>\n",
              "        <path d=\"M19 3H5c-1.1 0-2 .9-2 2v14c0 1.1.9 2 2 2h14c1.1 0 2-.9 2-2V5c0-1.1-.9-2-2-2zM9 17H7v-7h2v7zm4 0h-2V7h2v10zm4 0h-2v-4h2v4z\"/>\n",
              "    </g>\n",
              "</svg>\n",
              "  </button>\n",
              "\n",
              "<style>\n",
              "  .colab-df-quickchart {\n",
              "      --bg-color: #E8F0FE;\n",
              "      --fill-color: #1967D2;\n",
              "      --hover-bg-color: #E2EBFA;\n",
              "      --hover-fill-color: #174EA6;\n",
              "      --disabled-fill-color: #AAA;\n",
              "      --disabled-bg-color: #DDD;\n",
              "  }\n",
              "\n",
              "  [theme=dark] .colab-df-quickchart {\n",
              "      --bg-color: #3B4455;\n",
              "      --fill-color: #D2E3FC;\n",
              "      --hover-bg-color: #434B5C;\n",
              "      --hover-fill-color: #FFFFFF;\n",
              "      --disabled-bg-color: #3B4455;\n",
              "      --disabled-fill-color: #666;\n",
              "  }\n",
              "\n",
              "  .colab-df-quickchart {\n",
              "    background-color: var(--bg-color);\n",
              "    border: none;\n",
              "    border-radius: 50%;\n",
              "    cursor: pointer;\n",
              "    display: none;\n",
              "    fill: var(--fill-color);\n",
              "    height: 32px;\n",
              "    padding: 0;\n",
              "    width: 32px;\n",
              "  }\n",
              "\n",
              "  .colab-df-quickchart:hover {\n",
              "    background-color: var(--hover-bg-color);\n",
              "    box-shadow: 0 1px 2px rgba(60, 64, 67, 0.3), 0 1px 3px 1px rgba(60, 64, 67, 0.15);\n",
              "    fill: var(--button-hover-fill-color);\n",
              "  }\n",
              "\n",
              "  .colab-df-quickchart-complete:disabled,\n",
              "  .colab-df-quickchart-complete:disabled:hover {\n",
              "    background-color: var(--disabled-bg-color);\n",
              "    fill: var(--disabled-fill-color);\n",
              "    box-shadow: none;\n",
              "  }\n",
              "\n",
              "  .colab-df-spinner {\n",
              "    border: 2px solid var(--fill-color);\n",
              "    border-color: transparent;\n",
              "    border-bottom-color: var(--fill-color);\n",
              "    animation:\n",
              "      spin 1s steps(1) infinite;\n",
              "  }\n",
              "\n",
              "  @keyframes spin {\n",
              "    0% {\n",
              "      border-color: transparent;\n",
              "      border-bottom-color: var(--fill-color);\n",
              "      border-left-color: var(--fill-color);\n",
              "    }\n",
              "    20% {\n",
              "      border-color: transparent;\n",
              "      border-left-color: var(--fill-color);\n",
              "      border-top-color: var(--fill-color);\n",
              "    }\n",
              "    30% {\n",
              "      border-color: transparent;\n",
              "      border-left-color: var(--fill-color);\n",
              "      border-top-color: var(--fill-color);\n",
              "      border-right-color: var(--fill-color);\n",
              "    }\n",
              "    40% {\n",
              "      border-color: transparent;\n",
              "      border-right-color: var(--fill-color);\n",
              "      border-top-color: var(--fill-color);\n",
              "    }\n",
              "    60% {\n",
              "      border-color: transparent;\n",
              "      border-right-color: var(--fill-color);\n",
              "    }\n",
              "    80% {\n",
              "      border-color: transparent;\n",
              "      border-right-color: var(--fill-color);\n",
              "      border-bottom-color: var(--fill-color);\n",
              "    }\n",
              "    90% {\n",
              "      border-color: transparent;\n",
              "      border-bottom-color: var(--fill-color);\n",
              "    }\n",
              "  }\n",
              "</style>\n",
              "\n",
              "  <script>\n",
              "    async function quickchart(key) {\n",
              "      const quickchartButtonEl =\n",
              "        document.querySelector('#' + key + ' button');\n",
              "      quickchartButtonEl.disabled = true;  // To prevent multiple clicks.\n",
              "      quickchartButtonEl.classList.add('colab-df-spinner');\n",
              "      try {\n",
              "        const charts = await google.colab.kernel.invokeFunction(\n",
              "            'suggestCharts', [key], {});\n",
              "      } catch (error) {\n",
              "        console.error('Error during call to suggestCharts:', error);\n",
              "      }\n",
              "      quickchartButtonEl.classList.remove('colab-df-spinner');\n",
              "      quickchartButtonEl.classList.add('colab-df-quickchart-complete');\n",
              "    }\n",
              "    (() => {\n",
              "      let quickchartButtonEl =\n",
              "        document.querySelector('#df-17462f4d-7b4f-46fc-a76f-7cd0a1e55196 button');\n",
              "      quickchartButtonEl.style.display =\n",
              "        google.colab.kernel.accessAllowed ? 'block' : 'none';\n",
              "    })();\n",
              "  </script>\n",
              "</div>\n",
              "    </div>\n",
              "  </div>\n"
            ]
          },
          "metadata": {},
          "execution_count": 51
        }
      ]
    },
    {
      "cell_type": "code",
      "source": [
        "df_orders_train_unique['pred'] = df_orders_train_unique['res_encoded'].apply(orders_aid_encoder.inverse_transform)"
      ],
      "metadata": {
        "id": "VtJ4sTLMcQ2T"
      },
      "execution_count": 49,
      "outputs": []
    },
    {
      "cell_type": "code",
      "source": [
        "df_orders_train_unique['pred_tfidf'] = df_orders_train_unique['res_encoded_tfidf'].apply(orders_aid_encoder.inverse_transform)"
      ],
      "metadata": {
        "id": "SpdwHTUlp0wI"
      },
      "execution_count": 50,
      "outputs": []
    },
    {
      "cell_type": "code",
      "source": [
        "df_orders_train_unique.to_parquet('df_clicks_pred.parquet')"
      ],
      "metadata": {
        "id": "L8Vnn2Fop9EM"
      },
      "execution_count": null,
      "outputs": []
    }
  ],
  "metadata": {
    "colab": {
      "provenance": []
    },
    "kernelspec": {
      "display_name": "Python 3",
      "name": "python3"
    },
    "language_info": {
      "name": "python"
    }
  },
  "nbformat": 4,
  "nbformat_minor": 0
}