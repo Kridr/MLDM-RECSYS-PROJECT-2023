{
 "cells": [
  {
   "cell_type": "code",
   "execution_count": 1,
   "metadata": {},
   "outputs": [
    {
     "name": "stdout",
     "output_type": "stream",
     "text": [
      "Intel MKL WARNING: Support of Intel(R) Streaming SIMD Extensions 4.2 (Intel(R) SSE4.2) enabled only processors has been deprecated. Intel oneAPI Math Kernel Library 2025.0 will require Intel(R) Advanced Vector Extensions (Intel(R) AVX) instructions.\n",
      "Intel MKL WARNING: Support of Intel(R) Streaming SIMD Extensions 4.2 (Intel(R) SSE4.2) enabled only processors has been deprecated. Intel oneAPI Math Kernel Library 2025.0 will require Intel(R) Advanced Vector Extensions (Intel(R) AVX) instructions.\n"
     ]
    }
   ],
   "source": [
    "import pandas as pd\n",
    "import numpy as np"
   ]
  },
  {
   "cell_type": "markdown",
   "metadata": {},
   "source": [
    "## Data completeness"
   ]
  },
  {
   "cell_type": "code",
   "execution_count": 109,
   "metadata": {},
   "outputs": [],
   "source": [
    "df_clicks_t = pd.read_parquet(\"data/otto_exploded_dataset/clicks/test\")\n",
    "df_carts_t = pd.read_parquet(\"data/otto_exploded_dataset/carts/test\")\n",
    "df_orders_t = pd.read_parquet(\"data/otto_exploded_dataset/orders/test\")"
   ]
  },
  {
   "cell_type": "code",
   "execution_count": 59,
   "metadata": {},
   "outputs": [
    {
     "data": {
      "text/html": [
       "<div>\n",
       "<style scoped>\n",
       "    .dataframe tbody tr th:only-of-type {\n",
       "        vertical-align: middle;\n",
       "    }\n",
       "\n",
       "    .dataframe tbody tr th {\n",
       "        vertical-align: top;\n",
       "    }\n",
       "\n",
       "    .dataframe thead th {\n",
       "        text-align: right;\n",
       "    }\n",
       "</style>\n",
       "<table border=\"1\" class=\"dataframe\">\n",
       "  <thead>\n",
       "    <tr style=\"text-align: right;\">\n",
       "      <th></th>\n",
       "      <th>session</th>\n",
       "      <th>aid</th>\n",
       "      <th>ts</th>\n",
       "      <th>type</th>\n",
       "    </tr>\n",
       "  </thead>\n",
       "  <tbody>\n",
       "    <tr>\n",
       "      <th>79</th>\n",
       "      <td>0</td>\n",
       "      <td>1707783</td>\n",
       "      <td>1660397387901</td>\n",
       "      <td>clicks</td>\n",
       "    </tr>\n",
       "    <tr>\n",
       "      <th>80</th>\n",
       "      <td>0</td>\n",
       "      <td>1624436</td>\n",
       "      <td>1660427603773</td>\n",
       "      <td>clicks</td>\n",
       "    </tr>\n",
       "    <tr>\n",
       "      <th>81</th>\n",
       "      <td>0</td>\n",
       "      <td>1157411</td>\n",
       "      <td>1660427638022</td>\n",
       "      <td>clicks</td>\n",
       "    </tr>\n",
       "    <tr>\n",
       "      <th>82</th>\n",
       "      <td>0</td>\n",
       "      <td>358305</td>\n",
       "      <td>1660427747431</td>\n",
       "      <td>clicks</td>\n",
       "    </tr>\n",
       "    <tr>\n",
       "      <th>83</th>\n",
       "      <td>0</td>\n",
       "      <td>1202970</td>\n",
       "      <td>1660487679331</td>\n",
       "      <td>clicks</td>\n",
       "    </tr>\n",
       "  </tbody>\n",
       "</table>\n",
       "</div>"
      ],
      "text/plain": [
       "    session      aid             ts    type\n",
       "79        0  1707783  1660397387901  clicks\n",
       "80        0  1624436  1660427603773  clicks\n",
       "81        0  1157411  1660427638022  clicks\n",
       "82        0   358305  1660427747431  clicks\n",
       "83        0  1202970  1660487679331  clicks"
      ]
     },
     "execution_count": 59,
     "metadata": {},
     "output_type": "execute_result"
    }
   ],
   "source": [
    "df_clicks_t.head()"
   ]
  },
  {
   "cell_type": "code",
   "execution_count": 21,
   "metadata": {},
   "outputs": [],
   "source": [
    "def set_ranks(df: pd.DataFrame):\n",
    "    df_c = df.copy()\n",
    "    df_c[\"rank\"] = df_c.groupby(\"session\")[\"ts\"].rank(method=\"first\", ascending=True)\n",
    "    return df_c[[\"session\", \"aid\", \"rank\"]]"
   ]
  },
  {
   "cell_type": "code",
   "execution_count": 22,
   "metadata": {},
   "outputs": [],
   "source": [
    "df_clicks_r = set_ranks(df_clicks_t)\n",
    "df_carts_r = set_ranks(df_carts_t)\n",
    "df_orders_r = set_ranks(df_orders_t)"
   ]
  },
  {
   "cell_type": "code",
   "execution_count": 52,
   "metadata": {},
   "outputs": [],
   "source": [
    "def rank_stat(df_r: pd.DataFrame, ks: list):\n",
    "    df_mr = df_r.groupby(\"session\").agg(\"max\")[\"rank\"]\n",
    "    for k in ks:\n",
    "        cnt_me = len(df_mr[df_mr >= k])\n",
    "        print(f\"Users with more than {k} test items: {cnt_me} ({round(cnt_me / len(df_mr) * 100, 2)}%)\")"
   ]
  },
  {
   "cell_type": "code",
   "execution_count": 53,
   "metadata": {},
   "outputs": [
    {
     "name": "stdout",
     "output_type": "stream",
     "text": [
      "Users with more than 3 test items: 187014 (65.87%)\n",
      "Users with more than 5 test items: 144337 (50.84%)\n",
      "Users with more than 10 test items: 91221 (32.13%)\n",
      "Users with more than 20 test items: 46619 (16.42%)\n"
     ]
    }
   ],
   "source": [
    "rank_stat(df_clicks_r, [3, 5, 10, 20])"
   ]
  },
  {
   "cell_type": "code",
   "execution_count": 54,
   "metadata": {},
   "outputs": [
    {
     "name": "stdout",
     "output_type": "stream",
     "text": [
      "Users with more than 3 test items: 29741 (38.89%)\n",
      "Users with more than 5 test items: 14984 (19.59%)\n",
      "Users with more than 10 test items: 4225 (5.52%)\n",
      "Users with more than 20 test items: 622 (0.81%)\n"
     ]
    }
   ],
   "source": [
    "rank_stat(df_carts_r, [3, 5, 10, 20])"
   ]
  },
  {
   "cell_type": "code",
   "execution_count": 55,
   "metadata": {},
   "outputs": [
    {
     "name": "stdout",
     "output_type": "stream",
     "text": [
      "Users with more than 3 test items: 7770 (25.77%)\n",
      "Users with more than 5 test items: 3150 (10.45%)\n",
      "Users with more than 10 test items: 576 (1.91%)\n",
      "Users with more than 20 test items: 55 (0.18%)\n"
     ]
    }
   ],
   "source": [
    "rank_stat(df_orders_r, [3, 5, 10, 20])"
   ]
  },
  {
   "cell_type": "markdown",
   "metadata": {},
   "source": [
    "# Metrics"
   ]
  },
  {
   "cell_type": "code",
   "execution_count": 226,
   "metadata": {},
   "outputs": [],
   "source": [
    "K_RECS = 200\n",
    "K_TEST = 5"
   ]
  },
  {
   "cell_type": "code",
   "execution_count": 227,
   "metadata": {},
   "outputs": [],
   "source": [
    "df_clicks_r = pd.read_parquet(\"data/clicks/\")"
   ]
  },
  {
   "cell_type": "code",
   "execution_count": 219,
   "metadata": {},
   "outputs": [],
   "source": [
    "df_carts_r = pd.read_parquet(\"data/carts/\")"
   ]
  },
  {
   "cell_type": "code",
   "execution_count": 220,
   "metadata": {},
   "outputs": [],
   "source": [
    "df_orders_r = pd.read_parquet(\"data/orders/\")"
   ]
  },
  {
   "cell_type": "code",
   "execution_count": 228,
   "metadata": {},
   "outputs": [],
   "source": [
    "def prepare_data(df_test: pd.DataFrame, df_recs: pd.DataFrame, k_test, k_recs):\n",
    "    valid_session = np.intersect1d(\n",
    "        df_test[\"session\"].unique(),\n",
    "        df_recs[\"session\"].unique()\n",
    "    )\n",
    "\n",
    "    df_test_l = set_ranks(df_test)\n",
    "    df_test_l = df_test_l[df_test_l[\"session\"].isin(valid_session)]\n",
    "    df_test_l = df_test_l[df_test_l[\"rank\"] <= k_test]\n",
    "    df_test_l = df_test_l.groupby(\"session\")[\"aid\"].apply(list).reset_index().sort_values(\"session\")\n",
    "\n",
    "    df_test_l[\"aid\"] = (\n",
    "        df_test_l[\"aid\"]\n",
    "        .apply(lambda x: np.pad(\n",
    "            x[:k_test],\n",
    "            (0, max(k_test - len(x), 0)),\n",
    "            mode=\"constant\",\n",
    "            constant_values=-1\n",
    "        ))\n",
    "    )\n",
    "    test = np.stack(df_test_l[\"aid\"].values, axis=0)\n",
    "\n",
    "    df_recs_l = df_recs[df_recs[\"session\"].isin(valid_session)]\n",
    "    df_recs_l[\"aid\"] = df_recs_l[\"aid\"].apply(lambda x: np.array(x[:k_recs]))\n",
    "    df_recs_l = df_recs_l.sort_values(\"session\")\n",
    "    recs = np.stack(df_recs_l[\"aid\"].values, axis=0)\n",
    "\n",
    "    return test, recs"
   ]
  },
  {
   "cell_type": "code",
   "execution_count": 230,
   "metadata": {},
   "outputs": [
    {
     "name": "stderr",
     "output_type": "stream",
     "text": [
      "/var/folders/6v/hf7n2ynj2hq7z7qtfvcw_2xw0000gp/T/ipykernel_16464/2836734769.py:24: SettingWithCopyWarning: \n",
      "A value is trying to be set on a copy of a slice from a DataFrame.\n",
      "Try using .loc[row_indexer,col_indexer] = value instead\n",
      "\n",
      "See the caveats in the documentation: https://pandas.pydata.org/pandas-docs/stable/user_guide/indexing.html#returning-a-view-versus-a-copy\n",
      "  df_recs_l[\"aid\"] = df_recs_l[\"aid\"].apply(lambda x: np.array(x[:k_recs]))\n"
     ]
    }
   ],
   "source": [
    "test_clicks, recs_clicks = prepare_data(df_clicks_t, df_clicks_r, K_TEST, K_RECS)"
   ]
  },
  {
   "cell_type": "code",
   "execution_count": null,
   "metadata": {},
   "outputs": [],
   "source": [
    "import numpy as np\n",
    "\n",
    "\n",
    "class Metrics:\n",
    "    def __init__(\n",
    "            self,\n",
    "            k: int,\n",
    "            recommendations: np.ndarray,\n",
    "            holdout: np.ndarray\n",
    "            ):\n",
    "        self.k = k\n",
    "        self.recommendations = recommendations[:, :k]\n",
    "        self.holdout = holdout\n",
    "\n",
    "    def report(self):\n",
    "        print(f\"HR@{self.k} = {round(self.hit_rate(), 4)}\")\n",
    "        print(f\"MRR@{self.k} = {round(self.mean_reciprocal_rank(), 4)}\")\n",
    "        print(f\"Recall@{self.k} = {round(self.recall(), 4)}\")\n",
    "\n",
    "    def hit_rate(self):\n",
    "        return (\n",
    "            self._get_hit_mask()\n",
    "            .any(axis=1)\n",
    "            .mean()\n",
    "        )\n",
    "\n",
    "    def mean_reciprocal_rank(self):\n",
    "        hits_mask = self._get_hit_mask()\n",
    "\n",
    "        idx = np.argwhere(hits_mask.argmax(axis=1)).squeeze(axis=1)\n",
    "\n",
    "        return np.sum(\n",
    "            1 / (hits_mask[idx].argmax(axis=1) + 1)\n",
    "        ) / hits_mask.shape[0]\n",
    "\n",
    "    def recall(self):\n",
    "        hits_mask = self._get_hit_mask()\n",
    "        return (\n",
    "            hits_mask.sum(axis=1) / self.recommendations.shape[1]\n",
    "        ).sum() / self.recommendations.shape[0]\n",
    "\n",
    "    def _get_hit_mask(self) -> np.ndarray:\n",
    "        return (\n",
    "            self.holdout[..., None] ==\n",
    "            np.expand_dims(self.recommendations, axis=1)\n",
    "        ).any(axis=1)"
   ]
  },
  {
   "cell_type": "code",
   "execution_count": 231,
   "metadata": {},
   "outputs": [
    {
     "name": "stdout",
     "output_type": "stream",
     "text": [
      "HR@200 = 0.0403\n",
      "MRR@200 = 0.004\n",
      "Recall@200 = 0.0084\n",
      "Recall_Otto@200 = 0.0084\n"
     ]
    }
   ],
   "source": [
    "#from rec_base import Metrics\n",
    "metrics_clicks = Metrics(K_RECS, recs_clicks, test_clicks)\n",
    "metrics_clicks.report()"
   ]
  },
  {
   "cell_type": "code",
   "execution_count": 222,
   "metadata": {},
   "outputs": [
    {
     "name": "stderr",
     "output_type": "stream",
     "text": [
      "/var/folders/6v/hf7n2ynj2hq7z7qtfvcw_2xw0000gp/T/ipykernel_16464/2836734769.py:24: SettingWithCopyWarning: \n",
      "A value is trying to be set on a copy of a slice from a DataFrame.\n",
      "Try using .loc[row_indexer,col_indexer] = value instead\n",
      "\n",
      "See the caveats in the documentation: https://pandas.pydata.org/pandas-docs/stable/user_guide/indexing.html#returning-a-view-versus-a-copy\n",
      "  df_recs_l[\"aid\"] = df_recs_l[\"aid\"].apply(lambda x: np.array(x[:k_recs]))\n"
     ]
    }
   ],
   "source": [
    "test_carts, recs_carts = prepare_data(df_carts_t, df_carts_r, K_TEST, K_RECS)"
   ]
  },
  {
   "cell_type": "code",
   "execution_count": 223,
   "metadata": {},
   "outputs": [
    {
     "name": "stdout",
     "output_type": "stream",
     "text": [
      "HR@200 = 0.0592\n",
      "MRR@200 = 0.0086\n",
      "Recall@200 = 0.0004\n",
      "Recall_Otto@200 = 0.0004\n"
     ]
    }
   ],
   "source": [
    "#from rec_base import Metrics\n",
    "metrics_carts = Metrics(K_RECS, test_carts, recs_carts)\n",
    "metrics_carts.report()"
   ]
  },
  {
   "cell_type": "code",
   "execution_count": 224,
   "metadata": {},
   "outputs": [
    {
     "name": "stderr",
     "output_type": "stream",
     "text": [
      "/var/folders/6v/hf7n2ynj2hq7z7qtfvcw_2xw0000gp/T/ipykernel_16464/2836734769.py:24: SettingWithCopyWarning: \n",
      "A value is trying to be set on a copy of a slice from a DataFrame.\n",
      "Try using .loc[row_indexer,col_indexer] = value instead\n",
      "\n",
      "See the caveats in the documentation: https://pandas.pydata.org/pandas-docs/stable/user_guide/indexing.html#returning-a-view-versus-a-copy\n",
      "  df_recs_l[\"aid\"] = df_recs_l[\"aid\"].apply(lambda x: np.array(x[:k_recs]))\n"
     ]
    }
   ],
   "source": [
    "test_orders, recs_orders = prepare_data(df_orders_t, df_orders_r, K_TEST, K_RECS)"
   ]
  },
  {
   "cell_type": "code",
   "execution_count": 225,
   "metadata": {},
   "outputs": [
    {
     "name": "stdout",
     "output_type": "stream",
     "text": [
      "HR@5 = 0.0577\n",
      "MRR@5 = 0.0059\n",
      "Recall@5 = 0.0003\n",
      "Recall_Otto@5 = 0.0132\n"
     ]
    }
   ],
   "source": [
    "#from rec_base import Metrics\n",
    "metrics_orders = Metrics(K_TEST, test_orders, recs_orders)\n",
    "metrics_orders.report()"
   ]
  },
  {
   "cell_type": "code",
   "execution_count": null,
   "metadata": {},
   "outputs": [],
   "source": []
  }
 ],
 "metadata": {
  "kernelspec": {
   "display_name": "study_env",
   "language": "python",
   "name": "python3"
  },
  "language_info": {
   "codemirror_mode": {
    "name": "ipython",
    "version": 3
   },
   "file_extension": ".py",
   "mimetype": "text/x-python",
   "name": "python",
   "nbconvert_exporter": "python",
   "pygments_lexer": "ipython3",
   "version": "3.11.7"
  }
 },
 "nbformat": 4,
 "nbformat_minor": 2
}
