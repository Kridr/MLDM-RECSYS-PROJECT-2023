{
 "cells": [
  {
   "cell_type": "code",
   "execution_count": 1,
   "metadata": {},
   "outputs": [],
   "source": [
    "import pandas as pd\n",
    "import numpy as np\n",
    "from sklearn.preprocessing import LabelEncoder"
   ]
  },
  {
   "cell_type": "markdown",
   "metadata": {},
   "source": [
    "## Data completeness"
   ]
  },
  {
   "cell_type": "code",
   "execution_count": 5,
   "metadata": {},
   "outputs": [],
   "source": [
    "df_clicks_train = pd.read_parquet('c:/Users/tanni/Desktop/rec_sys/Project/prepared_dataset_Nikita/reindexed_data/influence_data/df_clicks_train_unique_idea_indexed.parquet')"
   ]
  },
  {
   "cell_type": "code",
   "execution_count": 6,
   "metadata": {},
   "outputs": [
    {
     "data": {
      "text/html": [
       "<div>\n",
       "<style scoped>\n",
       "    .dataframe tbody tr th:only-of-type {\n",
       "        vertical-align: middle;\n",
       "    }\n",
       "\n",
       "    .dataframe tbody tr th {\n",
       "        vertical-align: top;\n",
       "    }\n",
       "\n",
       "    .dataframe thead th {\n",
       "        text-align: right;\n",
       "    }\n",
       "</style>\n",
       "<table border=\"1\" class=\"dataframe\">\n",
       "  <thead>\n",
       "    <tr style=\"text-align: right;\">\n",
       "      <th></th>\n",
       "      <th>session</th>\n",
       "      <th>aid</th>\n",
       "      <th>ts</th>\n",
       "      <th>session_encoded</th>\n",
       "      <th>aid_encoded</th>\n",
       "      <th>res_encoded</th>\n",
       "      <th>res_encoded_tfidf</th>\n",
       "      <th>pred</th>\n",
       "      <th>pred_tfidf</th>\n",
       "    </tr>\n",
       "  </thead>\n",
       "  <tbody>\n",
       "    <tr>\n",
       "      <th>0</th>\n",
       "      <td>0</td>\n",
       "      <td>1582117</td>\n",
       "      <td>1.660245e+12</td>\n",
       "      <td>0</td>\n",
       "      <td>666553</td>\n",
       "      <td>[281161, 775436, 516320, 764100, 451673, 29874...</td>\n",
       "      <td>[516320, 281161, 775436, 764100, 298740, 59310...</td>\n",
       "      <td>[667924.0, 1840418.0, 1226444.0, 1813509.0, 10...</td>\n",
       "      <td>[1226444.0, 667924.0, 1840418.0, 1813509.0, 70...</td>\n",
       "    </tr>\n",
       "    <tr>\n",
       "      <th>1</th>\n",
       "      <td>1</td>\n",
       "      <td>959544</td>\n",
       "      <td>1.659991e+12</td>\n",
       "      <td>1</td>\n",
       "      <td>404059</td>\n",
       "      <td>[730713, 90511, 360049, 302753, 21022, 44560, ...</td>\n",
       "      <td>[730713, 90511, 360049, 21022, 302753, 44560, ...</td>\n",
       "      <td>[1734061.0, 215311.0, 854637.0, 718983.0, 5004...</td>\n",
       "      <td>[1734061.0, 215311.0, 854637.0, 50049.0, 71898...</td>\n",
       "    </tr>\n",
       "    <tr>\n",
       "      <th>2</th>\n",
       "      <td>3</td>\n",
       "      <td>618373</td>\n",
       "      <td>1.660060e+12</td>\n",
       "      <td>2</td>\n",
       "      <td>260158</td>\n",
       "      <td>[414678, 737002, 45682, 739209, 567885, 558347...</td>\n",
       "      <td>[412613, 347944, 353885, 243317, 739209, 27765...</td>\n",
       "      <td>[984459.0, 1748862.0, 108125.0, 1754057.0, 134...</td>\n",
       "      <td>[979687.0, 825711.0, 840023.0, 578649.0, 17540...</td>\n",
       "    </tr>\n",
       "    <tr>\n",
       "      <th>3</th>\n",
       "      <td>6</td>\n",
       "      <td>179011</td>\n",
       "      <td>1.659997e+12</td>\n",
       "      <td>3</td>\n",
       "      <td>75355</td>\n",
       "      <td>[408325, 772989, 366503, 103911, 45251, 781573...</td>\n",
       "      <td>[408325, 103911, 366503, 45251, 276711, 560040...</td>\n",
       "      <td>[969717.0, 1834442.0, 870131.0, 247477.0, 1070...</td>\n",
       "      <td>[969717.0, 247477.0, 870131.0, 107068.0, 65719...</td>\n",
       "    </tr>\n",
       "    <tr>\n",
       "      <th>4</th>\n",
       "      <td>7</td>\n",
       "      <td>129869</td>\n",
       "      <td>1.660222e+12</td>\n",
       "      <td>4</td>\n",
       "      <td>54768</td>\n",
       "      <td>[54768, 233739, 40339, 549466, 295711, 466644,...</td>\n",
       "      <td>[54768, 233739, 253269, 40339, 295711, 549466,...</td>\n",
       "      <td>[129869.0, 555948.0, 95488.0, 1304914.0, 70243...</td>\n",
       "      <td>[129869.0, 555948.0, 602191.0, 95488.0, 702437...</td>\n",
       "    </tr>\n",
       "  </tbody>\n",
       "</table>\n",
       "</div>"
      ],
      "text/plain": [
       "   session      aid            ts  session_encoded  aid_encoded  \\\n",
       "0        0  1582117  1.660245e+12                0       666553   \n",
       "1        1   959544  1.659991e+12                1       404059   \n",
       "2        3   618373  1.660060e+12                2       260158   \n",
       "3        6   179011  1.659997e+12                3        75355   \n",
       "4        7   129869  1.660222e+12                4        54768   \n",
       "\n",
       "                                         res_encoded  \\\n",
       "0  [281161, 775436, 516320, 764100, 451673, 29874...   \n",
       "1  [730713, 90511, 360049, 302753, 21022, 44560, ...   \n",
       "2  [414678, 737002, 45682, 739209, 567885, 558347...   \n",
       "3  [408325, 772989, 366503, 103911, 45251, 781573...   \n",
       "4  [54768, 233739, 40339, 549466, 295711, 466644,...   \n",
       "\n",
       "                                   res_encoded_tfidf  \\\n",
       "0  [516320, 281161, 775436, 764100, 298740, 59310...   \n",
       "1  [730713, 90511, 360049, 21022, 302753, 44560, ...   \n",
       "2  [412613, 347944, 353885, 243317, 739209, 27765...   \n",
       "3  [408325, 103911, 366503, 45251, 276711, 560040...   \n",
       "4  [54768, 233739, 253269, 40339, 295711, 549466,...   \n",
       "\n",
       "                                                pred  \\\n",
       "0  [667924.0, 1840418.0, 1226444.0, 1813509.0, 10...   \n",
       "1  [1734061.0, 215311.0, 854637.0, 718983.0, 5004...   \n",
       "2  [984459.0, 1748862.0, 108125.0, 1754057.0, 134...   \n",
       "3  [969717.0, 1834442.0, 870131.0, 247477.0, 1070...   \n",
       "4  [129869.0, 555948.0, 95488.0, 1304914.0, 70243...   \n",
       "\n",
       "                                          pred_tfidf  \n",
       "0  [1226444.0, 667924.0, 1840418.0, 1813509.0, 70...  \n",
       "1  [1734061.0, 215311.0, 854637.0, 50049.0, 71898...  \n",
       "2  [979687.0, 825711.0, 840023.0, 578649.0, 17540...  \n",
       "3  [969717.0, 247477.0, 870131.0, 107068.0, 65719...  \n",
       "4  [129869.0, 555948.0, 602191.0, 95488.0, 702437...  "
      ]
     },
     "execution_count": 6,
     "metadata": {},
     "output_type": "execute_result"
    }
   ],
   "source": [
    "df_clicks_train.head()"
   ]
  },
  {
   "cell_type": "code",
   "execution_count": null,
   "metadata": {},
   "outputs": [],
   "source": []
  },
  {
   "cell_type": "code",
   "execution_count": 12,
   "metadata": {},
   "outputs": [],
   "source": [
    "df_clicks_train.to_parquet(\"c:/Users/tanni/Desktop/rec_sys/Project/prepared_dataset_Nikita/reindexed_data/idea_data/df_clicks_train_for_colab\")"
   ]
  },
  {
   "cell_type": "code",
   "execution_count": 15,
   "metadata": {},
   "outputs": [],
   "source": [
    "df_clicks_train_unique = df_clicks_train.copy()"
   ]
  },
  {
   "cell_type": "code",
   "execution_count": 16,
   "metadata": {},
   "outputs": [],
   "source": [
    "df_clicks_train_unique['pred'] = df_clicks_train_unique['res_encoded'].apply(clicks_aid_encoder.inverse_transform)"
   ]
  },
  {
   "cell_type": "code",
   "execution_count": null,
   "metadata": {},
   "outputs": [],
   "source": [
    "df_clicks_train_unique['pred_tfidf'] = df_clicks_train_unique['res_encoded_tfidf'].apply(clicks_aid_encoder.inverse_transform)"
   ]
  },
  {
   "cell_type": "code",
   "execution_count": null,
   "metadata": {},
   "outputs": [],
   "source": [
    "df_clicks_train_unique.to_parquet('c:/Users/tanni/Desktop/rec_sys/Project/prepared_dataset_Nikita/reindexed_data/idea_data/df_clicks_train_indexed')"
   ]
  },
  {
   "cell_type": "code",
   "execution_count": 2,
   "metadata": {},
   "outputs": [],
   "source": [
    "df_clicks_train = pd.read_parquet('c:/Users/tanni/Desktop/rec_sys/Project/prepared_dataset_Nikita/reindexed_data/idea_data/df_clicks_train_indexed')"
   ]
  },
  {
   "cell_type": "code",
   "execution_count": 7,
   "metadata": {},
   "outputs": [],
   "source": [
    "def set_ranks(df: pd.DataFrame):\n",
    "    df_c = df.copy()\n",
    "    df_c[\"rank\"] = df_c.groupby(\"session\")[\"ts\"].rank(method=\"first\", ascending=True)\n",
    "    return df_c[[\"session\", \"aid\", \"rank\"]]"
   ]
  },
  {
   "cell_type": "code",
   "execution_count": 8,
   "metadata": {},
   "outputs": [],
   "source": [
    "df_clicks_r = set_ranks(df_clicks_train)\n",
    "#df_carts_r = set_ranks(df_carts_t)\n",
    "#df_orders_r = set_ranks(df_orders_t)"
   ]
  },
  {
   "cell_type": "code",
   "execution_count": 9,
   "metadata": {},
   "outputs": [],
   "source": [
    "def rank_stat(df_r: pd.DataFrame, ks: list):\n",
    "    df_mr = df_r.groupby(\"session\").agg(\"max\")[\"rank\"]\n",
    "    for k in ks:\n",
    "        cnt_me = len(df_mr[df_mr >= k])\n",
    "        print(f\"Users with more than {k} test items: {cnt_me} ({round(cnt_me / len(df_mr) * 100, 2)}%)\")"
   ]
  },
  {
   "cell_type": "code",
   "execution_count": 10,
   "metadata": {},
   "outputs": [
    {
     "name": "stdout",
     "output_type": "stream",
     "text": [
      "Users with more than 3 test items: 0 (0.0%)\n",
      "Users with more than 5 test items: 0 (0.0%)\n",
      "Users with more than 10 test items: 0 (0.0%)\n",
      "Users with more than 20 test items: 0 (0.0%)\n"
     ]
    }
   ],
   "source": [
    "rank_stat(df_clicks_r, [3, 5, 10, 20])"
   ]
  },
  {
   "cell_type": "code",
   "execution_count": 11,
   "metadata": {},
   "outputs": [],
   "source": [
    "#rank_stat(df_carts_r, [3, 5, 10, 20])"
   ]
  },
  {
   "cell_type": "code",
   "execution_count": 12,
   "metadata": {},
   "outputs": [],
   "source": [
    "#rank_stat(df_orders_r, [3, 5, 10, 20])"
   ]
  },
  {
   "cell_type": "markdown",
   "metadata": {},
   "source": [
    "# Metrics"
   ]
  },
  {
   "cell_type": "code",
   "execution_count": 13,
   "metadata": {},
   "outputs": [],
   "source": [
    "K_RECS = 200\n",
    "K_TEST = 5"
   ]
  },
  {
   "cell_type": "code",
   "execution_count": 14,
   "metadata": {},
   "outputs": [],
   "source": [
    "df_clicks_r = pd.read_parquet('c:/Users/tanni/Desktop/rec_sys/Project/prepared_dataset_Nikita/clicks/test')"
   ]
  },
  {
   "cell_type": "code",
   "execution_count": 16,
   "metadata": {},
   "outputs": [],
   "source": [
    "#df_carts_r = pd.read_parquet(\"data/carts/\")"
   ]
  },
  {
   "cell_type": "code",
   "execution_count": 17,
   "metadata": {},
   "outputs": [],
   "source": [
    "#df_orders_r = pd.read_parquet(\"data/orders/\")"
   ]
  },
  {
   "cell_type": "code",
   "execution_count": 15,
   "metadata": {},
   "outputs": [],
   "source": [
    "def extract_n_elements(row, n):\n",
    "    return np.pad(row[:n], (0, max(n - len(row), 0)), mode='constant', constant_values=-1)\n"
   ]
  },
  {
   "cell_type": "code",
   "execution_count": 16,
   "metadata": {},
   "outputs": [],
   "source": [
    "def prepare_data(df_test, df_recs, k_test, k_recs):\n",
    "    valid_session = np.intersect1d(\n",
    "        df_test[\"session\"].unique(),\n",
    "        df_recs[\"session\"].unique()\n",
    "    )\n",
    "\n",
    "    df_test_l = set_ranks(df_test)\n",
    "    df_test_l = df_test_l[df_test_l[\"session\"].isin(valid_session)]\n",
    "    df_test_l = df_test_l[df_test_l[\"rank\"] <= k_test]\n",
    "    df_test_l = df_test_l.groupby(\"session\")[\"aid\"].apply(list).reset_index().sort_values(\"session\")\n",
    "\n",
    "    df_test_l[\"aid\"] = (\n",
    "        df_test_l[\"aid\"]\n",
    "        .apply(lambda x: np.pad(\n",
    "            x[:k_test],\n",
    "            (0, max(k_test - len(x), 0)),\n",
    "            mode=\"constant\",\n",
    "            constant_values=-1\n",
    "        ))\n",
    "    )\n",
    "    test = np.stack(df_test_l[\"aid\"].values, axis=0)\n",
    "\n",
    "    df_recs_l = df_recs[df_recs[\"session\"].isin(valid_session)]\n",
    "    df_recs_l[\"modified_pred\"] = (\n",
    "        df_recs_l[\"pred\"]\n",
    "        .apply(lambda x: extract_n_elements(x, k_recs))\n",
    "    )\n",
    "    \n",
    "    recs = df_recs_l[\"modified_pred\"].tolist()\n",
    "\n",
    "    return test, np.array(recs)\n"
   ]
  },
  {
   "cell_type": "code",
   "execution_count": 17,
   "metadata": {},
   "outputs": [
    {
     "name": "stderr",
     "output_type": "stream",
     "text": [
      "C:\\Users\\tanni\\AppData\\Local\\Temp\\ipykernel_328\\1135287424.py:24: SettingWithCopyWarning: \n",
      "A value is trying to be set on a copy of a slice from a DataFrame.\n",
      "Try using .loc[row_indexer,col_indexer] = value instead\n",
      "\n",
      "See the caveats in the documentation: https://pandas.pydata.org/pandas-docs/stable/user_guide/indexing.html#returning-a-view-versus-a-copy\n",
      "  df_recs_l[\"modified_pred\"] = (\n"
     ]
    }
   ],
   "source": [
    "test_clicks, recs_clicks = prepare_data(df_clicks_r, df_clicks_train, K_TEST, K_RECS)"
   ]
  },
  {
   "cell_type": "code",
   "execution_count": 19,
   "metadata": {},
   "outputs": [],
   "source": [
    "rows_to_remove = np.where(np.any(test_clicks == -1, axis=1))[0]\n",
    "\n",
    "# Удаляем соответствующие строки из обеих матриц\n",
    "test_clicks = np.delete(test_clicks, rows_to_remove, axis=0)\n",
    "recs_clicks = np.delete(recs_clicks, rows_to_remove, axis=0)"
   ]
  },
  {
   "cell_type": "code",
   "execution_count": 21,
   "metadata": {},
   "outputs": [
    {
     "data": {
      "text/plain": [
       "(121194, 200)"
      ]
     },
     "execution_count": 21,
     "metadata": {},
     "output_type": "execute_result"
    }
   ],
   "source": [
    "recs_clicks.shape"
   ]
  },
  {
   "cell_type": "code",
   "execution_count": 20,
   "metadata": {},
   "outputs": [],
   "source": [
    "import numpy as np\n",
    "\n",
    "\n",
    "class Metrics:\n",
    "    def __init__(\n",
    "            self,\n",
    "            k: int,\n",
    "            recommendations: np.ndarray,\n",
    "            holdout: np.ndarray\n",
    "            ):\n",
    "        self.k = k\n",
    "        self.recommendations = recommendations[:, :k]\n",
    "        self.holdout = holdout\n",
    "\n",
    "    def report(self):\n",
    "        print(f\"HR@{self.k} = {round(self.hit_rate(), 4)}\")\n",
    "        print(f\"MRR@{self.k} = {round(self.mean_reciprocal_rank(), 4)}\")\n",
    "        print(f\"Recall@{self.k} = {round(self.recall(), 4)}\")\n",
    "\n",
    "    def hit_rate(self):\n",
    "        return (\n",
    "            self._get_hit_mask()\n",
    "            .any(axis=1)\n",
    "            .mean()\n",
    "        )\n",
    "\n",
    "    def mean_reciprocal_rank(self):\n",
    "        hits_mask = self._get_hit_mask()\n",
    "\n",
    "        idx = np.argwhere(hits_mask.argmax(axis=1)).squeeze(axis=1)\n",
    "\n",
    "        return np.sum(\n",
    "            1 / (hits_mask[idx].argmax(axis=1) + 1)\n",
    "        ) / hits_mask.shape[0]\n",
    "\n",
    "    def recall(self):\n",
    "        hits_mask = self._get_hit_mask()\n",
    "        return (\n",
    "            hits_mask.sum(axis=1) / self.recommendations.shape[1]\n",
    "        ).sum() / self.recommendations.shape[0]\n",
    "\n",
    "    def _get_hit_mask(self) -> np.ndarray:\n",
    "        return (\n",
    "            self.holdout[..., None] ==\n",
    "            np.expand_dims(self.recommendations, axis=1)\n",
    "        ).any(axis=1)"
   ]
  },
  {
   "cell_type": "code",
   "execution_count": 21,
   "metadata": {},
   "outputs": [
    {
     "name": "stdout",
     "output_type": "stream",
     "text": [
      "HR@200 = 0.4394\n",
      "MRR@200 = 0.0108\n",
      "Recall@200 = 0.25\n",
      "None\n"
     ]
    }
   ],
   "source": [
    "#from rec_base import Metrics\n",
    "metrics_carts = Metrics(K_RECS, np.array(recs_clicks), test_clicks)\n",
    "print(metrics_carts.report())"
   ]
  },
  {
   "cell_type": "markdown",
   "metadata": {},
   "source": [
    "# Normalize"
   ]
  },
  {
   "cell_type": "code",
   "execution_count": 22,
   "metadata": {},
   "outputs": [],
   "source": [
    "def prepare_data(df_test, df_recs, k_test, k_recs):\n",
    "    valid_session = np.intersect1d(\n",
    "        df_test[\"session\"].unique(),\n",
    "        df_recs[\"session\"].unique()\n",
    "    )\n",
    "\n",
    "    df_test_l = set_ranks(df_test)\n",
    "    df_test_l = df_test_l[df_test_l[\"session\"].isin(valid_session)]\n",
    "    df_test_l = df_test_l[df_test_l[\"rank\"] <= k_test]\n",
    "    df_test_l = df_test_l.groupby(\"session\")[\"aid\"].apply(list).reset_index().sort_values(\"session\")\n",
    "\n",
    "    df_test_l[\"aid\"] = (\n",
    "        df_test_l[\"aid\"]\n",
    "        .apply(lambda x: np.pad(\n",
    "            x[:k_test],\n",
    "            (0, max(k_test - len(x), 0)),\n",
    "            mode=\"constant\",\n",
    "            constant_values=-1\n",
    "        ))\n",
    "    )\n",
    "    test = np.stack(df_test_l[\"aid\"].values, axis=0)\n",
    "    print(test.shape)\n",
    "\n",
    "    df_recs_l = df_recs[df_recs[\"session\"].isin(valid_session)]\n",
    "    df_recs_l[\"modified_pred\"] = (\n",
    "        df_recs_l[\"pred_tfidf\"]\n",
    "        .apply(lambda x: extract_n_elements(x, k_recs))\n",
    "    )\n",
    "    \n",
    "    recs = df_recs_l[\"modified_pred\"].tolist()\n",
    "\n",
    "    return test, recs\n"
   ]
  },
  {
   "cell_type": "code",
   "execution_count": 23,
   "metadata": {},
   "outputs": [
    {
     "name": "stdout",
     "output_type": "stream",
     "text": [
      "(213464, 5)\n"
     ]
    },
    {
     "name": "stderr",
     "output_type": "stream",
     "text": [
      "C:\\Users\\tanni\\AppData\\Local\\Temp\\ipykernel_328\\2324496305.py:25: SettingWithCopyWarning: \n",
      "A value is trying to be set on a copy of a slice from a DataFrame.\n",
      "Try using .loc[row_indexer,col_indexer] = value instead\n",
      "\n",
      "See the caveats in the documentation: https://pandas.pydata.org/pandas-docs/stable/user_guide/indexing.html#returning-a-view-versus-a-copy\n",
      "  df_recs_l[\"modified_pred\"] = (\n"
     ]
    }
   ],
   "source": [
    "test_clicks, recs_clicks = prepare_data(df_clicks_r, df_clicks_train, K_TEST, K_RECS)"
   ]
  },
  {
   "cell_type": "code",
   "execution_count": 38,
   "metadata": {},
   "outputs": [
    {
     "data": {
      "text/plain": [
       "(213272, 200)"
      ]
     },
     "execution_count": 38,
     "metadata": {},
     "output_type": "execute_result"
    }
   ],
   "source": [
    "np.array(recs_clicks).shape"
   ]
  },
  {
   "cell_type": "code",
   "execution_count": 24,
   "metadata": {},
   "outputs": [
    {
     "name": "stdout",
     "output_type": "stream",
     "text": [
      "HR@200 = 0.4372\n",
      "MRR@200 = 0.0081\n",
      "Recall@200 = 0.242\n",
      "None\n"
     ]
    }
   ],
   "source": [
    "metrics_carts = Metrics(K_RECS, np.array(recs_clicks), test_clicks)\n",
    "print(metrics_carts.report())"
   ]
  },
  {
   "cell_type": "code",
   "execution_count": null,
   "metadata": {},
   "outputs": [],
   "source": []
  }
 ],
 "metadata": {
  "kernelspec": {
   "display_name": "study_env",
   "language": "python",
   "name": "python3"
  },
  "language_info": {
   "codemirror_mode": {
    "name": "ipython",
    "version": 3
   },
   "file_extension": ".py",
   "mimetype": "text/x-python",
   "name": "python",
   "nbconvert_exporter": "python",
   "pygments_lexer": "ipython3",
   "version": "3.11.7"
  }
 },
 "nbformat": 4,
 "nbformat_minor": 2
}
