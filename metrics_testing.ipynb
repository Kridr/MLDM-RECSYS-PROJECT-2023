{
 "cells": [
  {
   "cell_type": "code",
   "execution_count": 2,
   "metadata": {},
   "outputs": [],
   "source": [
    "import numpy as np"
   ]
  },
  {
   "cell_type": "code",
   "execution_count": 3,
   "metadata": {},
   "outputs": [],
   "source": [
    "class Metrics:\n",
    "    def __init__(self, k, recommendations, holdout):\n",
    "        self.k = k\n",
    "        self.recommendations = recommendations[:, :self.k]\n",
    "        self.holdout = holdout\n",
    "\n",
    "    def hit_rate(self):\n",
    "        return np.array(\n",
    "            [\n",
    "                np.intersect1d(self.holdout[i], self.recommendations[i]).any()\n",
    "                for i in range(self.holdout.shape[0])\n",
    "            ]\n",
    "        ).mean()\n",
    "\n",
    "    def mean_reciprocal_rank(self):\n",
    "        n_test_users = self.holdout.shape[0]\n",
    "        hits_rank = [\n",
    "            np.where(np.in1d(self.holdout[i], self.recommendations[i]))[0]\n",
    "            for i in range(self.holdout.shape[0])\n",
    "        ]\n",
    "        hits_rank = np.array([el[0] for el in hits_rank if el.shape[0]])\n",
    "        return (1. / (hits_rank + 1)).sum() / n_test_users\n",
    "\n",
    "    def recall(self):\n",
    "        numerator = np.sum(\n",
    "            [\n",
    "                np.intersect1d(self.holdout[i], self.recommendations[i]).shape[0]\n",
    "                for i in range(self.holdout.shape[0])\n",
    "            ]\n",
    "        )\n",
    "        denominator = np.sum([min(self.k, self.holdout[i].shape[0]) for i in range(self.holdout.shape[0])])\n",
    "        return numerator / denominator"
   ]
  },
  {
   "cell_type": "code",
   "execution_count": 4,
   "metadata": {},
   "outputs": [],
   "source": [
    "class Metrics:\n",
    "    def __init__(self, k, recommendations, holdout):\n",
    "        self.k = k\n",
    "        self.recommendations = recommendations[:, :self.k]\n",
    "        self.holdout = holdout\n",
    "\n",
    "    def hit_rate(self):\n",
    "        return np.array(\n",
    "            [\n",
    "                np.intersect1d(self.holdout[i], self.recommendations[i]).any()\n",
    "                for i in range(self.holdout.shape[0])\n",
    "            ]\n",
    "        ).mean()\n",
    "\n",
    "    def mean_reciprocal_rank(self):\n",
    "        n_test_users = self.holdout.shape[0]\n",
    "        hits_rank = [\n",
    "            np.where(np.in1d(self.holdout[i], self.recommendations[i]))[0]\n",
    "            for i in range(self.holdout.shape[0])\n",
    "        ]\n",
    "        hits_rank = np.array([el[0] for el in hits_rank if el.shape[0]])\n",
    "        return (1. / (hits_rank + 1)).sum() / n_test_users\n",
    "\n",
    "    def recall(self):\n",
    "        numerator = np.sum(\n",
    "            [\n",
    "                np.intersect1d(self.holdout[i], self.recommendations[i]).shape[0]\n",
    "                for i in range(self.holdout.shape[0])\n",
    "            ]\n",
    "        )\n",
    "        denominator = np.sum([min(self.k, self.holdout[i].shape[0]) for i in range(self.holdout.shape[0])])\n",
    "        return numerator / denominator"
   ]
  },
  {
   "cell_type": "code",
   "execution_count": 5,
   "metadata": {},
   "outputs": [],
   "source": [
    "class RecModel:\n",
    "    def __init__(self):\n",
    "        pass\n",
    "\n",
    "    def build(self):\n",
    "        pass\n",
    "\n",
    "    def recommend(self):\n",
    "        pass\n",
    "\n",
    "\n",
    "class DataPreparator:\n",
    "    def __init__(self):\n",
    "        pass"
   ]
  },
  {
   "cell_type": "code",
   "execution_count": 15,
   "metadata": {},
   "outputs": [],
   "source": [
    "#small test data\n",
    "k = 2\n",
    "num_users = 5\n",
    "num_items = 4"
   ]
  },
  {
   "cell_type": "code",
   "execution_count": 16,
   "metadata": {},
   "outputs": [],
   "source": [
    "recommendations = np.random.choice(num_items, size=(num_users, num_items))\n",
    "holdout = np.random.choice(num_items, size=(num_users, num_items//2))\n",
    "metrics = Metrics(k, recommendations, holdout)"
   ]
  },
  {
   "cell_type": "code",
   "execution_count": 17,
   "metadata": {},
   "outputs": [
    {
     "data": {
      "text/plain": [
       "array([[1, 1, 1, 3],\n",
       "       [1, 1, 0, 0],\n",
       "       [0, 1, 1, 3],\n",
       "       [2, 3, 3, 3],\n",
       "       [3, 2, 1, 1]])"
      ]
     },
     "execution_count": 17,
     "metadata": {},
     "output_type": "execute_result"
    }
   ],
   "source": [
    "recommendations"
   ]
  },
  {
   "cell_type": "code",
   "execution_count": 18,
   "metadata": {},
   "outputs": [
    {
     "data": {
      "text/plain": [
       "array([[3, 1],\n",
       "       [2, 1],\n",
       "       [3, 2],\n",
       "       [0, 1],\n",
       "       [1, 3]])"
      ]
     },
     "execution_count": 18,
     "metadata": {},
     "output_type": "execute_result"
    }
   ],
   "source": [
    "holdout"
   ]
  },
  {
   "cell_type": "code",
   "execution_count": 19,
   "metadata": {},
   "outputs": [],
   "source": [
    "hit_rate_result = metrics.hit_rate()\n",
    "mrr_result = metrics.mean_reciprocal_rank()\n",
    "recall_result = metrics.recall()"
   ]
  },
  {
   "cell_type": "code",
   "execution_count": 20,
   "metadata": {},
   "outputs": [
    {
     "name": "stdout",
     "output_type": "stream",
     "text": [
      "Hit Rate: 0.6\n",
      "Mean Reciprocal Rank: 0.3\n",
      "Recall: 0.3\n"
     ]
    }
   ],
   "source": [
    "print(f\"Hit Rate: {hit_rate_result}\")\n",
    "print(f\"Mean Reciprocal Rank: {mrr_result}\")\n",
    "print(f\"Recall: {recall_result}\")"
   ]
  }
 ],
 "metadata": {
  "kernelspec": {
   "display_name": "Python 3",
   "language": "python",
   "name": "python3"
  },
  "language_info": {
   "codemirror_mode": {
    "name": "ipython",
    "version": 3
   },
   "file_extension": ".py",
   "mimetype": "text/x-python",
   "name": "python",
   "nbconvert_exporter": "python",
   "pygments_lexer": "ipython3",
   "version": "3.11.6"
  }
 },
 "nbformat": 4,
 "nbformat_minor": 2
}
