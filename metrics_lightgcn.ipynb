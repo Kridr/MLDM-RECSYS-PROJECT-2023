{
 "cells": [
  {
   "cell_type": "code",
   "execution_count": 20,
   "metadata": {},
   "outputs": [],
   "source": [
    "import pandas as pd\n",
    "import numpy as np"
   ]
  },
  {
   "cell_type": "markdown",
   "metadata": {},
   "source": [
    "## Data completeness"
   ]
  },
  {
   "cell_type": "code",
   "execution_count": 21,
   "metadata": {},
   "outputs": [],
   "source": [
    "df_clicks_t = pd.read_parquet(\"data/otto_exploded_dataset/clicks/test\")\n",
    "df_carts_t = pd.read_parquet(\"data/otto_exploded_dataset/carts/test\")\n",
    "df_orders_t = pd.read_parquet(\"data/otto_exploded_dataset/orders/test\")"
   ]
  },
  {
   "cell_type": "code",
   "execution_count": 22,
   "metadata": {},
   "outputs": [],
   "source": [
    "def set_ranks(df: pd.DataFrame):\n",
    "    df_c = df.copy()\n",
    "    df_c[\"rank\"] = df_c.groupby(\"session\")[\"ts\"].rank(method=\"first\", ascending=True)\n",
    "    return df_c[[\"session\", \"aid\", \"rank\"]]"
   ]
  },
  {
   "cell_type": "code",
   "execution_count": 23,
   "metadata": {},
   "outputs": [],
   "source": [
    "df_clicks_tr = set_ranks(df_clicks_t)\n",
    "df_carts_tr = set_ranks(df_carts_t)\n",
    "df_orders_tr = set_ranks(df_orders_t)"
   ]
  },
  {
   "cell_type": "code",
   "execution_count": 24,
   "metadata": {},
   "outputs": [],
   "source": [
    "def rank_stat(df_r: pd.DataFrame, ks: list):\n",
    "    df_mr = df_r.groupby(\"session\").agg(\"max\")[\"rank\"]\n",
    "    for k in ks:\n",
    "        cnt_me = len(df_mr[df_mr >= k])\n",
    "        print(f\"Users with more than {k} test items: {cnt_me} ({round(cnt_me / len(df_mr) * 100, 2)}%)\")"
   ]
  },
  {
   "cell_type": "code",
   "execution_count": 25,
   "metadata": {},
   "outputs": [
    {
     "name": "stdout",
     "output_type": "stream",
     "text": [
      "Users with more than 3 test items: 187014 (65.87%)\n",
      "Users with more than 5 test items: 144337 (50.84%)\n",
      "Users with more than 10 test items: 91221 (32.13%)\n",
      "Users with more than 20 test items: 46619 (16.42%)\n"
     ]
    }
   ],
   "source": [
    "rank_stat(df_clicks_tr, [3, 5, 10, 20])"
   ]
  },
  {
   "cell_type": "code",
   "execution_count": 26,
   "metadata": {},
   "outputs": [
    {
     "name": "stdout",
     "output_type": "stream",
     "text": [
      "Users with more than 3 test items: 29741 (38.89%)\n",
      "Users with more than 5 test items: 14984 (19.59%)\n",
      "Users with more than 10 test items: 4225 (5.52%)\n",
      "Users with more than 20 test items: 622 (0.81%)\n"
     ]
    }
   ],
   "source": [
    "rank_stat(df_carts_tr, [3, 5, 10, 20])"
   ]
  },
  {
   "cell_type": "code",
   "execution_count": 27,
   "metadata": {},
   "outputs": [
    {
     "name": "stdout",
     "output_type": "stream",
     "text": [
      "Users with more than 3 test items: 7770 (25.77%)\n",
      "Users with more than 5 test items: 3150 (10.45%)\n",
      "Users with more than 10 test items: 576 (1.91%)\n",
      "Users with more than 20 test items: 55 (0.18%)\n"
     ]
    }
   ],
   "source": [
    "rank_stat(df_orders_tr, [3, 5, 10, 20])"
   ]
  },
  {
   "cell_type": "markdown",
   "metadata": {},
   "source": [
    "# Metrics"
   ]
  },
  {
   "cell_type": "code",
   "execution_count": 28,
   "metadata": {},
   "outputs": [],
   "source": [
    "K_RECS = 200\n",
    "K_TEST = 5"
   ]
  },
  {
   "cell_type": "code",
   "execution_count": 29,
   "metadata": {},
   "outputs": [],
   "source": [
    "df_clicks_r = pd.read_parquet(\"data/clicks/\")"
   ]
  },
  {
   "cell_type": "code",
   "execution_count": 30,
   "metadata": {},
   "outputs": [],
   "source": [
    "df_carts_r = pd.read_parquet(\"data/carts/\")"
   ]
  },
  {
   "cell_type": "code",
   "execution_count": 31,
   "metadata": {},
   "outputs": [],
   "source": [
    "df_orders_r = pd.read_parquet(\"data/orders/\")"
   ]
  },
  {
   "cell_type": "code",
   "execution_count": 32,
   "metadata": {},
   "outputs": [],
   "source": [
    "def prepare_data(df_test: pd.DataFrame, df_recs: pd.DataFrame, k_test, k_recs):\n",
    "    valid_session = np.intersect1d(\n",
    "        df_test[\"session\"].unique(),\n",
    "        df_recs[\"session\"].unique()\n",
    "    )\n",
    "\n",
    "    df_test_l = set_ranks(df_test)\n",
    "    df_test_l = df_test_l[df_test_l[\"session\"].isin(valid_session)]\n",
    "    df_test_l = df_test_l[df_test_l[\"rank\"] <= k_test]\n",
    "    df_test_l = df_test_l.groupby(\"session\")[\"aid\"].apply(list).reset_index().sort_values(\"session\")\n",
    "\n",
    "    df_test_l[\"aid\"] = (\n",
    "        df_test_l[\"aid\"]\n",
    "        .apply(lambda x: np.pad(\n",
    "            x[:k_test],\n",
    "            (0, max(k_test - len(x), 0)),\n",
    "            mode=\"constant\",\n",
    "            constant_values=-1\n",
    "        ))\n",
    "    )\n",
    "    test = np.stack(df_test_l[\"aid\"].values, axis=0)\n",
    "\n",
    "    df_recs_l = df_recs[df_recs[\"session\"].isin(valid_session)]\n",
    "    df_recs_l[\"aid\"] = df_recs_l[\"aid\"].apply(lambda x: np.array(x[:k_recs]))\n",
    "    df_recs_l = df_recs_l.sort_values(\"session\")\n",
    "    recs = np.stack(df_recs_l[\"aid\"].values, axis=0)\n",
    "\n",
    "    return test, recs"
   ]
  },
  {
   "cell_type": "code",
   "execution_count": 33,
   "metadata": {},
   "outputs": [
    {
     "name": "stderr",
     "output_type": "stream",
     "text": [
      "/var/folders/6v/hf7n2ynj2hq7z7qtfvcw_2xw0000gp/T/ipykernel_9177/2836734769.py:24: SettingWithCopyWarning: \n",
      "A value is trying to be set on a copy of a slice from a DataFrame.\n",
      "Try using .loc[row_indexer,col_indexer] = value instead\n",
      "\n",
      "See the caveats in the documentation: https://pandas.pydata.org/pandas-docs/stable/user_guide/indexing.html#returning-a-view-versus-a-copy\n",
      "  df_recs_l[\"aid\"] = df_recs_l[\"aid\"].apply(lambda x: np.array(x[:k_recs]))\n"
     ]
    }
   ],
   "source": [
    "test_clicks, recs_clicks = prepare_data(df_clicks_t, df_clicks_r, K_TEST, K_RECS)"
   ]
  },
  {
   "cell_type": "code",
   "execution_count": 34,
   "metadata": {},
   "outputs": [
    {
     "name": "stdout",
     "output_type": "stream",
     "text": [
      "HR@200 = 0.0403\n",
      "MRR@200 = 0.004\n",
      "Recall@200 = 0.0002\n"
     ]
    }
   ],
   "source": [
    "from rec_base import Metrics\n",
    "metrics_clicks = Metrics(K_RECS, recs_clicks, test_clicks)\n",
    "metrics_clicks.report()"
   ]
  },
  {
   "cell_type": "code",
   "execution_count": 35,
   "metadata": {},
   "outputs": [
    {
     "name": "stderr",
     "output_type": "stream",
     "text": [
      "/var/folders/6v/hf7n2ynj2hq7z7qtfvcw_2xw0000gp/T/ipykernel_9177/2836734769.py:24: SettingWithCopyWarning: \n",
      "A value is trying to be set on a copy of a slice from a DataFrame.\n",
      "Try using .loc[row_indexer,col_indexer] = value instead\n",
      "\n",
      "See the caveats in the documentation: https://pandas.pydata.org/pandas-docs/stable/user_guide/indexing.html#returning-a-view-versus-a-copy\n",
      "  df_recs_l[\"aid\"] = df_recs_l[\"aid\"].apply(lambda x: np.array(x[:k_recs]))\n"
     ]
    }
   ],
   "source": [
    "test_carts, recs_carts = prepare_data(df_carts_t, df_carts_r, K_TEST, K_RECS)"
   ]
  },
  {
   "cell_type": "code",
   "execution_count": 36,
   "metadata": {},
   "outputs": [
    {
     "name": "stdout",
     "output_type": "stream",
     "text": [
      "HR@200 = 0.0592\n",
      "MRR@200 = 0.0086\n",
      "Recall@200 = 0.0152\n"
     ]
    }
   ],
   "source": [
    "from rec_base import Metrics\n",
    "metrics_carts = Metrics(K_RECS, test_carts, recs_carts)\n",
    "metrics_carts.report()"
   ]
  },
  {
   "cell_type": "code",
   "execution_count": 37,
   "metadata": {},
   "outputs": [
    {
     "name": "stderr",
     "output_type": "stream",
     "text": [
      "/var/folders/6v/hf7n2ynj2hq7z7qtfvcw_2xw0000gp/T/ipykernel_9177/2836734769.py:24: SettingWithCopyWarning: \n",
      "A value is trying to be set on a copy of a slice from a DataFrame.\n",
      "Try using .loc[row_indexer,col_indexer] = value instead\n",
      "\n",
      "See the caveats in the documentation: https://pandas.pydata.org/pandas-docs/stable/user_guide/indexing.html#returning-a-view-versus-a-copy\n",
      "  df_recs_l[\"aid\"] = df_recs_l[\"aid\"].apply(lambda x: np.array(x[:k_recs]))\n"
     ]
    }
   ],
   "source": [
    "test_orders, recs_orders = prepare_data(df_orders_t, df_orders_r, K_TEST, K_RECS)"
   ]
  },
  {
   "cell_type": "code",
   "execution_count": 38,
   "metadata": {},
   "outputs": [
    {
     "name": "stdout",
     "output_type": "stream",
     "text": [
      "HR@200 = 0.0577\n",
      "MRR@200 = 0.0059\n",
      "Recall@200 = 0.0132\n"
     ]
    }
   ],
   "source": [
    "from rec_base import Metrics\n",
    "metrics_orders = Metrics(K_RECS, test_orders, recs_orders)\n",
    "metrics_orders.report()"
   ]
  },
  {
   "cell_type": "markdown",
   "metadata": {},
   "source": [
    "# Merge candidates"
   ]
  },
  {
   "cell_type": "code",
   "execution_count": null,
   "metadata": {},
   "outputs": [],
   "source": [
    "def merge_cand(s1, s2, out_size):\n",
    "    assert out_size <= len(s1)\n",
    "    s12 = np.intersect1d(s1, s2)\n",
    "    s1n2 = np.setdiff1d(s1, s2)\n",
    "\n",
    "    return np.concatenate((s12[:out_size], s1n2[:(max(0, out_size - len(s12)))]))"
   ]
  },
  {
   "cell_type": "code",
   "execution_count": null,
   "metadata": {},
   "outputs": [],
   "source": [
    "def prepare_data_merged(\n",
    "        df_test: pd.DataFrame,\n",
    "        df_recs_source: pd.DataFrame,\n",
    "        df_recs_lo: pd.DataFrame,\n",
    "        k_test,\n",
    "        k_recs\n",
    "        ):\n",
    "    valid_session = np.intersect1d(\n",
    "        df_test[\"session\"].unique(),\n",
    "        df_recs_source[\"session\"].unique()\n",
    "    )\n",
    "\n",
    "    df_test_l = set_ranks(df_test)\n",
    "    df_test_l = df_test_l[df_test_l[\"session\"].isin(valid_session)]\n",
    "    df_test_l = df_test_l[df_test_l[\"rank\"] <= k_test]\n",
    "    df_test_l = df_test_l.groupby(\"session\")[\"aid\"].apply(list).reset_index().sort_values(\"session\")\n",
    "\n",
    "    df_test_l[\"aid\"] = (\n",
    "        df_test_l[\"aid\"]\n",
    "        .apply(lambda x: np.pad(\n",
    "            x[:k_test],\n",
    "            (0, max(k_test - len(x), 0)),\n",
    "            mode=\"constant\",\n",
    "            constant_values=-1\n",
    "        ))\n",
    "    )\n",
    "    test = np.stack(df_test_l[\"aid\"].values, axis=0)\n",
    "\n",
    "    df_recs_source_l = df_recs_source[df_recs_source[\"session\"].isin(valid_session)]\n",
    "    df_recs_lo_l = df_recs_lo.rename(columns={\"aid\": \"aid_lo\"})\n",
    "    df_recs_final = df_recs_source_l.merge(df_recs_lo_l, how=\"left\", on=\"session\")\n",
    "    df_recs_final[\"maid\"] = df_recs_final.apply(\n",
    "        lambda x: merge_cand(x[\"aid\"], x[\"aid_lo\"], k_recs), axis=1\n",
    "    )\n",
    "\n",
    "    df_recs_final = df_recs_final.sort_values(\"session\")\n",
    "    recs = np.stack(df_recs_final[\"maid\"].values, axis=0)\n",
    "\n",
    "    return test, recs"
   ]
  },
  {
   "cell_type": "code",
   "execution_count": null,
   "metadata": {},
   "outputs": [],
   "source": [
    "test_orders_m, recs_orders_m = prepare_data_merged(df_orders_t, df_orders_r, df_carts_r, K_TEST, K_RECS)"
   ]
  },
  {
   "cell_type": "code",
   "execution_count": null,
   "metadata": {},
   "outputs": [
    {
     "name": "stdout",
     "output_type": "stream",
     "text": [
      "HR@5 = 0.0513\n",
      "MRR@5 = 0.0056\n",
      "Recall@5 = 0.0117\n"
     ]
    }
   ],
   "source": [
    "from rec_base import Metrics\n",
    "metrics_orders_m = Metrics(K_TEST, test_orders, recs_orders_m)\n",
    "metrics_orders_m.report()"
   ]
  },
  {
   "cell_type": "markdown",
   "metadata": {},
   "source": [
    "# Randoms"
   ]
  },
  {
   "cell_type": "code",
   "execution_count": null,
   "metadata": {},
   "outputs": [],
   "source": [
    "from rec_base import Metrics\n",
    "\n",
    "def random_metrics(tp, test, recs_shape):\n",
    "    items = pd.read_parquet(f\"data/otto_exploded_dataset/{tp}/train\").aid.unique()\n",
    "    recs_rand = np.random.choice(items, size=recs_shape)\n",
    "\n",
    "    metrics_orders_rand = Metrics(K_RECS, test, recs_rand)\n",
    "    metrics_orders_rand.report()"
   ]
  },
  {
   "cell_type": "code",
   "execution_count": null,
   "metadata": {},
   "outputs": [
    {
     "name": "stdout",
     "output_type": "stream",
     "text": [
      "HR@200 = 0.0008\n",
      "MRR@200 = 0.0002\n",
      "Recall@200 = 0.0002\n"
     ]
    }
   ],
   "source": [
    "random_metrics(\"clicks\", test_clicks, recs_clicks.shape)"
   ]
  },
  {
   "cell_type": "code",
   "execution_count": null,
   "metadata": {},
   "outputs": [
    {
     "name": "stdout",
     "output_type": "stream",
     "text": [
      "HR@200 = 0.0022\n",
      "MRR@200 = 0.0004\n",
      "Recall@200 = 0.0004\n"
     ]
    }
   ],
   "source": [
    "random_metrics(\"carts\", test_carts, recs_carts.shape)"
   ]
  },
  {
   "cell_type": "code",
   "execution_count": null,
   "metadata": {},
   "outputs": [
    {
     "name": "stdout",
     "output_type": "stream",
     "text": [
      "HR@200 = 0.0024\n",
      "MRR@200 = 0.0005\n",
      "Recall@200 = 0.0005\n"
     ]
    }
   ],
   "source": [
    "random_metrics(\"orders\", test_orders, recs_orders.shape)"
   ]
  },
  {
   "cell_type": "code",
   "execution_count": null,
   "metadata": {},
   "outputs": [],
   "source": []
  }
 ],
 "metadata": {
  "kernelspec": {
   "display_name": "study_env",
   "language": "python",
   "name": "python3"
  },
  "language_info": {
   "codemirror_mode": {
    "name": "ipython",
    "version": 3
   },
   "file_extension": ".py",
   "mimetype": "text/x-python",
   "name": "python",
   "nbconvert_exporter": "python",
   "pygments_lexer": "ipython3",
   "version": "3.11.5"
  }
 },
 "nbformat": 4,
 "nbformat_minor": 2
}
