{
 "cells": [
  {
   "cell_type": "code",
   "execution_count": 1,
   "metadata": {},
   "outputs": [],
   "source": [
    "import pandas as pd\n",
    "import numpy as np\n",
    "from sklearn.preprocessing import LabelEncoder"
   ]
  },
  {
   "cell_type": "markdown",
   "metadata": {},
   "source": [
    "## Data completeness"
   ]
  },
  {
   "cell_type": "code",
   "execution_count": 2,
   "metadata": {},
   "outputs": [],
   "source": [
    "df_clicks_train = pd.read_parquet('c:/Users/tanni/Desktop/rec_sys/Project/prepared_dataset_Nikita/reindexed_data/idea_data/df_clicks_train_indexed')"
   ]
  },
  {
   "cell_type": "code",
   "execution_count": 3,
   "metadata": {},
   "outputs": [
    {
     "data": {
      "text/html": [
       "<div>\n",
       "<style scoped>\n",
       "    .dataframe tbody tr th:only-of-type {\n",
       "        vertical-align: middle;\n",
       "    }\n",
       "\n",
       "    .dataframe tbody tr th {\n",
       "        vertical-align: top;\n",
       "    }\n",
       "\n",
       "    .dataframe thead th {\n",
       "        text-align: right;\n",
       "    }\n",
       "</style>\n",
       "<table border=\"1\" class=\"dataframe\">\n",
       "  <thead>\n",
       "    <tr style=\"text-align: right;\">\n",
       "      <th></th>\n",
       "      <th>session</th>\n",
       "      <th>aid</th>\n",
       "      <th>ts</th>\n",
       "      <th>session_encoded</th>\n",
       "      <th>aid_encoded</th>\n",
       "      <th>res_encoded</th>\n",
       "      <th>res_encoded_tfidf</th>\n",
       "      <th>pred</th>\n",
       "      <th>pred_tfidf</th>\n",
       "    </tr>\n",
       "  </thead>\n",
       "  <tbody>\n",
       "    <tr>\n",
       "      <th>0</th>\n",
       "      <td>0</td>\n",
       "      <td>1582117</td>\n",
       "      <td>1660244973157</td>\n",
       "      <td>0</td>\n",
       "      <td>660071</td>\n",
       "      <td>[756623, 447279, 767847, 309654, 278368, 51127...</td>\n",
       "      <td>[756623, 767847, 278368, 511274, 295778, 30965...</td>\n",
       "      <td>[1813509.0, 1072782.0, 1840418.0, 742592.0, 66...</td>\n",
       "      <td>[1813509.0, 1840418.0, 667924.0, 1226444.0, 70...</td>\n",
       "    </tr>\n",
       "    <tr>\n",
       "      <th>1</th>\n",
       "      <td>1</td>\n",
       "      <td>959544</td>\n",
       "      <td>1659991199405</td>\n",
       "      <td>1</td>\n",
       "      <td>400102</td>\n",
       "      <td>[723568, 44170, 299744, 89661, 365911, 742127,...</td>\n",
       "      <td>[723568, 89661, 44170, 299744, 356498, 20843, ...</td>\n",
       "      <td>[1734061.0, 105393.0, 718983.0, 215311.0, 8774...</td>\n",
       "      <td>[1734061.0, 215311.0, 105393.0, 718983.0, 8546...</td>\n",
       "    </tr>\n",
       "    <tr>\n",
       "      <th>2</th>\n",
       "      <td>3</td>\n",
       "      <td>54857</td>\n",
       "      <td>1660075780356</td>\n",
       "      <td>2</td>\n",
       "      <td>22877</td>\n",
       "      <td>[257579, 410617, 22877, 560279, 592905, 3539, ...</td>\n",
       "      <td>[410617, 22877, 257579, 408573, 754463, 240916...</td>\n",
       "      <td>[618373.0, 984459.0, 54857.0, 1343406.0, 14209...</td>\n",
       "      <td>[984459.0, 54857.0, 618373.0, 979687.0, 180835...</td>\n",
       "    </tr>\n",
       "    <tr>\n",
       "      <th>3</th>\n",
       "      <td>6</td>\n",
       "      <td>1329892</td>\n",
       "      <td>1659996712947</td>\n",
       "      <td>3</td>\n",
       "      <td>554595</td>\n",
       "      <td>[102928, 554595, 599982, 404320, 362899, 77393...</td>\n",
       "      <td>[102928, 554595, 404320, 599982, 44850, 773930...</td>\n",
       "      <td>[247477.0, 1329892.0, 1438169.0, 969717.0, 870...</td>\n",
       "      <td>[247477.0, 1329892.0, 969717.0, 1438169.0, 107...</td>\n",
       "    </tr>\n",
       "    <tr>\n",
       "      <th>4</th>\n",
       "      <td>7</td>\n",
       "      <td>129869</td>\n",
       "      <td>1660222041409</td>\n",
       "      <td>4</td>\n",
       "      <td>54267</td>\n",
       "      <td>[54267, 39989, 231436, 544107, 353385, 624719,...</td>\n",
       "      <td>[54267, 231436, 39989, 544107, 250768, 292773,...</td>\n",
       "      <td>[129869.0, 95488.0, 555948.0, 1304914.0, 84713...</td>\n",
       "      <td>[129869.0, 555948.0, 95488.0, 1304914.0, 60219...</td>\n",
       "    </tr>\n",
       "  </tbody>\n",
       "</table>\n",
       "</div>"
      ],
      "text/plain": [
       "   session      aid             ts  session_encoded  aid_encoded  \\\n",
       "0        0  1582117  1660244973157                0       660071   \n",
       "1        1   959544  1659991199405                1       400102   \n",
       "2        3    54857  1660075780356                2        22877   \n",
       "3        6  1329892  1659996712947                3       554595   \n",
       "4        7   129869  1660222041409                4        54267   \n",
       "\n",
       "                                         res_encoded  \\\n",
       "0  [756623, 447279, 767847, 309654, 278368, 51127...   \n",
       "1  [723568, 44170, 299744, 89661, 365911, 742127,...   \n",
       "2  [257579, 410617, 22877, 560279, 592905, 3539, ...   \n",
       "3  [102928, 554595, 599982, 404320, 362899, 77393...   \n",
       "4  [54267, 39989, 231436, 544107, 353385, 624719,...   \n",
       "\n",
       "                                   res_encoded_tfidf  \\\n",
       "0  [756623, 767847, 278368, 511274, 295778, 30965...   \n",
       "1  [723568, 89661, 44170, 299744, 356498, 20843, ...   \n",
       "2  [410617, 22877, 257579, 408573, 754463, 240916...   \n",
       "3  [102928, 554595, 404320, 599982, 44850, 773930...   \n",
       "4  [54267, 231436, 39989, 544107, 250768, 292773,...   \n",
       "\n",
       "                                                pred  \\\n",
       "0  [1813509.0, 1072782.0, 1840418.0, 742592.0, 66...   \n",
       "1  [1734061.0, 105393.0, 718983.0, 215311.0, 8774...   \n",
       "2  [618373.0, 984459.0, 54857.0, 1343406.0, 14209...   \n",
       "3  [247477.0, 1329892.0, 1438169.0, 969717.0, 870...   \n",
       "4  [129869.0, 95488.0, 555948.0, 1304914.0, 84713...   \n",
       "\n",
       "                                          pred_tfidf  \n",
       "0  [1813509.0, 1840418.0, 667924.0, 1226444.0, 70...  \n",
       "1  [1734061.0, 215311.0, 105393.0, 718983.0, 8546...  \n",
       "2  [984459.0, 54857.0, 618373.0, 979687.0, 180835...  \n",
       "3  [247477.0, 1329892.0, 969717.0, 1438169.0, 107...  \n",
       "4  [129869.0, 555948.0, 95488.0, 1304914.0, 60219...  "
      ]
     },
     "execution_count": 3,
     "metadata": {},
     "output_type": "execute_result"
    }
   ],
   "source": [
    "df_clicks_train.head()"
   ]
  },
  {
   "cell_type": "code",
   "execution_count": 36,
   "metadata": {},
   "outputs": [
    {
     "data": {
      "text/plain": [
       "array([1813509., 1840418.,  667924., 1226444.,  709417.,  742592.,\n",
       "       1225559., 1072782.,  709550.,  369224., 1407538.,  368671.,\n",
       "       1816325.,  175982., 1785321.,  197189.,  452936., 1562077.,\n",
       "       1236087.,  271193.,  279911., 1480079.,  507369., 1369378.,\n",
       "        481656.,  563653., 1629651.,  528847.,  810311.,  368266.,\n",
       "        426818., 1840615., 1081927.,  721252., 1554244., 1438491.,\n",
       "        572667., 1464241., 1852036., 1521766., 1561139.,   27116.,\n",
       "       1081239., 1791901.,  240346.,  840366.,  268919., 1201592.,\n",
       "        416502.,  149415.,  729170., 1624381., 1816774.,  977500.,\n",
       "       1107609.,  141664., 1539771., 1493088., 1251824., 1142924.,\n",
       "       1774881.,  409656., 1716786., 1335218., 1537102., 1788708.,\n",
       "       1799950., 1615079.,  810640.,  199983., 1649640., 1048044.,\n",
       "       1207659.,  819136., 1149615.,  298320.,  137301.,  636540.,\n",
       "        781953.,  226589.,  357021., 1052813., 1207397., 1531939.,\n",
       "       1660470.,  431255., 1725503.,  173702., 1214408., 1037441.,\n",
       "        523536., 1410262., 1512869., 1419814., 1787058., 1450148.,\n",
       "        618644., 1215054.,  553576., 1260586.,       0.])"
      ]
     },
     "execution_count": 36,
     "metadata": {},
     "output_type": "execute_result"
    }
   ],
   "source": [
    "df_clicks_train['pred_tfidf'][0]"
   ]
  },
  {
   "cell_type": "code",
   "execution_count": 12,
   "metadata": {},
   "outputs": [],
   "source": [
    "df_clicks_train.to_parquet(\"c:/Users/tanni/Desktop/rec_sys/Project/prepared_dataset_Nikita/reindexed_data/idea_data/df_clicks_train_for_colab\")"
   ]
  },
  {
   "cell_type": "code",
   "execution_count": 15,
   "metadata": {},
   "outputs": [],
   "source": [
    "df_clicks_train_unique = df_clicks_train.copy()"
   ]
  },
  {
   "cell_type": "code",
   "execution_count": 16,
   "metadata": {},
   "outputs": [],
   "source": [
    "df_clicks_train_unique['pred'] = df_clicks_train_unique['res_encoded'].apply(clicks_aid_encoder.inverse_transform)"
   ]
  },
  {
   "cell_type": "code",
   "execution_count": null,
   "metadata": {},
   "outputs": [],
   "source": [
    "df_clicks_train_unique['pred_tfidf'] = df_clicks_train_unique['res_encoded_tfidf'].apply(clicks_aid_encoder.inverse_transform)"
   ]
  },
  {
   "cell_type": "code",
   "execution_count": null,
   "metadata": {},
   "outputs": [],
   "source": [
    "df_clicks_train_unique.to_parquet('c:/Users/tanni/Desktop/rec_sys/Project/prepared_dataset_Nikita/reindexed_data/idea_data/df_clicks_train_indexed')"
   ]
  },
  {
   "cell_type": "code",
   "execution_count": 2,
   "metadata": {},
   "outputs": [],
   "source": [
    "df_clicks_train = pd.read_parquet('c:/Users/tanni/Desktop/rec_sys/Project/prepared_dataset_Nikita/reindexed_data/idea_data/df_clicks_train_indexed')"
   ]
  },
  {
   "cell_type": "code",
   "execution_count": 4,
   "metadata": {},
   "outputs": [],
   "source": [
    "def set_ranks(df: pd.DataFrame):\n",
    "    df_c = df.copy()\n",
    "    df_c[\"rank\"] = df_c.groupby(\"session\")[\"ts\"].rank(method=\"first\", ascending=True)\n",
    "    return df_c[[\"session\", \"aid\", \"rank\"]]"
   ]
  },
  {
   "cell_type": "code",
   "execution_count": 5,
   "metadata": {},
   "outputs": [],
   "source": [
    "df_clicks_r = set_ranks(df_clicks_train)\n",
    "#df_carts_r = set_ranks(df_carts_t)\n",
    "#df_orders_r = set_ranks(df_orders_t)"
   ]
  },
  {
   "cell_type": "code",
   "execution_count": 6,
   "metadata": {},
   "outputs": [],
   "source": [
    "def rank_stat(df_r: pd.DataFrame, ks: list):\n",
    "    df_mr = df_r.groupby(\"session\").agg(\"max\")[\"rank\"]\n",
    "    for k in ks:\n",
    "        cnt_me = len(df_mr[df_mr >= k])\n",
    "        print(f\"Users with more than {k} test items: {cnt_me} ({round(cnt_me / len(df_mr) * 100, 2)}%)\")"
   ]
  },
  {
   "cell_type": "code",
   "execution_count": 7,
   "metadata": {},
   "outputs": [
    {
     "name": "stdout",
     "output_type": "stream",
     "text": [
      "Users with more than 3 test items: 0 (0.0%)\n",
      "Users with more than 5 test items: 0 (0.0%)\n",
      "Users with more than 10 test items: 0 (0.0%)\n",
      "Users with more than 20 test items: 0 (0.0%)\n"
     ]
    }
   ],
   "source": [
    "rank_stat(df_clicks_r, [3, 5, 10, 20])"
   ]
  },
  {
   "cell_type": "code",
   "execution_count": 8,
   "metadata": {},
   "outputs": [],
   "source": [
    "#rank_stat(df_carts_r, [3, 5, 10, 20])"
   ]
  },
  {
   "cell_type": "code",
   "execution_count": 9,
   "metadata": {},
   "outputs": [],
   "source": [
    "#rank_stat(df_orders_r, [3, 5, 10, 20])"
   ]
  },
  {
   "cell_type": "markdown",
   "metadata": {},
   "source": [
    "# Metrics"
   ]
  },
  {
   "cell_type": "code",
   "execution_count": 10,
   "metadata": {},
   "outputs": [],
   "source": [
    "K_RECS = 200\n",
    "K_TEST = 5"
   ]
  },
  {
   "cell_type": "code",
   "execution_count": 11,
   "metadata": {},
   "outputs": [],
   "source": [
    "df_clicks_r = pd.read_parquet('c:/Users/tanni/Desktop/rec_sys/Project/prepared_dataset_Nikita/clicks/test')"
   ]
  },
  {
   "cell_type": "code",
   "execution_count": 12,
   "metadata": {},
   "outputs": [],
   "source": [
    "#df_carts_r = pd.read_parquet(\"data/carts/\")"
   ]
  },
  {
   "cell_type": "code",
   "execution_count": 13,
   "metadata": {},
   "outputs": [],
   "source": [
    "#df_orders_r = pd.read_parquet(\"data/orders/\")"
   ]
  },
  {
   "cell_type": "code",
   "execution_count": 14,
   "metadata": {},
   "outputs": [],
   "source": [
    "def extract_n_elements(row, n):\n",
    "    return np.pad(row[:n], (0, max(n - len(row), 0)), mode='constant', constant_values=-1)\n"
   ]
  },
  {
   "cell_type": "code",
   "execution_count": 19,
   "metadata": {},
   "outputs": [],
   "source": [
    "def prepare_data(df_test, df_recs, k_test, k_recs):\n",
    "    valid_session = np.intersect1d(\n",
    "        df_test[\"session\"].unique(),\n",
    "        df_recs[\"session\"].unique()\n",
    "    )\n",
    "\n",
    "    df_test_l = set_ranks(df_test)\n",
    "    df_test_l = df_test_l[df_test_l[\"session\"].isin(valid_session)]\n",
    "    df_test_l = df_test_l[df_test_l[\"rank\"] <= k_test]\n",
    "    df_test_l = df_test_l.groupby(\"session\")[\"aid\"].apply(list).reset_index().sort_values(\"session\")\n",
    "\n",
    "    df_test_l[\"aid\"] = (\n",
    "        df_test_l[\"aid\"]\n",
    "        .apply(lambda x: np.pad(\n",
    "            x[:k_test],\n",
    "            (0, max(k_test - len(x), 0)),\n",
    "            mode=\"constant\",\n",
    "            constant_values=-1\n",
    "        ))\n",
    "    )\n",
    "    test = np.stack(df_test_l[\"aid\"].values, axis=0)\n",
    "\n",
    "    df_recs_l = df_recs[df_recs[\"session\"].isin(valid_session)]\n",
    "    df_recs_l[\"modified_pred\"] = (\n",
    "        df_recs_l[\"pred\"]\n",
    "        .apply(lambda x: extract_n_elements(x, k_recs))\n",
    "    )\n",
    "    \n",
    "    recs = df_recs_l[\"modified_pred\"].tolist()\n",
    "\n",
    "    return test, np.array(recs)\n"
   ]
  },
  {
   "cell_type": "code",
   "execution_count": 20,
   "metadata": {},
   "outputs": [
    {
     "name": "stderr",
     "output_type": "stream",
     "text": [
      "C:\\Users\\tanni\\AppData\\Local\\Temp\\ipykernel_13840\\1135287424.py:24: SettingWithCopyWarning: \n",
      "A value is trying to be set on a copy of a slice from a DataFrame.\n",
      "Try using .loc[row_indexer,col_indexer] = value instead\n",
      "\n",
      "See the caveats in the documentation: https://pandas.pydata.org/pandas-docs/stable/user_guide/indexing.html#returning-a-view-versus-a-copy\n",
      "  df_recs_l[\"modified_pred\"] = (\n"
     ]
    }
   ],
   "source": [
    "test_clicks, recs_clicks = prepare_data(df_clicks_r, df_clicks_train, K_TEST, K_RECS)"
   ]
  },
  {
   "cell_type": "code",
   "execution_count": 21,
   "metadata": {},
   "outputs": [],
   "source": [
    "recs_clicks[recs_clicks == -1] = 0"
   ]
  },
  {
   "cell_type": "code",
   "execution_count": 23,
   "metadata": {},
   "outputs": [
    {
     "data": {
      "text/plain": [
       "(213272, 200)"
      ]
     },
     "execution_count": 23,
     "metadata": {},
     "output_type": "execute_result"
    }
   ],
   "source": [
    "recs_clicks.shape"
   ]
  },
  {
   "cell_type": "code",
   "execution_count": 24,
   "metadata": {},
   "outputs": [],
   "source": [
    "import numpy as np\n",
    "\n",
    "\n",
    "class Metrics:\n",
    "    def __init__(\n",
    "            self,\n",
    "            k: int,\n",
    "            recommendations: np.ndarray,\n",
    "            holdout: np.ndarray\n",
    "            ):\n",
    "        self.k = k\n",
    "        self.recommendations = recommendations[:, :k]\n",
    "        self.holdout = holdout\n",
    "\n",
    "    def report(self):\n",
    "        print(f\"HR@{self.k} = {round(self.hit_rate(), 4)}\")\n",
    "        print(f\"MRR@{self.k} = {round(self.mean_reciprocal_rank(), 4)}\")\n",
    "        print(f\"Recall@{self.k} = {round(self.recall(), 4)}\")\n",
    "\n",
    "    def hit_rate(self):\n",
    "        return (\n",
    "            self._get_hit_mask()\n",
    "            .any(axis=1)\n",
    "            .mean()\n",
    "        )\n",
    "\n",
    "    def mean_reciprocal_rank(self):\n",
    "        hits_mask = self._get_hit_mask()\n",
    "\n",
    "        idx = np.argwhere(hits_mask.argmax(axis=1)).squeeze(axis=1)\n",
    "\n",
    "        return np.sum(\n",
    "            1 / (hits_mask[idx].argmax(axis=1) + 1)\n",
    "        ) / hits_mask.shape[0]\n",
    "\n",
    "    def recall(self):\n",
    "        hits_mask = self._get_hit_mask()\n",
    "        return (\n",
    "            hits_mask.sum(axis=1) / self.recommendations.shape[1]\n",
    "        ).sum() / self.recommendations.shape[0]\n",
    "\n",
    "    def _get_hit_mask(self) -> np.ndarray:\n",
    "        return (\n",
    "            self.holdout[..., None] ==\n",
    "            np.expand_dims(self.recommendations, axis=1)\n",
    "        ).any(axis=1)"
   ]
  },
  {
   "cell_type": "code",
   "execution_count": 25,
   "metadata": {},
   "outputs": [
    {
     "name": "stdout",
     "output_type": "stream",
     "text": [
      "HR@200 = 0.0411\n",
      "MRR@200 = 0.0049\n",
      "Recall@200 = 0.0003\n",
      "None\n"
     ]
    }
   ],
   "source": [
    "#from rec_base import Metrics\n",
    "metrics_carts = Metrics(K_RECS, np.array(recs_clicks), test_clicks)\n",
    "print(metrics_carts.report())"
   ]
  },
  {
   "cell_type": "markdown",
   "metadata": {},
   "source": [
    "# Normalize"
   ]
  },
  {
   "cell_type": "code",
   "execution_count": 37,
   "metadata": {},
   "outputs": [],
   "source": [
    "def prepare_data(df_test, df_recs, k_test, k_recs):\n",
    "    valid_session = np.intersect1d(\n",
    "        df_test[\"session\"].unique(),\n",
    "        df_recs[\"session\"].unique()\n",
    "    )\n",
    "\n",
    "    df_test_l = set_ranks(df_test)\n",
    "    df_test_l = df_test_l[df_test_l[\"session\"].isin(valid_session)]\n",
    "    df_test_l = df_test_l[df_test_l[\"rank\"] <= k_test]\n",
    "    df_test_l = df_test_l.groupby(\"session\")[\"aid\"].apply(list).reset_index().sort_values(\"session\")\n",
    "\n",
    "    df_test_l[\"aid\"] = (\n",
    "        df_test_l[\"aid\"]\n",
    "        .apply(lambda x: np.pad(\n",
    "            x[:k_test],\n",
    "            (0, max(k_test - len(x), 0)),\n",
    "            mode=\"constant\",\n",
    "            constant_values=-1\n",
    "        ))\n",
    "    )\n",
    "    test = np.stack(df_test_l[\"aid\"].values, axis=0)\n",
    "\n",
    "    df_recs_l = df_recs[df_recs[\"session\"].isin(valid_session)]\n",
    "    df_recs_l[\"modified_pred\"] = (\n",
    "        df_recs_l[\"pred_tfidf\"]\n",
    "        .apply(lambda x: extract_n_elements(x, k_recs))\n",
    "    )\n",
    "    \n",
    "    recs = df_recs_l[\"modified_pred\"].tolist()\n",
    "\n",
    "    return test, np.array(recs)\n"
   ]
  },
  {
   "cell_type": "code",
   "execution_count": 38,
   "metadata": {},
   "outputs": [
    {
     "name": "stderr",
     "output_type": "stream",
     "text": [
      "C:\\Users\\tanni\\AppData\\Local\\Temp\\ipykernel_13840\\2228420266.py:24: SettingWithCopyWarning: \n",
      "A value is trying to be set on a copy of a slice from a DataFrame.\n",
      "Try using .loc[row_indexer,col_indexer] = value instead\n",
      "\n",
      "See the caveats in the documentation: https://pandas.pydata.org/pandas-docs/stable/user_guide/indexing.html#returning-a-view-versus-a-copy\n",
      "  df_recs_l[\"modified_pred\"] = (\n"
     ]
    }
   ],
   "source": [
    "test_clicks, recs_clicks = prepare_data(df_clicks_r, df_clicks_train, K_TEST, K_RECS)"
   ]
  },
  {
   "cell_type": "code",
   "execution_count": 39,
   "metadata": {},
   "outputs": [],
   "source": [
    "recs_clicks[recs_clicks == -1] = 0"
   ]
  },
  {
   "cell_type": "code",
   "execution_count": 40,
   "metadata": {},
   "outputs": [
    {
     "name": "stdout",
     "output_type": "stream",
     "text": [
      "HR@200 = 0.043\n",
      "MRR@200 = 0.0056\n",
      "Recall@200 = 0.0003\n",
      "None\n"
     ]
    }
   ],
   "source": [
    "metrics_carts = Metrics(K_RECS, np.array(recs_clicks), test_clicks)\n",
    "print(metrics_carts.report())"
   ]
  },
  {
   "cell_type": "code",
   "execution_count": 34,
   "metadata": {},
   "outputs": [
    {
     "data": {
      "text/plain": [
       "(200,)"
      ]
     },
     "execution_count": 34,
     "metadata": {},
     "output_type": "execute_result"
    }
   ],
   "source": [
    "recs_clicks[1].shape"
   ]
  },
  {
   "cell_type": "code",
   "execution_count": null,
   "metadata": {},
   "outputs": [],
   "source": []
  }
 ],
 "metadata": {
  "kernelspec": {
   "display_name": "study_env",
   "language": "python",
   "name": "python3"
  },
  "language_info": {
   "codemirror_mode": {
    "name": "ipython",
    "version": 3
   },
   "file_extension": ".py",
   "mimetype": "text/x-python",
   "name": "python",
   "nbconvert_exporter": "python",
   "pygments_lexer": "ipython3",
   "version": "3.11.7"
  }
 },
 "nbformat": 4,
 "nbformat_minor": 2
}
